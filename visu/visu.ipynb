{
 "cells": [
  {
   "cell_type": "markdown",
   "metadata": {},
   "source": [
    "# Analyse Youtube"
   ]
  },
  {
   "cell_type": "markdown",
   "metadata": {},
   "source": [
    "Nous allons analyser :\n",
    "* Quel est le type de vidéo le plus fréquent?\n",
    "* La distribution des vues, des likes, des commentaires et l'\"engagement\" est-il le même pour toutes les catégories?\n",
    "* Nous avons une distribution normale aux valeurs?\n",
    "* Quels sont les mots les plus fréquents dans le titre, la description, les tags?"
   ]
  },
  {
   "cell_type": "markdown",
   "metadata": {},
   "source": [
    "1. Import des modules\n",
    "2. Exploration initiale du jeu de données\n",
    "        2.1. Import des données dans un DataFrame\n",
    "        2.2. Nombre de colonnes et de lignes\n",
    "        2.3. Résumé du DataFrame\n",
    "        2.4. Nombre d'occurrences dans chaque colonne\n",
    "        2.5. Afficher les 5 premières lignes du dataframe\n",
    "        2.6. Afficher les 5 dernières lignes du dataframe\n",
    "        2.7. Statistiques\n",
    "3. test"
   ]
  },
  {
   "cell_type": "markdown",
   "metadata": {},
   "source": [
    "## 1. Import des modules"
   ]
  },
  {
   "cell_type": "code",
   "execution_count": 2,
   "metadata": {},
   "outputs": [],
   "source": [
    "import numpy as np\n",
    "import pandas as pd\n",
    "import matplotlib.pyplot as plt\n",
    "import seaborn as sns"
   ]
  },
  {
   "cell_type": "markdown",
   "metadata": {},
   "source": [
    "## 2. Exploration initiale du jeu de données"
   ]
  },
  {
   "cell_type": "markdown",
   "metadata": {},
   "source": [
    "Objectif : découvrir et planifier le traitement préliminaire requis"
   ]
  },
  {
   "cell_type": "markdown",
   "metadata": {},
   "source": [
    "Nous avons retenu un dataset au sujet de YouTube disponible sur le site Kaggle\n",
    "https://www.kaggle.com/datasnaek/youtube-new/"
   ]
  },
  {
   "cell_type": "markdown",
   "metadata": {},
   "source": [
    "### 2.1. Import des données dans un DataFrame"
   ]
  },
  {
   "cell_type": "code",
   "execution_count": 3,
   "metadata": {},
   "outputs": [],
   "source": [
    "#us_videos = pd.read_csv(\"data/USvideos.csv\", encoding=\"latin1\")"
   ]
  },
  {
   "cell_type": "code",
   "execution_count": 5,
   "metadata": {},
   "outputs": [],
   "source": [
    "fr_videos = pd.read_csv(\"../data/FRvideos.csv\")"
   ]
  },
  {
   "cell_type": "markdown",
   "metadata": {},
   "source": []
  },
  {
   "cell_type": "markdown",
   "metadata": {},
   "source": [
    "### 2.2. Nombre de colonnes et de lignes"
   ]
  },
  {
   "cell_type": "markdown",
   "metadata": {},
   "source": [
    "Avec .shape\n",
    "https://pandas.pydata.org/pandas-docs/stable/reference/api/pandas.DataFrame.shape.html"
   ]
  },
  {
   "cell_type": "code",
   "execution_count": 6,
   "metadata": {},
   "outputs": [
    {
     "data": {
      "text/plain": [
       "(40724, 16)"
      ]
     },
     "execution_count": 6,
     "metadata": {},
     "output_type": "execute_result"
    }
   ],
   "source": [
    "fr_videos.shape"
   ]
  },
  {
   "cell_type": "code",
   "execution_count": 11,
   "metadata": {},
   "outputs": [
    {
     "data": {
      "text/plain": [
       "RangeIndex(start=0, stop=40724, step=1)"
      ]
     },
     "execution_count": 11,
     "metadata": {},
     "output_type": "execute_result"
    }
   ],
   "source": [
    "fr_videos.index"
   ]
  },
  {
   "cell_type": "markdown",
   "metadata": {},
   "source": [
    "### 2.3. Résumé du Dataframe"
   ]
  },
  {
   "cell_type": "code",
   "execution_count": 12,
   "metadata": {
    "scrolled": false
   },
   "outputs": [
    {
     "data": {
      "text/plain": [
       "<bound method DataFrame.info of           video_id trending_date  \\\n",
       "0      Ro6eob0LrCY      17.14.11   \n",
       "1      Yo84eqYwP98      17.14.11   \n",
       "2      ceqntSXE-10      17.14.11   \n",
       "3      WuTFI5qftCE      17.14.11   \n",
       "4      ee6OFs8TdEg      17.14.11   \n",
       "...            ...           ...   \n",
       "40719  coVXf3Q9xBk      18.14.06   \n",
       "40720  _umkjOQJvtw      18.14.06   \n",
       "40721  nt25ec7nzIM      18.14.06   \n",
       "40722  NlxE_QQMRzg      18.14.06   \n",
       "40723  _LgKglfnqlc      18.14.06   \n",
       "\n",
       "                                                   title        channel_title  \\\n",
       "0               Malika LePen : Femme de Gauche - Trailer  Le Raptor Dissident   \n",
       "1      LA PIRE PARTIE ft Le Rire Jaune, Pierre Croce,...              Le Labo   \n",
       "2      DESSINS ANIMÉS FRANÇAIS VS RUSSES 2 - Daniil...      Daniil le Russe   \n",
       "3                        PAPY GRENIER - METAL GEAR SOLID    Joueur Du Grenier   \n",
       "4      QUI SAUTERA LE PLUS HAUT ? (VÉLO SKATE ROLLER ...    Aurelien Fontenoy   \n",
       "...                                                  ...                  ...   \n",
       "40719  عاجل و رسمي : الملف الأمريكي يفوز بشرف تنظيم ك...          KORA LOVERS   \n",
       "40720  شاهد ملخص البرلمان اليوم بحضور اخنوش الدي يعطي...            Jadal جدل   \n",
       "40721              UN ANIME EXPLOSIF A VOIR ABSOLUMENT !            RushManga   \n",
       "40722  Նռան հատիկ, Սերիա 192 / Pomegranate seed / Nra...       PanArmenian TV   \n",
       "40723              Mandoumbé ak Koor Gui 2018 Episode 28             Yesdakar   \n",
       "\n",
       "       category_id              publish_time  \\\n",
       "0               24  2017-11-13T17:32:55.000Z   \n",
       "1               24  2017-11-12T15:00:02.000Z   \n",
       "2               23  2017-11-13T17:00:38.000Z   \n",
       "3               20  2017-11-12T17:00:02.000Z   \n",
       "4               17  2017-11-13T16:30:03.000Z   \n",
       "...            ...                       ...   \n",
       "40719            1  2018-06-13T12:31:04.000Z   \n",
       "40720           25  2018-06-12T17:51:24.000Z   \n",
       "40721           22  2018-06-13T11:50:18.000Z   \n",
       "40722            1  2018-06-13T18:30:00.000Z   \n",
       "40723           24  2018-06-13T19:45:14.000Z   \n",
       "\n",
       "                                                    tags   views  likes  \\\n",
       "0      Raptor\"|\"Dissident\"|\"Expliquez\"|\"moi\"|\"cette\"|...  212702  29282   \n",
       "1                                                 [none]  432721  14053   \n",
       "2          cartoon\"|\"pokémon\"|\"école\"|\"ours\"|\"мультфильм  482153  76203   \n",
       "3      Papy grenier\"|\"Metal Gear Solid\"|\"PS1\"|\"Tirage...  925222  85016   \n",
       "4      vélo\"|\"vtt\"|\"bmx\"|\"freestyle\"|\"bike\"|\"mtb\"|\"di...  141695   8091   \n",
       "...                                                  ...     ...    ...   \n",
       "40719  تنظيم كأس العالم 2026|\"كأس العالم 2026\"|\"المغر...   58758    307   \n",
       "40720  الباكالوريا في المغرب|\"صحاب الباك\"|\"صحاب الباك...  264639   2011   \n",
       "40721  RushManga|\"rush manga\"|\"anime a voir\"|\"UN ANIM...   47510   4601   \n",
       "40722  Նռան հատիկ|\"Սերիա 192\"|\"Pomegranate seed\"|\"Nra...   78117    244   \n",
       "40723                  ramadan2018|\"koorgui\"|\"Mandoumbé\"   46604    947   \n",
       "\n",
       "       dislikes  comment_count  \\\n",
       "0          1108           3817   \n",
       "1           576           1161   \n",
       "2           477           9580   \n",
       "3           550           4303   \n",
       "4            72            481   \n",
       "...         ...            ...   \n",
       "40719        86            485   \n",
       "40720       999           1397   \n",
       "40721        61            615   \n",
       "40722        74             46   \n",
       "40723        37            127   \n",
       "\n",
       "                                       thumbnail_link  comments_disabled  \\\n",
       "0      https://i.ytimg.com/vi/Ro6eob0LrCY/default.jpg              False   \n",
       "1      https://i.ytimg.com/vi/Yo84eqYwP98/default.jpg              False   \n",
       "2      https://i.ytimg.com/vi/ceqntSXE-10/default.jpg              False   \n",
       "3      https://i.ytimg.com/vi/WuTFI5qftCE/default.jpg              False   \n",
       "4      https://i.ytimg.com/vi/ee6OFs8TdEg/default.jpg              False   \n",
       "...                                               ...                ...   \n",
       "40719  https://i.ytimg.com/vi/coVXf3Q9xBk/default.jpg              False   \n",
       "40720  https://i.ytimg.com/vi/_umkjOQJvtw/default.jpg              False   \n",
       "40721  https://i.ytimg.com/vi/nt25ec7nzIM/default.jpg              False   \n",
       "40722  https://i.ytimg.com/vi/NlxE_QQMRzg/default.jpg              False   \n",
       "40723  https://i.ytimg.com/vi/_LgKglfnqlc/default.jpg              False   \n",
       "\n",
       "       ratings_disabled  video_error_or_removed  \\\n",
       "0                 False                   False   \n",
       "1                 False                   False   \n",
       "2                 False                   False   \n",
       "3                 False                   False   \n",
       "4                 False                   False   \n",
       "...                 ...                     ...   \n",
       "40719             False                   False   \n",
       "40720             False                   False   \n",
       "40721             False                   False   \n",
       "40722             False                   False   \n",
       "40723             False                   False   \n",
       "\n",
       "                                             description  \n",
       "0      Dimanche.\\n18h30.\\nSoyez présents pour la vidé...  \n",
       "1      Le jeu de société: https://goo.gl/hhG1Ta\\n\\nGa...  \n",
       "2      Une nouvelle dose de dessins animés français e...  \n",
       "3      Nouvel ,épisode de Papy Grenier ! Ce mois-ci o...  \n",
       "4      Sauts à plus de 4 mètres de haut dans un tramp...  \n",
       "...                                                  ...  \n",
       "40719  المغرب تخسر تنظيم مونديال كاس العالم 2026 لصال...  \n",
       "40720  ملخص ابرز ما حصل في جلسة البرلمان يوم 12/06/20...  \n",
       "40721  •● Yozakura Quartet ~Hana no Uta~ ●•☆ S'abonne...  \n",
       "40722  Follow Armenia TV on social platforms:Instagra...  \n",
       "40723                                                NaN  \n",
       "\n",
       "[40724 rows x 16 columns]>"
      ]
     },
     "execution_count": 12,
     "metadata": {},
     "output_type": "execute_result"
    }
   ],
   "source": [
    "fr_videos.info"
   ]
  },
  {
   "cell_type": "markdown",
   "metadata": {},
   "source": [
    "### 2.4. Nombre d'occurrences dans chaque colonne"
   ]
  },
  {
   "cell_type": "markdown",
   "metadata": {},
   "source": [
    "Avec la méthode nunique\n",
    "* lister les valeurs différentes de la colonne pour laquelle on a groupé les éléments\n",
    "* indique le nombre d'occurrences de chaque élément"
   ]
  },
  {
   "cell_type": "markdown",
   "metadata": {},
   "source": [
    "https://pandas.pydata.org/pandas-docs/stable/reference/api/pandas.DataFrame.nunique.html"
   ]
  },
  {
   "cell_type": "code",
   "execution_count": 6,
   "metadata": {
    "scrolled": true
   },
   "outputs": [
    {
     "data": {
      "text/plain": [
       "video_id                  30581\n",
       "trending_date               205\n",
       "title                     30544\n",
       "channel_title              6680\n",
       "category_id                  18\n",
       "publish_time              29234\n",
       "tags                      22903\n",
       "views                     36442\n",
       "likes                     15618\n",
       "dislikes                   3736\n",
       "comment_count              5832\n",
       "thumbnail_link            30572\n",
       "comments_disabled             2\n",
       "ratings_disabled              2\n",
       "video_error_or_removed        2\n",
       "description               25002\n",
       "dtype: int64"
      ]
     },
     "execution_count": 6,
     "metadata": {},
     "output_type": "execute_result"
    }
   ],
   "source": [
    "fr_videos.nunique()"
   ]
  },
  {
   "cell_type": "markdown",
   "metadata": {},
   "source": [
    "il n'a que 30581 vidéos avec des id unique"
   ]
  },
  {
   "cell_type": "markdown",
   "metadata": {},
   "source": []
  },
  {
   "cell_type": "code",
   "execution_count": 7,
   "metadata": {},
   "outputs": [
    {
     "data": {
      "text/plain": [
       "pandas.core.frame.DataFrame"
      ]
     },
     "execution_count": 7,
     "metadata": {},
     "output_type": "execute_result"
    }
   ],
   "source": [
    "type(fr_videos)"
   ]
  },
  {
   "cell_type": "markdown",
   "metadata": {},
   "source": [
    "### 2.5. Afficher les 5 premières lignes du dataframe"
   ]
  },
  {
   "cell_type": "code",
   "execution_count": 14,
   "metadata": {
    "scrolled": false
   },
   "outputs": [
    {
     "data": {
      "text/html": [
       "<div>\n",
       "<style scoped>\n",
       "    .dataframe tbody tr th:only-of-type {\n",
       "        vertical-align: middle;\n",
       "    }\n",
       "\n",
       "    .dataframe tbody tr th {\n",
       "        vertical-align: top;\n",
       "    }\n",
       "\n",
       "    .dataframe thead th {\n",
       "        text-align: right;\n",
       "    }\n",
       "</style>\n",
       "<table border=\"1\" class=\"dataframe\">\n",
       "  <thead>\n",
       "    <tr style=\"text-align: right;\">\n",
       "      <th></th>\n",
       "      <th>video_id</th>\n",
       "      <th>trending_date</th>\n",
       "      <th>title</th>\n",
       "      <th>channel_title</th>\n",
       "      <th>category_id</th>\n",
       "      <th>publish_time</th>\n",
       "      <th>tags</th>\n",
       "      <th>views</th>\n",
       "      <th>likes</th>\n",
       "      <th>dislikes</th>\n",
       "      <th>comment_count</th>\n",
       "      <th>thumbnail_link</th>\n",
       "      <th>comments_disabled</th>\n",
       "      <th>ratings_disabled</th>\n",
       "      <th>video_error_or_removed</th>\n",
       "      <th>description</th>\n",
       "    </tr>\n",
       "  </thead>\n",
       "  <tbody>\n",
       "    <tr>\n",
       "      <th>0</th>\n",
       "      <td>Ro6eob0LrCY</td>\n",
       "      <td>17.14.11</td>\n",
       "      <td>Malika LePen : Femme de Gauche - Trailer</td>\n",
       "      <td>Le Raptor Dissident</td>\n",
       "      <td>24</td>\n",
       "      <td>2017-11-13T17:32:55.000Z</td>\n",
       "      <td>Raptor\"|\"Dissident\"|\"Expliquez\"|\"moi\"|\"cette\"|...</td>\n",
       "      <td>212702</td>\n",
       "      <td>29282</td>\n",
       "      <td>1108</td>\n",
       "      <td>3817</td>\n",
       "      <td>https://i.ytimg.com/vi/Ro6eob0LrCY/default.jpg</td>\n",
       "      <td>False</td>\n",
       "      <td>False</td>\n",
       "      <td>False</td>\n",
       "      <td>Dimanche.\\n18h30.\\nSoyez présents pour la vidé...</td>\n",
       "    </tr>\n",
       "    <tr>\n",
       "      <th>1</th>\n",
       "      <td>Yo84eqYwP98</td>\n",
       "      <td>17.14.11</td>\n",
       "      <td>LA PIRE PARTIE ft Le Rire Jaune, Pierre Croce,...</td>\n",
       "      <td>Le Labo</td>\n",
       "      <td>24</td>\n",
       "      <td>2017-11-12T15:00:02.000Z</td>\n",
       "      <td>[none]</td>\n",
       "      <td>432721</td>\n",
       "      <td>14053</td>\n",
       "      <td>576</td>\n",
       "      <td>1161</td>\n",
       "      <td>https://i.ytimg.com/vi/Yo84eqYwP98/default.jpg</td>\n",
       "      <td>False</td>\n",
       "      <td>False</td>\n",
       "      <td>False</td>\n",
       "      <td>Le jeu de société: https://goo.gl/hhG1Ta\\n\\nGa...</td>\n",
       "    </tr>\n",
       "    <tr>\n",
       "      <th>2</th>\n",
       "      <td>ceqntSXE-10</td>\n",
       "      <td>17.14.11</td>\n",
       "      <td>DESSINS ANIMÉS FRANÇAIS VS RUSSES 2 - Daniil...</td>\n",
       "      <td>Daniil le Russe</td>\n",
       "      <td>23</td>\n",
       "      <td>2017-11-13T17:00:38.000Z</td>\n",
       "      <td>cartoon\"|\"pokémon\"|\"école\"|\"ours\"|\"мультфильм</td>\n",
       "      <td>482153</td>\n",
       "      <td>76203</td>\n",
       "      <td>477</td>\n",
       "      <td>9580</td>\n",
       "      <td>https://i.ytimg.com/vi/ceqntSXE-10/default.jpg</td>\n",
       "      <td>False</td>\n",
       "      <td>False</td>\n",
       "      <td>False</td>\n",
       "      <td>Une nouvelle dose de dessins animés français e...</td>\n",
       "    </tr>\n",
       "    <tr>\n",
       "      <th>3</th>\n",
       "      <td>WuTFI5qftCE</td>\n",
       "      <td>17.14.11</td>\n",
       "      <td>PAPY GRENIER - METAL GEAR SOLID</td>\n",
       "      <td>Joueur Du Grenier</td>\n",
       "      <td>20</td>\n",
       "      <td>2017-11-12T17:00:02.000Z</td>\n",
       "      <td>Papy grenier\"|\"Metal Gear Solid\"|\"PS1\"|\"Tirage...</td>\n",
       "      <td>925222</td>\n",
       "      <td>85016</td>\n",
       "      <td>550</td>\n",
       "      <td>4303</td>\n",
       "      <td>https://i.ytimg.com/vi/WuTFI5qftCE/default.jpg</td>\n",
       "      <td>False</td>\n",
       "      <td>False</td>\n",
       "      <td>False</td>\n",
       "      <td>Nouvel ,épisode de Papy Grenier ! Ce mois-ci o...</td>\n",
       "    </tr>\n",
       "    <tr>\n",
       "      <th>4</th>\n",
       "      <td>ee6OFs8TdEg</td>\n",
       "      <td>17.14.11</td>\n",
       "      <td>QUI SAUTERA LE PLUS HAUT ? (VÉLO SKATE ROLLER ...</td>\n",
       "      <td>Aurelien Fontenoy</td>\n",
       "      <td>17</td>\n",
       "      <td>2017-11-13T16:30:03.000Z</td>\n",
       "      <td>vélo\"|\"vtt\"|\"bmx\"|\"freestyle\"|\"bike\"|\"mtb\"|\"di...</td>\n",
       "      <td>141695</td>\n",
       "      <td>8091</td>\n",
       "      <td>72</td>\n",
       "      <td>481</td>\n",
       "      <td>https://i.ytimg.com/vi/ee6OFs8TdEg/default.jpg</td>\n",
       "      <td>False</td>\n",
       "      <td>False</td>\n",
       "      <td>False</td>\n",
       "      <td>Sauts à plus de 4 mètres de haut dans un tramp...</td>\n",
       "    </tr>\n",
       "  </tbody>\n",
       "</table>\n",
       "</div>"
      ],
      "text/plain": [
       "      video_id trending_date  \\\n",
       "0  Ro6eob0LrCY      17.14.11   \n",
       "1  Yo84eqYwP98      17.14.11   \n",
       "2  ceqntSXE-10      17.14.11   \n",
       "3  WuTFI5qftCE      17.14.11   \n",
       "4  ee6OFs8TdEg      17.14.11   \n",
       "\n",
       "                                               title        channel_title  \\\n",
       "0           Malika LePen : Femme de Gauche - Trailer  Le Raptor Dissident   \n",
       "1  LA PIRE PARTIE ft Le Rire Jaune, Pierre Croce,...              Le Labo   \n",
       "2  DESSINS ANIMÉS FRANÇAIS VS RUSSES 2 - Daniil...      Daniil le Russe   \n",
       "3                    PAPY GRENIER - METAL GEAR SOLID    Joueur Du Grenier   \n",
       "4  QUI SAUTERA LE PLUS HAUT ? (VÉLO SKATE ROLLER ...    Aurelien Fontenoy   \n",
       "\n",
       "   category_id              publish_time  \\\n",
       "0           24  2017-11-13T17:32:55.000Z   \n",
       "1           24  2017-11-12T15:00:02.000Z   \n",
       "2           23  2017-11-13T17:00:38.000Z   \n",
       "3           20  2017-11-12T17:00:02.000Z   \n",
       "4           17  2017-11-13T16:30:03.000Z   \n",
       "\n",
       "                                                tags   views  likes  dislikes  \\\n",
       "0  Raptor\"|\"Dissident\"|\"Expliquez\"|\"moi\"|\"cette\"|...  212702  29282      1108   \n",
       "1                                             [none]  432721  14053       576   \n",
       "2      cartoon\"|\"pokémon\"|\"école\"|\"ours\"|\"мультфильм  482153  76203       477   \n",
       "3  Papy grenier\"|\"Metal Gear Solid\"|\"PS1\"|\"Tirage...  925222  85016       550   \n",
       "4  vélo\"|\"vtt\"|\"bmx\"|\"freestyle\"|\"bike\"|\"mtb\"|\"di...  141695   8091        72   \n",
       "\n",
       "   comment_count                                  thumbnail_link  \\\n",
       "0           3817  https://i.ytimg.com/vi/Ro6eob0LrCY/default.jpg   \n",
       "1           1161  https://i.ytimg.com/vi/Yo84eqYwP98/default.jpg   \n",
       "2           9580  https://i.ytimg.com/vi/ceqntSXE-10/default.jpg   \n",
       "3           4303  https://i.ytimg.com/vi/WuTFI5qftCE/default.jpg   \n",
       "4            481  https://i.ytimg.com/vi/ee6OFs8TdEg/default.jpg   \n",
       "\n",
       "   comments_disabled  ratings_disabled  video_error_or_removed  \\\n",
       "0              False             False                   False   \n",
       "1              False             False                   False   \n",
       "2              False             False                   False   \n",
       "3              False             False                   False   \n",
       "4              False             False                   False   \n",
       "\n",
       "                                         description  \n",
       "0  Dimanche.\\n18h30.\\nSoyez présents pour la vidé...  \n",
       "1  Le jeu de société: https://goo.gl/hhG1Ta\\n\\nGa...  \n",
       "2  Une nouvelle dose de dessins animés français e...  \n",
       "3  Nouvel ,épisode de Papy Grenier ! Ce mois-ci o...  \n",
       "4  Sauts à plus de 4 mètres de haut dans un tramp...  "
      ]
     },
     "execution_count": 14,
     "metadata": {},
     "output_type": "execute_result"
    }
   ],
   "source": [
    "fr_videos.head()"
   ]
  },
  {
   "cell_type": "markdown",
   "metadata": {},
   "source": [
    "### 2.6. Afficher les 5 dernières lignes du dataframe"
   ]
  },
  {
   "cell_type": "code",
   "execution_count": 15,
   "metadata": {
    "scrolled": true
   },
   "outputs": [
    {
     "data": {
      "text/html": [
       "<div>\n",
       "<style scoped>\n",
       "    .dataframe tbody tr th:only-of-type {\n",
       "        vertical-align: middle;\n",
       "    }\n",
       "\n",
       "    .dataframe tbody tr th {\n",
       "        vertical-align: top;\n",
       "    }\n",
       "\n",
       "    .dataframe thead th {\n",
       "        text-align: right;\n",
       "    }\n",
       "</style>\n",
       "<table border=\"1\" class=\"dataframe\">\n",
       "  <thead>\n",
       "    <tr style=\"text-align: right;\">\n",
       "      <th></th>\n",
       "      <th>video_id</th>\n",
       "      <th>trending_date</th>\n",
       "      <th>title</th>\n",
       "      <th>channel_title</th>\n",
       "      <th>category_id</th>\n",
       "      <th>publish_time</th>\n",
       "      <th>tags</th>\n",
       "      <th>views</th>\n",
       "      <th>likes</th>\n",
       "      <th>dislikes</th>\n",
       "      <th>comment_count</th>\n",
       "      <th>thumbnail_link</th>\n",
       "      <th>comments_disabled</th>\n",
       "      <th>ratings_disabled</th>\n",
       "      <th>video_error_or_removed</th>\n",
       "      <th>description</th>\n",
       "    </tr>\n",
       "  </thead>\n",
       "  <tbody>\n",
       "    <tr>\n",
       "      <th>40719</th>\n",
       "      <td>coVXf3Q9xBk</td>\n",
       "      <td>18.14.06</td>\n",
       "      <td>عاجل و رسمي : الملف الأمريكي يفوز بشرف تنظيم ك...</td>\n",
       "      <td>KORA LOVERS</td>\n",
       "      <td>1</td>\n",
       "      <td>2018-06-13T12:31:04.000Z</td>\n",
       "      <td>تنظيم كأس العالم 2026|\"كأس العالم 2026\"|\"المغر...</td>\n",
       "      <td>58758</td>\n",
       "      <td>307</td>\n",
       "      <td>86</td>\n",
       "      <td>485</td>\n",
       "      <td>https://i.ytimg.com/vi/coVXf3Q9xBk/default.jpg</td>\n",
       "      <td>False</td>\n",
       "      <td>False</td>\n",
       "      <td>False</td>\n",
       "      <td>المغرب تخسر تنظيم مونديال كاس العالم 2026 لصال...</td>\n",
       "    </tr>\n",
       "    <tr>\n",
       "      <th>40720</th>\n",
       "      <td>_umkjOQJvtw</td>\n",
       "      <td>18.14.06</td>\n",
       "      <td>شاهد ملخص البرلمان اليوم بحضور اخنوش الدي يعطي...</td>\n",
       "      <td>Jadal جدل</td>\n",
       "      <td>25</td>\n",
       "      <td>2018-06-12T17:51:24.000Z</td>\n",
       "      <td>الباكالوريا في المغرب|\"صحاب الباك\"|\"صحاب الباك...</td>\n",
       "      <td>264639</td>\n",
       "      <td>2011</td>\n",
       "      <td>999</td>\n",
       "      <td>1397</td>\n",
       "      <td>https://i.ytimg.com/vi/_umkjOQJvtw/default.jpg</td>\n",
       "      <td>False</td>\n",
       "      <td>False</td>\n",
       "      <td>False</td>\n",
       "      <td>ملخص ابرز ما حصل في جلسة البرلمان يوم 12/06/20...</td>\n",
       "    </tr>\n",
       "    <tr>\n",
       "      <th>40721</th>\n",
       "      <td>nt25ec7nzIM</td>\n",
       "      <td>18.14.06</td>\n",
       "      <td>UN ANIME EXPLOSIF A VOIR ABSOLUMENT !</td>\n",
       "      <td>RushManga</td>\n",
       "      <td>22</td>\n",
       "      <td>2018-06-13T11:50:18.000Z</td>\n",
       "      <td>RushManga|\"rush manga\"|\"anime a voir\"|\"UN ANIM...</td>\n",
       "      <td>47510</td>\n",
       "      <td>4601</td>\n",
       "      <td>61</td>\n",
       "      <td>615</td>\n",
       "      <td>https://i.ytimg.com/vi/nt25ec7nzIM/default.jpg</td>\n",
       "      <td>False</td>\n",
       "      <td>False</td>\n",
       "      <td>False</td>\n",
       "      <td>•● Yozakura Quartet ~Hana no Uta~ ●•☆ S'abonne...</td>\n",
       "    </tr>\n",
       "    <tr>\n",
       "      <th>40722</th>\n",
       "      <td>NlxE_QQMRzg</td>\n",
       "      <td>18.14.06</td>\n",
       "      <td>Նռան հատիկ, Սերիա 192 / Pomegranate seed / Nra...</td>\n",
       "      <td>PanArmenian TV</td>\n",
       "      <td>1</td>\n",
       "      <td>2018-06-13T18:30:00.000Z</td>\n",
       "      <td>Նռան հատիկ|\"Սերիա 192\"|\"Pomegranate seed\"|\"Nra...</td>\n",
       "      <td>78117</td>\n",
       "      <td>244</td>\n",
       "      <td>74</td>\n",
       "      <td>46</td>\n",
       "      <td>https://i.ytimg.com/vi/NlxE_QQMRzg/default.jpg</td>\n",
       "      <td>False</td>\n",
       "      <td>False</td>\n",
       "      <td>False</td>\n",
       "      <td>Follow Armenia TV on social platforms:Instagra...</td>\n",
       "    </tr>\n",
       "    <tr>\n",
       "      <th>40723</th>\n",
       "      <td>_LgKglfnqlc</td>\n",
       "      <td>18.14.06</td>\n",
       "      <td>Mandoumbé ak Koor Gui 2018 Episode 28</td>\n",
       "      <td>Yesdakar</td>\n",
       "      <td>24</td>\n",
       "      <td>2018-06-13T19:45:14.000Z</td>\n",
       "      <td>ramadan2018|\"koorgui\"|\"Mandoumbé\"</td>\n",
       "      <td>46604</td>\n",
       "      <td>947</td>\n",
       "      <td>37</td>\n",
       "      <td>127</td>\n",
       "      <td>https://i.ytimg.com/vi/_LgKglfnqlc/default.jpg</td>\n",
       "      <td>False</td>\n",
       "      <td>False</td>\n",
       "      <td>False</td>\n",
       "      <td>NaN</td>\n",
       "    </tr>\n",
       "  </tbody>\n",
       "</table>\n",
       "</div>"
      ],
      "text/plain": [
       "          video_id trending_date  \\\n",
       "40719  coVXf3Q9xBk      18.14.06   \n",
       "40720  _umkjOQJvtw      18.14.06   \n",
       "40721  nt25ec7nzIM      18.14.06   \n",
       "40722  NlxE_QQMRzg      18.14.06   \n",
       "40723  _LgKglfnqlc      18.14.06   \n",
       "\n",
       "                                                   title   channel_title  \\\n",
       "40719  عاجل و رسمي : الملف الأمريكي يفوز بشرف تنظيم ك...     KORA LOVERS   \n",
       "40720  شاهد ملخص البرلمان اليوم بحضور اخنوش الدي يعطي...       Jadal جدل   \n",
       "40721              UN ANIME EXPLOSIF A VOIR ABSOLUMENT !       RushManga   \n",
       "40722  Նռան հատիկ, Սերիա 192 / Pomegranate seed / Nra...  PanArmenian TV   \n",
       "40723              Mandoumbé ak Koor Gui 2018 Episode 28        Yesdakar   \n",
       "\n",
       "       category_id              publish_time  \\\n",
       "40719            1  2018-06-13T12:31:04.000Z   \n",
       "40720           25  2018-06-12T17:51:24.000Z   \n",
       "40721           22  2018-06-13T11:50:18.000Z   \n",
       "40722            1  2018-06-13T18:30:00.000Z   \n",
       "40723           24  2018-06-13T19:45:14.000Z   \n",
       "\n",
       "                                                    tags   views  likes  \\\n",
       "40719  تنظيم كأس العالم 2026|\"كأس العالم 2026\"|\"المغر...   58758    307   \n",
       "40720  الباكالوريا في المغرب|\"صحاب الباك\"|\"صحاب الباك...  264639   2011   \n",
       "40721  RushManga|\"rush manga\"|\"anime a voir\"|\"UN ANIM...   47510   4601   \n",
       "40722  Նռան հատիկ|\"Սերիա 192\"|\"Pomegranate seed\"|\"Nra...   78117    244   \n",
       "40723                  ramadan2018|\"koorgui\"|\"Mandoumbé\"   46604    947   \n",
       "\n",
       "       dislikes  comment_count  \\\n",
       "40719        86            485   \n",
       "40720       999           1397   \n",
       "40721        61            615   \n",
       "40722        74             46   \n",
       "40723        37            127   \n",
       "\n",
       "                                       thumbnail_link  comments_disabled  \\\n",
       "40719  https://i.ytimg.com/vi/coVXf3Q9xBk/default.jpg              False   \n",
       "40720  https://i.ytimg.com/vi/_umkjOQJvtw/default.jpg              False   \n",
       "40721  https://i.ytimg.com/vi/nt25ec7nzIM/default.jpg              False   \n",
       "40722  https://i.ytimg.com/vi/NlxE_QQMRzg/default.jpg              False   \n",
       "40723  https://i.ytimg.com/vi/_LgKglfnqlc/default.jpg              False   \n",
       "\n",
       "       ratings_disabled  video_error_or_removed  \\\n",
       "40719             False                   False   \n",
       "40720             False                   False   \n",
       "40721             False                   False   \n",
       "40722             False                   False   \n",
       "40723             False                   False   \n",
       "\n",
       "                                             description  \n",
       "40719  المغرب تخسر تنظيم مونديال كاس العالم 2026 لصال...  \n",
       "40720  ملخص ابرز ما حصل في جلسة البرلمان يوم 12/06/20...  \n",
       "40721  •● Yozakura Quartet ~Hana no Uta~ ●•☆ S'abonne...  \n",
       "40722  Follow Armenia TV on social platforms:Instagra...  \n",
       "40723                                                NaN  "
      ]
     },
     "execution_count": 15,
     "metadata": {},
     "output_type": "execute_result"
    }
   ],
   "source": [
    "fr_videos.tail()"
   ]
  },
  {
   "cell_type": "markdown",
   "metadata": {},
   "source": [
    "### 2.7. Statistiques"
   ]
  },
  {
   "cell_type": "markdown",
   "metadata": {},
   "source": [
    "df.describe() = Affiche le sommaire statistique du dataframe"
   ]
  },
  {
   "cell_type": "code",
   "execution_count": 16,
   "metadata": {
    "scrolled": false
   },
   "outputs": [
    {
     "data": {
      "text/html": [
       "<div>\n",
       "<style scoped>\n",
       "    .dataframe tbody tr th:only-of-type {\n",
       "        vertical-align: middle;\n",
       "    }\n",
       "\n",
       "    .dataframe tbody tr th {\n",
       "        vertical-align: top;\n",
       "    }\n",
       "\n",
       "    .dataframe thead th {\n",
       "        text-align: right;\n",
       "    }\n",
       "</style>\n",
       "<table border=\"1\" class=\"dataframe\">\n",
       "  <thead>\n",
       "    <tr style=\"text-align: right;\">\n",
       "      <th></th>\n",
       "      <th>category_id</th>\n",
       "      <th>views</th>\n",
       "      <th>likes</th>\n",
       "      <th>dislikes</th>\n",
       "      <th>comment_count</th>\n",
       "    </tr>\n",
       "  </thead>\n",
       "  <tbody>\n",
       "    <tr>\n",
       "      <th>count</th>\n",
       "      <td>40724.000000</td>\n",
       "      <td>4.072400e+04</td>\n",
       "      <td>4.072400e+04</td>\n",
       "      <td>4.072400e+04</td>\n",
       "      <td>4.072400e+04</td>\n",
       "    </tr>\n",
       "    <tr>\n",
       "      <th>mean</th>\n",
       "      <td>20.123809</td>\n",
       "      <td>4.199219e+05</td>\n",
       "      <td>1.738886e+04</td>\n",
       "      <td>8.149624e+02</td>\n",
       "      <td>1.832453e+03</td>\n",
       "    </tr>\n",
       "    <tr>\n",
       "      <th>std</th>\n",
       "      <td>6.984422</td>\n",
       "      <td>1.772130e+06</td>\n",
       "      <td>8.720509e+04</td>\n",
       "      <td>1.139219e+04</td>\n",
       "      <td>1.404321e+04</td>\n",
       "    </tr>\n",
       "    <tr>\n",
       "      <th>min</th>\n",
       "      <td>1.000000</td>\n",
       "      <td>2.230000e+02</td>\n",
       "      <td>0.000000e+00</td>\n",
       "      <td>0.000000e+00</td>\n",
       "      <td>0.000000e+00</td>\n",
       "    </tr>\n",
       "    <tr>\n",
       "      <th>25%</th>\n",
       "      <td>17.000000</td>\n",
       "      <td>1.697450e+04</td>\n",
       "      <td>3.380000e+02</td>\n",
       "      <td>1.800000e+01</td>\n",
       "      <td>5.600000e+01</td>\n",
       "    </tr>\n",
       "    <tr>\n",
       "      <th>50%</th>\n",
       "      <td>23.000000</td>\n",
       "      <td>7.372100e+04</td>\n",
       "      <td>1.892500e+03</td>\n",
       "      <td>8.300000e+01</td>\n",
       "      <td>2.350000e+02</td>\n",
       "    </tr>\n",
       "    <tr>\n",
       "      <th>75%</th>\n",
       "      <td>24.000000</td>\n",
       "      <td>2.708088e+05</td>\n",
       "      <td>7.969500e+03</td>\n",
       "      <td>3.350000e+02</td>\n",
       "      <td>8.410000e+02</td>\n",
       "    </tr>\n",
       "    <tr>\n",
       "      <th>max</th>\n",
       "      <td>44.000000</td>\n",
       "      <td>1.009116e+08</td>\n",
       "      <td>4.750254e+06</td>\n",
       "      <td>1.353661e+06</td>\n",
       "      <td>1.040912e+06</td>\n",
       "    </tr>\n",
       "  </tbody>\n",
       "</table>\n",
       "</div>"
      ],
      "text/plain": [
       "        category_id         views         likes      dislikes  comment_count\n",
       "count  40724.000000  4.072400e+04  4.072400e+04  4.072400e+04   4.072400e+04\n",
       "mean      20.123809  4.199219e+05  1.738886e+04  8.149624e+02   1.832453e+03\n",
       "std        6.984422  1.772130e+06  8.720509e+04  1.139219e+04   1.404321e+04\n",
       "min        1.000000  2.230000e+02  0.000000e+00  0.000000e+00   0.000000e+00\n",
       "25%       17.000000  1.697450e+04  3.380000e+02  1.800000e+01   5.600000e+01\n",
       "50%       23.000000  7.372100e+04  1.892500e+03  8.300000e+01   2.350000e+02\n",
       "75%       24.000000  2.708088e+05  7.969500e+03  3.350000e+02   8.410000e+02\n",
       "max       44.000000  1.009116e+08  4.750254e+06  1.353661e+06   1.040912e+06"
      ]
     },
     "execution_count": 16,
     "metadata": {},
     "output_type": "execute_result"
    }
   ],
   "source": [
    "fr_videos.describe()"
   ]
  },
  {
   "cell_type": "markdown",
   "metadata": {},
   "source": [
    "### Permet d’afficher les valeurs de façon unique et de les compter."
   ]
  },
  {
   "cell_type": "markdown",
   "metadata": {},
   "source": [
    "s.value_counts()"
   ]
  },
  {
   "cell_type": "code",
   "execution_count": 18,
   "metadata": {},
   "outputs": [
    {
     "data": {
      "text/plain": [
       "Rter-Np-Td0    6\n",
       "55b8JEmoBTk    5\n",
       "4dSKZeAIsHY    5\n",
       "engRKCpYXnY    5\n",
       "dq6G2YWoRqA    5\n",
       "              ..\n",
       "MkWGimTCnBU    1\n",
       "BkVdJ90HHT4    1\n",
       "PNdhDyCfcKA    1\n",
       "LPBEPNmSlec    1\n",
       "Qa9HgvfLFnY    1\n",
       "Name: video_id, Length: 30581, dtype: int64"
      ]
     },
     "execution_count": 18,
     "metadata": {},
     "output_type": "execute_result"
    }
   ],
   "source": [
    "fr_videos.iloc[:,0].value_counts()"
   ]
  },
  {
   "cell_type": "markdown",
   "metadata": {},
   "source": [
    "### corrélation"
   ]
  },
  {
   "cell_type": "markdown",
   "metadata": {},
   "source": [
    "df.corr() = Renvoie une matrice de corrélation pour chaque variable entre elles. \n",
    "Plus la valeur se rapproche de 1, plus la corrélation est forte."
   ]
  },
  {
   "cell_type": "code",
   "execution_count": 23,
   "metadata": {},
   "outputs": [
    {
     "data": {
      "text/html": [
       "<div>\n",
       "<style scoped>\n",
       "    .dataframe tbody tr th:only-of-type {\n",
       "        vertical-align: middle;\n",
       "    }\n",
       "\n",
       "    .dataframe tbody tr th {\n",
       "        vertical-align: top;\n",
       "    }\n",
       "\n",
       "    .dataframe thead th {\n",
       "        text-align: right;\n",
       "    }\n",
       "</style>\n",
       "<table border=\"1\" class=\"dataframe\">\n",
       "  <thead>\n",
       "    <tr style=\"text-align: right;\">\n",
       "      <th></th>\n",
       "      <th>category_id</th>\n",
       "      <th>views</th>\n",
       "      <th>likes</th>\n",
       "      <th>dislikes</th>\n",
       "      <th>comment_count</th>\n",
       "      <th>comments_disabled</th>\n",
       "      <th>ratings_disabled</th>\n",
       "      <th>video_error_or_removed</th>\n",
       "    </tr>\n",
       "  </thead>\n",
       "  <tbody>\n",
       "    <tr>\n",
       "      <th>category_id</th>\n",
       "      <td>1.000000</td>\n",
       "      <td>-0.083139</td>\n",
       "      <td>-0.087377</td>\n",
       "      <td>-0.014931</td>\n",
       "      <td>-0.042850</td>\n",
       "      <td>0.038518</td>\n",
       "      <td>0.000589</td>\n",
       "      <td>-0.020990</td>\n",
       "    </tr>\n",
       "    <tr>\n",
       "      <th>views</th>\n",
       "      <td>-0.083139</td>\n",
       "      <td>1.000000</td>\n",
       "      <td>0.812569</td>\n",
       "      <td>0.586997</td>\n",
       "      <td>0.708161</td>\n",
       "      <td>-0.003317</td>\n",
       "      <td>-0.000780</td>\n",
       "      <td>0.000163</td>\n",
       "    </tr>\n",
       "    <tr>\n",
       "      <th>likes</th>\n",
       "      <td>-0.087377</td>\n",
       "      <td>0.812569</td>\n",
       "      <td>1.000000</td>\n",
       "      <td>0.450548</td>\n",
       "      <td>0.849647</td>\n",
       "      <td>-0.024617</td>\n",
       "      <td>-0.026447</td>\n",
       "      <td>-0.000397</td>\n",
       "    </tr>\n",
       "    <tr>\n",
       "      <th>dislikes</th>\n",
       "      <td>-0.014931</td>\n",
       "      <td>0.586997</td>\n",
       "      <td>0.450548</td>\n",
       "      <td>1.000000</td>\n",
       "      <td>0.664893</td>\n",
       "      <td>-0.007674</td>\n",
       "      <td>-0.009488</td>\n",
       "      <td>-0.000566</td>\n",
       "    </tr>\n",
       "    <tr>\n",
       "      <th>comment_count</th>\n",
       "      <td>-0.042850</td>\n",
       "      <td>0.708161</td>\n",
       "      <td>0.849647</td>\n",
       "      <td>0.664893</td>\n",
       "      <td>1.000000</td>\n",
       "      <td>-0.019494</td>\n",
       "      <td>-0.015685</td>\n",
       "      <td>-0.001340</td>\n",
       "    </tr>\n",
       "    <tr>\n",
       "      <th>comments_disabled</th>\n",
       "      <td>0.038518</td>\n",
       "      <td>-0.003317</td>\n",
       "      <td>-0.024617</td>\n",
       "      <td>-0.007674</td>\n",
       "      <td>-0.019494</td>\n",
       "      <td>1.000000</td>\n",
       "      <td>0.473975</td>\n",
       "      <td>-0.003473</td>\n",
       "    </tr>\n",
       "    <tr>\n",
       "      <th>ratings_disabled</th>\n",
       "      <td>0.000589</td>\n",
       "      <td>-0.000780</td>\n",
       "      <td>-0.026447</td>\n",
       "      <td>-0.009488</td>\n",
       "      <td>-0.015685</td>\n",
       "      <td>0.473975</td>\n",
       "      <td>1.000000</td>\n",
       "      <td>-0.003084</td>\n",
       "    </tr>\n",
       "    <tr>\n",
       "      <th>video_error_or_removed</th>\n",
       "      <td>-0.020990</td>\n",
       "      <td>0.000163</td>\n",
       "      <td>-0.000397</td>\n",
       "      <td>-0.000566</td>\n",
       "      <td>-0.001340</td>\n",
       "      <td>-0.003473</td>\n",
       "      <td>-0.003084</td>\n",
       "      <td>1.000000</td>\n",
       "    </tr>\n",
       "  </tbody>\n",
       "</table>\n",
       "</div>"
      ],
      "text/plain": [
       "                        category_id     views     likes  dislikes  \\\n",
       "category_id                1.000000 -0.083139 -0.087377 -0.014931   \n",
       "views                     -0.083139  1.000000  0.812569  0.586997   \n",
       "likes                     -0.087377  0.812569  1.000000  0.450548   \n",
       "dislikes                  -0.014931  0.586997  0.450548  1.000000   \n",
       "comment_count             -0.042850  0.708161  0.849647  0.664893   \n",
       "comments_disabled          0.038518 -0.003317 -0.024617 -0.007674   \n",
       "ratings_disabled           0.000589 -0.000780 -0.026447 -0.009488   \n",
       "video_error_or_removed    -0.020990  0.000163 -0.000397 -0.000566   \n",
       "\n",
       "                        comment_count  comments_disabled  ratings_disabled  \\\n",
       "category_id                 -0.042850           0.038518          0.000589   \n",
       "views                        0.708161          -0.003317         -0.000780   \n",
       "likes                        0.849647          -0.024617         -0.026447   \n",
       "dislikes                     0.664893          -0.007674         -0.009488   \n",
       "comment_count                1.000000          -0.019494         -0.015685   \n",
       "comments_disabled           -0.019494           1.000000          0.473975   \n",
       "ratings_disabled            -0.015685           0.473975          1.000000   \n",
       "video_error_or_removed      -0.001340          -0.003473         -0.003084   \n",
       "\n",
       "                        video_error_or_removed  \n",
       "category_id                          -0.020990  \n",
       "views                                 0.000163  \n",
       "likes                                -0.000397  \n",
       "dislikes                             -0.000566  \n",
       "comment_count                        -0.001340  \n",
       "comments_disabled                    -0.003473  \n",
       "ratings_disabled                     -0.003084  \n",
       "video_error_or_removed                1.000000  "
      ]
     },
     "execution_count": 23,
     "metadata": {},
     "output_type": "execute_result"
    }
   ],
   "source": [
    "fr_videos.corr()"
   ]
  },
  {
   "cell_type": "markdown",
   "metadata": {},
   "source": [
    "les views : likes, comment et dislikes\n",
    "les likes avec : les views les comment_count et les dislikes\n",
    "les comment avec : les likes et les views, les dislikes"
   ]
  },
  {
   "cell_type": "markdown",
   "metadata": {},
   "source": [
    "### SEABORN distplot"
   ]
  },
  {
   "cell_type": "markdown",
   "metadata": {},
   "source": [
    "distplot  permet non seulement de visualiser l'histogramme d'un échantillon, mais aussi d'estimer la distribution dont l'échantillon est issu.\n",
    "https://openclassrooms.com/fr/courses/4452741-decouvrez-les-librairies-python-pour-la-data-science/5559011-realisez-de-beaux-graphiques-avec-seaborn"
   ]
  },
  {
   "cell_type": "code",
   "execution_count": 56,
   "metadata": {},
   "outputs": [
    {
     "data": {
      "text/plain": [
       "<matplotlib.axes._subplots.AxesSubplot at 0x1ea14656788>"
      ]
     },
     "execution_count": 56,
     "metadata": {},
     "output_type": "execute_result"
    },
    {
     "data": {
      "image/png": "[encoded data removed]",
      "text/plain": [
       "<Figure size 432x288 with 1 Axes>"
      ]
     },
     "metadata": {
      "needs_background": "light"
     },
     "output_type": "display_data"
    }
   ],
   "source": [
    "%matplotlib inline\n",
    "\n",
    "sns.distplot(fr_videos['views'])"
   ]
  },
  {
   "cell_type": "code",
   "execution_count": null,
   "metadata": {},
   "outputs": [
    {
     "name": "stderr",
     "output_type": "stream",
     "text": [
      "C:\\ProgramData\\Anaconda3\\lib\\site-packages\\seaborn\\axisgrid.py:2065: UserWarning: The `size` parameter has been renamed to `height`; pleaes update your code.\n",
      "  warnings.warn(msg, UserWarning)\n",
      "C:\\ProgramData\\Anaconda3\\lib\\site-packages\\numpy\\core\\_methods.py:217: RuntimeWarning: Degrees of freedom <= 0 for slice\n",
      "  keepdims=keepdims)\n",
      "C:\\ProgramData\\Anaconda3\\lib\\site-packages\\numpy\\core\\_methods.py:209: RuntimeWarning: invalid value encountered in double_scalars\n",
      "  ret = ret.dtype.type(ret / rcount)\n",
      "C:\\ProgramData\\Anaconda3\\lib\\site-packages\\statsmodels\\nonparametric\\kde.py:487: RuntimeWarning: invalid value encountered in true_divide\n",
      "  binned = fast_linbin(X, a, b, gridsize) / (delta * nobs)\n",
      "C:\\ProgramData\\Anaconda3\\lib\\site-packages\\statsmodels\\nonparametric\\kdetools.py:34: RuntimeWarning: invalid value encountered in double_scalars\n",
      "  FAC1 = 2*(np.pi*bw/RANGE)**2\n"
     ]
    }
   ],
   "source": [
    "sns.pairplot(fr_videos, hue='views', size=2.5);"
   ]
  },
  {
   "cell_type": "markdown",
   "metadata": {},
   "source": [
    "### les minimums"
   ]
  },
  {
   "cell_type": "markdown",
   "metadata": {},
   "source": [
    "df.min() = Renvoie les valeurs minimales de chaque colonne"
   ]
  },
  {
   "cell_type": "code",
   "execution_count": 25,
   "metadata": {},
   "outputs": [
    {
     "data": {
      "text/plain": [
       "video_id                                                     --2K8l6BWfw\n",
       "trending_date                                                   17.01.12\n",
       "title                      Désolé je ne vous avais pas vu !  😱 👎 ✶ DO 65\n",
       "channel_title                                               #AndresSTyle\n",
       "category_id                                                            1\n",
       "publish_time                                    2009-03-22T19:58:05.000Z\n",
       "tags                                                            #13hFoot\n",
       "views                                                                223\n",
       "likes                                                                  0\n",
       "dislikes                                                               0\n",
       "comment_count                                                          0\n",
       "thumbnail_link            https://i.ytimg.com/vi/--2K8l6BWfw/default.jpg\n",
       "comments_disabled                                                  False\n",
       "ratings_disabled                                                   False\n",
       "video_error_or_removed                                             False\n",
       "dtype: object"
      ]
     },
     "execution_count": 25,
     "metadata": {},
     "output_type": "execute_result"
    }
   ],
   "source": [
    "fr_videos.min()"
   ]
  },
  {
   "cell_type": "markdown",
   "metadata": {},
   "source": [
    "## Traitements\n"
   ]
  },
  {
   "cell_type": "markdown",
   "metadata": {},
   "source": [
    "### Supprime toutes les lignes qui contiennent des valeurs null"
   ]
  },
  {
   "cell_type": "code",
   "execution_count": 20,
   "metadata": {},
   "outputs": [
    {
     "data": {
      "text/html": [
       "<div>\n",
       "<style scoped>\n",
       "    .dataframe tbody tr th:only-of-type {\n",
       "        vertical-align: middle;\n",
       "    }\n",
       "\n",
       "    .dataframe tbody tr th {\n",
       "        vertical-align: top;\n",
       "    }\n",
       "\n",
       "    .dataframe thead th {\n",
       "        text-align: right;\n",
       "    }\n",
       "</style>\n",
       "<table border=\"1\" class=\"dataframe\">\n",
       "  <thead>\n",
       "    <tr style=\"text-align: right;\">\n",
       "      <th></th>\n",
       "      <th>video_id</th>\n",
       "      <th>trending_date</th>\n",
       "      <th>title</th>\n",
       "      <th>channel_title</th>\n",
       "      <th>category_id</th>\n",
       "      <th>publish_time</th>\n",
       "      <th>tags</th>\n",
       "      <th>views</th>\n",
       "      <th>likes</th>\n",
       "      <th>dislikes</th>\n",
       "      <th>comment_count</th>\n",
       "      <th>thumbnail_link</th>\n",
       "      <th>comments_disabled</th>\n",
       "      <th>ratings_disabled</th>\n",
       "      <th>video_error_or_removed</th>\n",
       "    </tr>\n",
       "  </thead>\n",
       "  <tbody>\n",
       "    <tr>\n",
       "      <th>0</th>\n",
       "      <td>Ro6eob0LrCY</td>\n",
       "      <td>17.14.11</td>\n",
       "      <td>Malika LePen : Femme de Gauche - Trailer</td>\n",
       "      <td>Le Raptor Dissident</td>\n",
       "      <td>24</td>\n",
       "      <td>2017-11-13T17:32:55.000Z</td>\n",
       "      <td>Raptor\"|\"Dissident\"|\"Expliquez\"|\"moi\"|\"cette\"|...</td>\n",
       "      <td>212702</td>\n",
       "      <td>29282</td>\n",
       "      <td>1108</td>\n",
       "      <td>3817</td>\n",
       "      <td>https://i.ytimg.com/vi/Ro6eob0LrCY/default.jpg</td>\n",
       "      <td>False</td>\n",
       "      <td>False</td>\n",
       "      <td>False</td>\n",
       "    </tr>\n",
       "    <tr>\n",
       "      <th>1</th>\n",
       "      <td>Yo84eqYwP98</td>\n",
       "      <td>17.14.11</td>\n",
       "      <td>LA PIRE PARTIE ft Le Rire Jaune, Pierre Croce,...</td>\n",
       "      <td>Le Labo</td>\n",
       "      <td>24</td>\n",
       "      <td>2017-11-12T15:00:02.000Z</td>\n",
       "      <td>[none]</td>\n",
       "      <td>432721</td>\n",
       "      <td>14053</td>\n",
       "      <td>576</td>\n",
       "      <td>1161</td>\n",
       "      <td>https://i.ytimg.com/vi/Yo84eqYwP98/default.jpg</td>\n",
       "      <td>False</td>\n",
       "      <td>False</td>\n",
       "      <td>False</td>\n",
       "    </tr>\n",
       "    <tr>\n",
       "      <th>2</th>\n",
       "      <td>ceqntSXE-10</td>\n",
       "      <td>17.14.11</td>\n",
       "      <td>DESSINS ANIMÉS FRANÇAIS VS RUSSES 2 - Daniil...</td>\n",
       "      <td>Daniil le Russe</td>\n",
       "      <td>23</td>\n",
       "      <td>2017-11-13T17:00:38.000Z</td>\n",
       "      <td>cartoon\"|\"pokémon\"|\"école\"|\"ours\"|\"мультфильм</td>\n",
       "      <td>482153</td>\n",
       "      <td>76203</td>\n",
       "      <td>477</td>\n",
       "      <td>9580</td>\n",
       "      <td>https://i.ytimg.com/vi/ceqntSXE-10/default.jpg</td>\n",
       "      <td>False</td>\n",
       "      <td>False</td>\n",
       "      <td>False</td>\n",
       "    </tr>\n",
       "    <tr>\n",
       "      <th>3</th>\n",
       "      <td>WuTFI5qftCE</td>\n",
       "      <td>17.14.11</td>\n",
       "      <td>PAPY GRENIER - METAL GEAR SOLID</td>\n",
       "      <td>Joueur Du Grenier</td>\n",
       "      <td>20</td>\n",
       "      <td>2017-11-12T17:00:02.000Z</td>\n",
       "      <td>Papy grenier\"|\"Metal Gear Solid\"|\"PS1\"|\"Tirage...</td>\n",
       "      <td>925222</td>\n",
       "      <td>85016</td>\n",
       "      <td>550</td>\n",
       "      <td>4303</td>\n",
       "      <td>https://i.ytimg.com/vi/WuTFI5qftCE/default.jpg</td>\n",
       "      <td>False</td>\n",
       "      <td>False</td>\n",
       "      <td>False</td>\n",
       "    </tr>\n",
       "    <tr>\n",
       "      <th>4</th>\n",
       "      <td>ee6OFs8TdEg</td>\n",
       "      <td>17.14.11</td>\n",
       "      <td>QUI SAUTERA LE PLUS HAUT ? (VÉLO SKATE ROLLER ...</td>\n",
       "      <td>Aurelien Fontenoy</td>\n",
       "      <td>17</td>\n",
       "      <td>2017-11-13T16:30:03.000Z</td>\n",
       "      <td>vélo\"|\"vtt\"|\"bmx\"|\"freestyle\"|\"bike\"|\"mtb\"|\"di...</td>\n",
       "      <td>141695</td>\n",
       "      <td>8091</td>\n",
       "      <td>72</td>\n",
       "      <td>481</td>\n",
       "      <td>https://i.ytimg.com/vi/ee6OFs8TdEg/default.jpg</td>\n",
       "      <td>False</td>\n",
       "      <td>False</td>\n",
       "      <td>False</td>\n",
       "    </tr>\n",
       "    <tr>\n",
       "      <th>...</th>\n",
       "      <td>...</td>\n",
       "      <td>...</td>\n",
       "      <td>...</td>\n",
       "      <td>...</td>\n",
       "      <td>...</td>\n",
       "      <td>...</td>\n",
       "      <td>...</td>\n",
       "      <td>...</td>\n",
       "      <td>...</td>\n",
       "      <td>...</td>\n",
       "      <td>...</td>\n",
       "      <td>...</td>\n",
       "      <td>...</td>\n",
       "      <td>...</td>\n",
       "      <td>...</td>\n",
       "    </tr>\n",
       "    <tr>\n",
       "      <th>40719</th>\n",
       "      <td>coVXf3Q9xBk</td>\n",
       "      <td>18.14.06</td>\n",
       "      <td>عاجل و رسمي : الملف الأمريكي يفوز بشرف تنظيم ك...</td>\n",
       "      <td>KORA LOVERS</td>\n",
       "      <td>1</td>\n",
       "      <td>2018-06-13T12:31:04.000Z</td>\n",
       "      <td>تنظيم كأس العالم 2026|\"كأس العالم 2026\"|\"المغر...</td>\n",
       "      <td>58758</td>\n",
       "      <td>307</td>\n",
       "      <td>86</td>\n",
       "      <td>485</td>\n",
       "      <td>https://i.ytimg.com/vi/coVXf3Q9xBk/default.jpg</td>\n",
       "      <td>False</td>\n",
       "      <td>False</td>\n",
       "      <td>False</td>\n",
       "    </tr>\n",
       "    <tr>\n",
       "      <th>40720</th>\n",
       "      <td>_umkjOQJvtw</td>\n",
       "      <td>18.14.06</td>\n",
       "      <td>شاهد ملخص البرلمان اليوم بحضور اخنوش الدي يعطي...</td>\n",
       "      <td>Jadal جدل</td>\n",
       "      <td>25</td>\n",
       "      <td>2018-06-12T17:51:24.000Z</td>\n",
       "      <td>الباكالوريا في المغرب|\"صحاب الباك\"|\"صحاب الباك...</td>\n",
       "      <td>264639</td>\n",
       "      <td>2011</td>\n",
       "      <td>999</td>\n",
       "      <td>1397</td>\n",
       "      <td>https://i.ytimg.com/vi/_umkjOQJvtw/default.jpg</td>\n",
       "      <td>False</td>\n",
       "      <td>False</td>\n",
       "      <td>False</td>\n",
       "    </tr>\n",
       "    <tr>\n",
       "      <th>40721</th>\n",
       "      <td>nt25ec7nzIM</td>\n",
       "      <td>18.14.06</td>\n",
       "      <td>UN ANIME EXPLOSIF A VOIR ABSOLUMENT !</td>\n",
       "      <td>RushManga</td>\n",
       "      <td>22</td>\n",
       "      <td>2018-06-13T11:50:18.000Z</td>\n",
       "      <td>RushManga|\"rush manga\"|\"anime a voir\"|\"UN ANIM...</td>\n",
       "      <td>47510</td>\n",
       "      <td>4601</td>\n",
       "      <td>61</td>\n",
       "      <td>615</td>\n",
       "      <td>https://i.ytimg.com/vi/nt25ec7nzIM/default.jpg</td>\n",
       "      <td>False</td>\n",
       "      <td>False</td>\n",
       "      <td>False</td>\n",
       "    </tr>\n",
       "    <tr>\n",
       "      <th>40722</th>\n",
       "      <td>NlxE_QQMRzg</td>\n",
       "      <td>18.14.06</td>\n",
       "      <td>Նռան հատիկ, Սերիա 192 / Pomegranate seed / Nra...</td>\n",
       "      <td>PanArmenian TV</td>\n",
       "      <td>1</td>\n",
       "      <td>2018-06-13T18:30:00.000Z</td>\n",
       "      <td>Նռան հատիկ|\"Սերիա 192\"|\"Pomegranate seed\"|\"Nra...</td>\n",
       "      <td>78117</td>\n",
       "      <td>244</td>\n",
       "      <td>74</td>\n",
       "      <td>46</td>\n",
       "      <td>https://i.ytimg.com/vi/NlxE_QQMRzg/default.jpg</td>\n",
       "      <td>False</td>\n",
       "      <td>False</td>\n",
       "      <td>False</td>\n",
       "    </tr>\n",
       "    <tr>\n",
       "      <th>40723</th>\n",
       "      <td>_LgKglfnqlc</td>\n",
       "      <td>18.14.06</td>\n",
       "      <td>Mandoumbé ak Koor Gui 2018 Episode 28</td>\n",
       "      <td>Yesdakar</td>\n",
       "      <td>24</td>\n",
       "      <td>2018-06-13T19:45:14.000Z</td>\n",
       "      <td>ramadan2018|\"koorgui\"|\"Mandoumbé\"</td>\n",
       "      <td>46604</td>\n",
       "      <td>947</td>\n",
       "      <td>37</td>\n",
       "      <td>127</td>\n",
       "      <td>https://i.ytimg.com/vi/_LgKglfnqlc/default.jpg</td>\n",
       "      <td>False</td>\n",
       "      <td>False</td>\n",
       "      <td>False</td>\n",
       "    </tr>\n",
       "  </tbody>\n",
       "</table>\n",
       "<p>40724 rows × 15 columns</p>\n",
       "</div>"
      ],
      "text/plain": [
       "          video_id trending_date  \\\n",
       "0      Ro6eob0LrCY      17.14.11   \n",
       "1      Yo84eqYwP98      17.14.11   \n",
       "2      ceqntSXE-10      17.14.11   \n",
       "3      WuTFI5qftCE      17.14.11   \n",
       "4      ee6OFs8TdEg      17.14.11   \n",
       "...            ...           ...   \n",
       "40719  coVXf3Q9xBk      18.14.06   \n",
       "40720  _umkjOQJvtw      18.14.06   \n",
       "40721  nt25ec7nzIM      18.14.06   \n",
       "40722  NlxE_QQMRzg      18.14.06   \n",
       "40723  _LgKglfnqlc      18.14.06   \n",
       "\n",
       "                                                   title        channel_title  \\\n",
       "0               Malika LePen : Femme de Gauche - Trailer  Le Raptor Dissident   \n",
       "1      LA PIRE PARTIE ft Le Rire Jaune, Pierre Croce,...              Le Labo   \n",
       "2      DESSINS ANIMÉS FRANÇAIS VS RUSSES 2 - Daniil...      Daniil le Russe   \n",
       "3                        PAPY GRENIER - METAL GEAR SOLID    Joueur Du Grenier   \n",
       "4      QUI SAUTERA LE PLUS HAUT ? (VÉLO SKATE ROLLER ...    Aurelien Fontenoy   \n",
       "...                                                  ...                  ...   \n",
       "40719  عاجل و رسمي : الملف الأمريكي يفوز بشرف تنظيم ك...          KORA LOVERS   \n",
       "40720  شاهد ملخص البرلمان اليوم بحضور اخنوش الدي يعطي...            Jadal جدل   \n",
       "40721              UN ANIME EXPLOSIF A VOIR ABSOLUMENT !            RushManga   \n",
       "40722  Նռան հատիկ, Սերիա 192 / Pomegranate seed / Nra...       PanArmenian TV   \n",
       "40723              Mandoumbé ak Koor Gui 2018 Episode 28             Yesdakar   \n",
       "\n",
       "       category_id              publish_time  \\\n",
       "0               24  2017-11-13T17:32:55.000Z   \n",
       "1               24  2017-11-12T15:00:02.000Z   \n",
       "2               23  2017-11-13T17:00:38.000Z   \n",
       "3               20  2017-11-12T17:00:02.000Z   \n",
       "4               17  2017-11-13T16:30:03.000Z   \n",
       "...            ...                       ...   \n",
       "40719            1  2018-06-13T12:31:04.000Z   \n",
       "40720           25  2018-06-12T17:51:24.000Z   \n",
       "40721           22  2018-06-13T11:50:18.000Z   \n",
       "40722            1  2018-06-13T18:30:00.000Z   \n",
       "40723           24  2018-06-13T19:45:14.000Z   \n",
       "\n",
       "                                                    tags   views  likes  \\\n",
       "0      Raptor\"|\"Dissident\"|\"Expliquez\"|\"moi\"|\"cette\"|...  212702  29282   \n",
       "1                                                 [none]  432721  14053   \n",
       "2          cartoon\"|\"pokémon\"|\"école\"|\"ours\"|\"мультфильм  482153  76203   \n",
       "3      Papy grenier\"|\"Metal Gear Solid\"|\"PS1\"|\"Tirage...  925222  85016   \n",
       "4      vélo\"|\"vtt\"|\"bmx\"|\"freestyle\"|\"bike\"|\"mtb\"|\"di...  141695   8091   \n",
       "...                                                  ...     ...    ...   \n",
       "40719  تنظيم كأس العالم 2026|\"كأس العالم 2026\"|\"المغر...   58758    307   \n",
       "40720  الباكالوريا في المغرب|\"صحاب الباك\"|\"صحاب الباك...  264639   2011   \n",
       "40721  RushManga|\"rush manga\"|\"anime a voir\"|\"UN ANIM...   47510   4601   \n",
       "40722  Նռան հատիկ|\"Սերիա 192\"|\"Pomegranate seed\"|\"Nra...   78117    244   \n",
       "40723                  ramadan2018|\"koorgui\"|\"Mandoumbé\"   46604    947   \n",
       "\n",
       "       dislikes  comment_count  \\\n",
       "0          1108           3817   \n",
       "1           576           1161   \n",
       "2           477           9580   \n",
       "3           550           4303   \n",
       "4            72            481   \n",
       "...         ...            ...   \n",
       "40719        86            485   \n",
       "40720       999           1397   \n",
       "40721        61            615   \n",
       "40722        74             46   \n",
       "40723        37            127   \n",
       "\n",
       "                                       thumbnail_link  comments_disabled  \\\n",
       "0      https://i.ytimg.com/vi/Ro6eob0LrCY/default.jpg              False   \n",
       "1      https://i.ytimg.com/vi/Yo84eqYwP98/default.jpg              False   \n",
       "2      https://i.ytimg.com/vi/ceqntSXE-10/default.jpg              False   \n",
       "3      https://i.ytimg.com/vi/WuTFI5qftCE/default.jpg              False   \n",
       "4      https://i.ytimg.com/vi/ee6OFs8TdEg/default.jpg              False   \n",
       "...                                               ...                ...   \n",
       "40719  https://i.ytimg.com/vi/coVXf3Q9xBk/default.jpg              False   \n",
       "40720  https://i.ytimg.com/vi/_umkjOQJvtw/default.jpg              False   \n",
       "40721  https://i.ytimg.com/vi/nt25ec7nzIM/default.jpg              False   \n",
       "40722  https://i.ytimg.com/vi/NlxE_QQMRzg/default.jpg              False   \n",
       "40723  https://i.ytimg.com/vi/_LgKglfnqlc/default.jpg              False   \n",
       "\n",
       "       ratings_disabled  video_error_or_removed  \n",
       "0                 False                   False  \n",
       "1                 False                   False  \n",
       "2                 False                   False  \n",
       "3                 False                   False  \n",
       "4                 False                   False  \n",
       "...                 ...                     ...  \n",
       "40719             False                   False  \n",
       "40720             False                   False  \n",
       "40721             False                   False  \n",
       "40722             False                   False  \n",
       "40723             False                   False  \n",
       "\n",
       "[40724 rows x 15 columns]"
      ]
     },
     "execution_count": 20,
     "metadata": {},
     "output_type": "execute_result"
    }
   ],
   "source": [
    "fr_videos.dropna(axis=1)"
   ]
  },
  {
   "cell_type": "code",
   "execution_count": 22,
   "metadata": {
    "scrolled": true
   },
   "outputs": [
    {
     "data": {
      "text/plain": [
       "(40724, 16)"
      ]
     },
     "execution_count": 22,
     "metadata": {},
     "output_type": "execute_result"
    }
   ],
   "source": [
    "fr_videos.shape"
   ]
  },
  {
   "cell_type": "markdown",
   "metadata": {},
   "source": [
    "### Distribution normale"
   ]
  },
  {
   "cell_type": "markdown",
   "metadata": {},
   "source": [
    "mise à l'échelle avec : Logarithme népérien (ou logarithme naturel)\n",
    "Le logarithme népérien (ou naturel), noté ln ⁡ ( x ) {\\displaystyle \\ln(x)} \\ln(x), qui utilise le nombre e comme base, est fondamental en analyse mathématique car il est la fonction réciproque de la fonction exponentielle ;\n",
    "transforme les produits en sommes\n",
    "np.log\n",
    "https://fr.wikipedia.org/wiki/Logarithme_naturel"
   ]
  },
  {
   "cell_type": "code",
   "execution_count": 34,
   "metadata": {},
   "outputs": [
    {
     "data": {
      "image/png": "[encoded data removed]",
      "text/plain": [
       "<Figure size 864x432 with 4 Axes>"
      ]
     },
     "metadata": {
      "needs_background": "light"
     },
     "output_type": "display_data"
    }
   ],
   "source": [
    "fr_videos['likes_log'] = np.log(fr_videos['likes'] + 1)\n",
    "fr_videos['views_log'] = np.log(fr_videos['views'] + 1)\n",
    "fr_videos['dislikes_log'] = np.log(fr_videos['dislikes'] + 1)\n",
    "fr_videos['comment_log'] = np.log(fr_videos['comment_count'] + 1)\n",
    "\n",
    "plt.figure(figsize = (12,6))\n",
    "\n",
    "plt.subplot(221)\n",
    "g1 = sns.distplot(fr_videos['views_log'])\n",
    "g1.set_title(\"Distribution des vues\", fontsize=16)\n",
    "\n",
    "plt.subplot(224)\n",
    "g2 = sns.distplot(fr_videos['likes_log'],color='green')\n",
    "g2.set_title('Distribution des likes', fontsize=16)\n",
    "\n",
    "plt.subplot(223)\n",
    "g3 = sns.distplot(fr_videos['dislikes_log'], color='r')\n",
    "g3.set_title(\"Distribution des 'DISLIKES'\", fontsize=16)\n",
    "\n",
    "plt.subplot(222)\n",
    "g4 = sns.distplot(fr_videos['comment_log'])\n",
    "g4.set_title(\"Distribution des commentaires\", fontsize=16)\n",
    "\n",
    "plt.subplots_adjust(wspace = 0.2, hspace = 0.4,top = 0.9)\n",
    "\n",
    "plt.show()"
   ]
  },
  {
   "cell_type": "markdown",
   "metadata": {},
   "source": [
    "### Les quantiles"
   ]
  },
  {
   "cell_type": "code",
   "execution_count": 31,
   "metadata": {},
   "outputs": [
    {
     "name": "stdout",
     "output_type": "stream",
     "text": [
      "Views quantiles\n",
      "0.01       1968.00\n",
      "0.25      16974.50\n",
      "0.50      73721.00\n",
      "0.75     270808.75\n",
      "0.99    5542747.50\n",
      "Name: views, dtype: float64\n",
      "\n",
      "Likes quantiles\n",
      "0.01         0.00\n",
      "0.25       338.00\n",
      "0.50      1892.50\n",
      "0.75      7969.50\n",
      "0.99    279285.49\n",
      "Name: likes, dtype: float64\n",
      "\n",
      "Dislikes quantiles\n",
      "0.01        0.00\n",
      "0.25       18.00\n",
      "0.50       83.00\n",
      "0.75      335.00\n",
      "0.99    10648.31\n",
      "Name: dislikes, dtype: float64\n",
      "\n",
      "Comment quantiles\n",
      "0.01        0.00\n",
      "0.25       56.00\n",
      "0.50      235.00\n",
      "0.75      841.00\n",
      "0.99    28076.48\n",
      "Name: comment_count, dtype: float64\n"
     ]
    }
   ],
   "source": [
    "print(\"Views quantiles\")\n",
    "print(fr_videos['views'].quantile([.01,.25,.5,.75,.99]))\n",
    "print(\"\")\n",
    "print(\"Likes quantiles\")\n",
    "print(fr_videos['likes'].quantile([.01,.25,.5,.75,.99]))\n",
    "print(\"\")\n",
    "print(\"Dislikes quantiles\")\n",
    "print(fr_videos['dislikes'].quantile([.01,.25,.5,.75,.99]))\n",
    "print(\"\")\n",
    "print(\"Comment quantiles\")\n",
    "print(fr_videos['comment_count'].quantile([.01,.25,.5,.75,.99]))"
   ]
  },
  {
   "cell_type": "markdown",
   "metadata": {},
   "source": [
    "### Ajout des catégories"
   ]
  },
  {
   "cell_type": "code",
   "execution_count": 39,
   "metadata": {},
   "outputs": [],
   "source": [
    "#fr_cat = pd.read_json(\"data/FR_category_id.json\")"
   ]
  },
  {
   "cell_type": "code",
   "execution_count": null,
   "metadata": {},
   "outputs": [],
   "source": [
    "cat_fr = pd.read_json(\"data/FR_category_id.json\")"
   ]
  },
  {
   "cell_type": "code",
   "execution_count": 40,
   "metadata": {},
   "outputs": [
    {
     "name": "stdout",
     "output_type": "stream",
     "text": [
      "['Film & Animation', 'Autos & Vehicles', 'Music', 'Pets & Animals', 'Sports', 'Short Movies', 'Travel & Events', 'Gaming', 'Videoblogging', 'People & Blogs', 'Comedy', 'Entertainment', 'News & Politics', 'Howto & Style', 'Education', 'Science & Technology', 'Movies', 'Anime/Animation', 'Action/Adventure', 'Classics', 'Comedy', 'Documentary', 'Drama', 'Family', 'Foreign', 'Horror', 'Sci-Fi/Fantasy', 'Thriller', 'Shorts', 'Shows', 'Trailers']\n"
     ]
    }
   ],
   "source": [
    "fr_cat_list = []\n",
    "for x in range(cat_fr.shape[0]):\n",
    "    d = fr_cat.iloc[x,2][\"snippet\"][\"title\"]\n",
    "    fr_cat_list.append(d)\n",
    "print(fr_cat_list)"
   ]
  },
  {
   "cell_type": "code",
   "execution_count": 41,
   "metadata": {},
   "outputs": [
    {
     "name": "stderr",
     "output_type": "stream",
     "text": [
      "C:\\ProgramData\\Anaconda3\\lib\\site-packages\\ipykernel_launcher.py:4: SettingWithCopyWarning: \n",
      "A value is trying to be set on a copy of a slice from a DataFrame\n",
      "\n",
      "See the caveats in the documentation: http://pandas.pydata.org/pandas-docs/stable/user_guide/indexing.html#returning-a-view-versus-a-copy\n",
      "  after removing the cwd from sys.path.\n"
     ]
    }
   ],
   "source": [
    "fr_videos[\"category\"] = \"\"\n",
    "for x in range(len(fr_cat_list)):\n",
    "    filtre = fr_videos[\"category_id\"] == x\n",
    "    fr_videos[\"category\"][filtre] = fr_cat_list[x]"
   ]
  },
  {
   "cell_type": "code",
   "execution_count": 42,
   "metadata": {},
   "outputs": [
    {
     "data": {
      "text/html": [
       "<div>\n",
       "<style scoped>\n",
       "    .dataframe tbody tr th:only-of-type {\n",
       "        vertical-align: middle;\n",
       "    }\n",
       "\n",
       "    .dataframe tbody tr th {\n",
       "        vertical-align: top;\n",
       "    }\n",
       "\n",
       "    .dataframe thead th {\n",
       "        text-align: right;\n",
       "    }\n",
       "</style>\n",
       "<table border=\"1\" class=\"dataframe\">\n",
       "  <thead>\n",
       "    <tr style=\"text-align: right;\">\n",
       "      <th></th>\n",
       "      <th>video_id</th>\n",
       "      <th>trending_date</th>\n",
       "      <th>title</th>\n",
       "      <th>channel_title</th>\n",
       "      <th>category_id</th>\n",
       "      <th>publish_time</th>\n",
       "      <th>tags</th>\n",
       "      <th>views</th>\n",
       "      <th>likes</th>\n",
       "      <th>dislikes</th>\n",
       "      <th>...</th>\n",
       "      <th>thumbnail_link</th>\n",
       "      <th>comments_disabled</th>\n",
       "      <th>ratings_disabled</th>\n",
       "      <th>video_error_or_removed</th>\n",
       "      <th>description</th>\n",
       "      <th>likes_log</th>\n",
       "      <th>views_log</th>\n",
       "      <th>dislikes_log</th>\n",
       "      <th>comment_log</th>\n",
       "      <th>category</th>\n",
       "    </tr>\n",
       "  </thead>\n",
       "  <tbody>\n",
       "    <tr>\n",
       "      <th>0</th>\n",
       "      <td>Ro6eob0LrCY</td>\n",
       "      <td>17.14.11</td>\n",
       "      <td>Malika LePen : Femme de Gauche - Trailer</td>\n",
       "      <td>Le Raptor Dissident</td>\n",
       "      <td>24</td>\n",
       "      <td>2017-11-13T17:32:55.000Z</td>\n",
       "      <td>Raptor\"|\"Dissident\"|\"Expliquez\"|\"moi\"|\"cette\"|...</td>\n",
       "      <td>212702</td>\n",
       "      <td>29282</td>\n",
       "      <td>1108</td>\n",
       "      <td>...</td>\n",
       "      <td>https://i.ytimg.com/vi/Ro6eob0LrCY/default.jpg</td>\n",
       "      <td>False</td>\n",
       "      <td>False</td>\n",
       "      <td>False</td>\n",
       "      <td>Dimanche.\\n18h30.\\nSoyez présents pour la vidé...</td>\n",
       "      <td>10.284762</td>\n",
       "      <td>12.267652</td>\n",
       "      <td>7.011214</td>\n",
       "      <td>8.247482</td>\n",
       "      <td>Foreign</td>\n",
       "    </tr>\n",
       "    <tr>\n",
       "      <th>1</th>\n",
       "      <td>Yo84eqYwP98</td>\n",
       "      <td>17.14.11</td>\n",
       "      <td>LA PIRE PARTIE ft Le Rire Jaune, Pierre Croce,...</td>\n",
       "      <td>Le Labo</td>\n",
       "      <td>24</td>\n",
       "      <td>2017-11-12T15:00:02.000Z</td>\n",
       "      <td>[none]</td>\n",
       "      <td>432721</td>\n",
       "      <td>14053</td>\n",
       "      <td>576</td>\n",
       "      <td>...</td>\n",
       "      <td>https://i.ytimg.com/vi/Yo84eqYwP98/default.jpg</td>\n",
       "      <td>False</td>\n",
       "      <td>False</td>\n",
       "      <td>False</td>\n",
       "      <td>Le jeu de société: https://goo.gl/hhG1Ta\\n\\nGa...</td>\n",
       "      <td>9.550662</td>\n",
       "      <td>12.977851</td>\n",
       "      <td>6.357842</td>\n",
       "      <td>7.057898</td>\n",
       "      <td>Foreign</td>\n",
       "    </tr>\n",
       "    <tr>\n",
       "      <th>2</th>\n",
       "      <td>ceqntSXE-10</td>\n",
       "      <td>17.14.11</td>\n",
       "      <td>DESSINS ANIMÉS FRANÇAIS VS RUSSES 2 - Daniil...</td>\n",
       "      <td>Daniil le Russe</td>\n",
       "      <td>23</td>\n",
       "      <td>2017-11-13T17:00:38.000Z</td>\n",
       "      <td>cartoon\"|\"pokémon\"|\"école\"|\"ours\"|\"мультфильм</td>\n",
       "      <td>482153</td>\n",
       "      <td>76203</td>\n",
       "      <td>477</td>\n",
       "      <td>...</td>\n",
       "      <td>https://i.ytimg.com/vi/ceqntSXE-10/default.jpg</td>\n",
       "      <td>False</td>\n",
       "      <td>False</td>\n",
       "      <td>False</td>\n",
       "      <td>Une nouvelle dose de dessins animés français e...</td>\n",
       "      <td>11.241169</td>\n",
       "      <td>13.086019</td>\n",
       "      <td>6.169611</td>\n",
       "      <td>9.167537</td>\n",
       "      <td>Family</td>\n",
       "    </tr>\n",
       "    <tr>\n",
       "      <th>3</th>\n",
       "      <td>WuTFI5qftCE</td>\n",
       "      <td>17.14.11</td>\n",
       "      <td>PAPY GRENIER - METAL GEAR SOLID</td>\n",
       "      <td>Joueur Du Grenier</td>\n",
       "      <td>20</td>\n",
       "      <td>2017-11-12T17:00:02.000Z</td>\n",
       "      <td>Papy grenier\"|\"Metal Gear Solid\"|\"PS1\"|\"Tirage...</td>\n",
       "      <td>925222</td>\n",
       "      <td>85016</td>\n",
       "      <td>550</td>\n",
       "      <td>...</td>\n",
       "      <td>https://i.ytimg.com/vi/WuTFI5qftCE/default.jpg</td>\n",
       "      <td>False</td>\n",
       "      <td>False</td>\n",
       "      <td>False</td>\n",
       "      <td>Nouvel ,épisode de Papy Grenier ! Ce mois-ci o...</td>\n",
       "      <td>11.350607</td>\n",
       "      <td>13.737790</td>\n",
       "      <td>6.311735</td>\n",
       "      <td>8.367300</td>\n",
       "      <td>Comedy</td>\n",
       "    </tr>\n",
       "    <tr>\n",
       "      <th>4</th>\n",
       "      <td>ee6OFs8TdEg</td>\n",
       "      <td>17.14.11</td>\n",
       "      <td>QUI SAUTERA LE PLUS HAUT ? (VÉLO SKATE ROLLER ...</td>\n",
       "      <td>Aurelien Fontenoy</td>\n",
       "      <td>17</td>\n",
       "      <td>2017-11-13T16:30:03.000Z</td>\n",
       "      <td>vélo\"|\"vtt\"|\"bmx\"|\"freestyle\"|\"bike\"|\"mtb\"|\"di...</td>\n",
       "      <td>141695</td>\n",
       "      <td>8091</td>\n",
       "      <td>72</td>\n",
       "      <td>...</td>\n",
       "      <td>https://i.ytimg.com/vi/ee6OFs8TdEg/default.jpg</td>\n",
       "      <td>False</td>\n",
       "      <td>False</td>\n",
       "      <td>False</td>\n",
       "      <td>Sauts à plus de 4 mètres de haut dans un tramp...</td>\n",
       "      <td>8.998631</td>\n",
       "      <td>11.861439</td>\n",
       "      <td>4.290459</td>\n",
       "      <td>6.177944</td>\n",
       "      <td>Anime/Animation</td>\n",
       "    </tr>\n",
       "    <tr>\n",
       "      <th>...</th>\n",
       "      <td>...</td>\n",
       "      <td>...</td>\n",
       "      <td>...</td>\n",
       "      <td>...</td>\n",
       "      <td>...</td>\n",
       "      <td>...</td>\n",
       "      <td>...</td>\n",
       "      <td>...</td>\n",
       "      <td>...</td>\n",
       "      <td>...</td>\n",
       "      <td>...</td>\n",
       "      <td>...</td>\n",
       "      <td>...</td>\n",
       "      <td>...</td>\n",
       "      <td>...</td>\n",
       "      <td>...</td>\n",
       "      <td>...</td>\n",
       "      <td>...</td>\n",
       "      <td>...</td>\n",
       "      <td>...</td>\n",
       "      <td>...</td>\n",
       "    </tr>\n",
       "    <tr>\n",
       "      <th>40719</th>\n",
       "      <td>coVXf3Q9xBk</td>\n",
       "      <td>18.14.06</td>\n",
       "      <td>عاجل و رسمي : الملف الأمريكي يفوز بشرف تنظيم ك...</td>\n",
       "      <td>KORA LOVERS</td>\n",
       "      <td>1</td>\n",
       "      <td>2018-06-13T12:31:04.000Z</td>\n",
       "      <td>تنظيم كأس العالم 2026|\"كأس العالم 2026\"|\"المغر...</td>\n",
       "      <td>58758</td>\n",
       "      <td>307</td>\n",
       "      <td>86</td>\n",
       "      <td>...</td>\n",
       "      <td>https://i.ytimg.com/vi/coVXf3Q9xBk/default.jpg</td>\n",
       "      <td>False</td>\n",
       "      <td>False</td>\n",
       "      <td>False</td>\n",
       "      <td>المغرب تخسر تنظيم مونديال كاس العالم 2026 لصال...</td>\n",
       "      <td>5.730100</td>\n",
       "      <td>10.981200</td>\n",
       "      <td>4.465908</td>\n",
       "      <td>6.186209</td>\n",
       "      <td>Autos &amp; Vehicles</td>\n",
       "    </tr>\n",
       "    <tr>\n",
       "      <th>40720</th>\n",
       "      <td>_umkjOQJvtw</td>\n",
       "      <td>18.14.06</td>\n",
       "      <td>شاهد ملخص البرلمان اليوم بحضور اخنوش الدي يعطي...</td>\n",
       "      <td>Jadal جدل</td>\n",
       "      <td>25</td>\n",
       "      <td>2018-06-12T17:51:24.000Z</td>\n",
       "      <td>الباكالوريا في المغرب|\"صحاب الباك\"|\"صحاب الباك...</td>\n",
       "      <td>264639</td>\n",
       "      <td>2011</td>\n",
       "      <td>999</td>\n",
       "      <td>...</td>\n",
       "      <td>https://i.ytimg.com/vi/_umkjOQJvtw/default.jpg</td>\n",
       "      <td>False</td>\n",
       "      <td>False</td>\n",
       "      <td>False</td>\n",
       "      <td>ملخص ابرز ما حصل في جلسة البرلمان يوم 12/06/20...</td>\n",
       "      <td>7.606885</td>\n",
       "      <td>12.486126</td>\n",
       "      <td>6.907755</td>\n",
       "      <td>7.242798</td>\n",
       "      <td>Horror</td>\n",
       "    </tr>\n",
       "    <tr>\n",
       "      <th>40721</th>\n",
       "      <td>nt25ec7nzIM</td>\n",
       "      <td>18.14.06</td>\n",
       "      <td>UN ANIME EXPLOSIF A VOIR ABSOLUMENT !</td>\n",
       "      <td>RushManga</td>\n",
       "      <td>22</td>\n",
       "      <td>2018-06-13T11:50:18.000Z</td>\n",
       "      <td>RushManga|\"rush manga\"|\"anime a voir\"|\"UN ANIM...</td>\n",
       "      <td>47510</td>\n",
       "      <td>4601</td>\n",
       "      <td>61</td>\n",
       "      <td>...</td>\n",
       "      <td>https://i.ytimg.com/vi/nt25ec7nzIM/default.jpg</td>\n",
       "      <td>False</td>\n",
       "      <td>False</td>\n",
       "      <td>False</td>\n",
       "      <td>•● Yozakura Quartet ~Hana no Uta~ ●•☆ S'abonne...</td>\n",
       "      <td>8.434246</td>\n",
       "      <td>10.768717</td>\n",
       "      <td>4.127134</td>\n",
       "      <td>6.423247</td>\n",
       "      <td>Drama</td>\n",
       "    </tr>\n",
       "    <tr>\n",
       "      <th>40722</th>\n",
       "      <td>NlxE_QQMRzg</td>\n",
       "      <td>18.14.06</td>\n",
       "      <td>Նռան հատիկ, Սերիա 192 / Pomegranate seed / Nra...</td>\n",
       "      <td>PanArmenian TV</td>\n",
       "      <td>1</td>\n",
       "      <td>2018-06-13T18:30:00.000Z</td>\n",
       "      <td>Նռան հատիկ|\"Սերիա 192\"|\"Pomegranate seed\"|\"Nra...</td>\n",
       "      <td>78117</td>\n",
       "      <td>244</td>\n",
       "      <td>74</td>\n",
       "      <td>...</td>\n",
       "      <td>https://i.ytimg.com/vi/NlxE_QQMRzg/default.jpg</td>\n",
       "      <td>False</td>\n",
       "      <td>False</td>\n",
       "      <td>False</td>\n",
       "      <td>Follow Armenia TV on social platforms:Instagra...</td>\n",
       "      <td>5.501258</td>\n",
       "      <td>11.265976</td>\n",
       "      <td>4.317488</td>\n",
       "      <td>3.850148</td>\n",
       "      <td>Autos &amp; Vehicles</td>\n",
       "    </tr>\n",
       "    <tr>\n",
       "      <th>40723</th>\n",
       "      <td>_LgKglfnqlc</td>\n",
       "      <td>18.14.06</td>\n",
       "      <td>Mandoumbé ak Koor Gui 2018 Episode 28</td>\n",
       "      <td>Yesdakar</td>\n",
       "      <td>24</td>\n",
       "      <td>2018-06-13T19:45:14.000Z</td>\n",
       "      <td>ramadan2018|\"koorgui\"|\"Mandoumbé\"</td>\n",
       "      <td>46604</td>\n",
       "      <td>947</td>\n",
       "      <td>37</td>\n",
       "      <td>...</td>\n",
       "      <td>https://i.ytimg.com/vi/_LgKglfnqlc/default.jpg</td>\n",
       "      <td>False</td>\n",
       "      <td>False</td>\n",
       "      <td>False</td>\n",
       "      <td>NaN</td>\n",
       "      <td>6.854355</td>\n",
       "      <td>10.749463</td>\n",
       "      <td>3.637586</td>\n",
       "      <td>4.852030</td>\n",
       "      <td>Foreign</td>\n",
       "    </tr>\n",
       "  </tbody>\n",
       "</table>\n",
       "<p>40724 rows × 21 columns</p>\n",
       "</div>"
      ],
      "text/plain": [
       "          video_id trending_date  \\\n",
       "0      Ro6eob0LrCY      17.14.11   \n",
       "1      Yo84eqYwP98      17.14.11   \n",
       "2      ceqntSXE-10      17.14.11   \n",
       "3      WuTFI5qftCE      17.14.11   \n",
       "4      ee6OFs8TdEg      17.14.11   \n",
       "...            ...           ...   \n",
       "40719  coVXf3Q9xBk      18.14.06   \n",
       "40720  _umkjOQJvtw      18.14.06   \n",
       "40721  nt25ec7nzIM      18.14.06   \n",
       "40722  NlxE_QQMRzg      18.14.06   \n",
       "40723  _LgKglfnqlc      18.14.06   \n",
       "\n",
       "                                                   title        channel_title  \\\n",
       "0               Malika LePen : Femme de Gauche - Trailer  Le Raptor Dissident   \n",
       "1      LA PIRE PARTIE ft Le Rire Jaune, Pierre Croce,...              Le Labo   \n",
       "2      DESSINS ANIMÉS FRANÇAIS VS RUSSES 2 - Daniil...      Daniil le Russe   \n",
       "3                        PAPY GRENIER - METAL GEAR SOLID    Joueur Du Grenier   \n",
       "4      QUI SAUTERA LE PLUS HAUT ? (VÉLO SKATE ROLLER ...    Aurelien Fontenoy   \n",
       "...                                                  ...                  ...   \n",
       "40719  عاجل و رسمي : الملف الأمريكي يفوز بشرف تنظيم ك...          KORA LOVERS   \n",
       "40720  شاهد ملخص البرلمان اليوم بحضور اخنوش الدي يعطي...            Jadal جدل   \n",
       "40721              UN ANIME EXPLOSIF A VOIR ABSOLUMENT !            RushManga   \n",
       "40722  Նռան հատիկ, Սերիա 192 / Pomegranate seed / Nra...       PanArmenian TV   \n",
       "40723              Mandoumbé ak Koor Gui 2018 Episode 28             Yesdakar   \n",
       "\n",
       "       category_id              publish_time  \\\n",
       "0               24  2017-11-13T17:32:55.000Z   \n",
       "1               24  2017-11-12T15:00:02.000Z   \n",
       "2               23  2017-11-13T17:00:38.000Z   \n",
       "3               20  2017-11-12T17:00:02.000Z   \n",
       "4               17  2017-11-13T16:30:03.000Z   \n",
       "...            ...                       ...   \n",
       "40719            1  2018-06-13T12:31:04.000Z   \n",
       "40720           25  2018-06-12T17:51:24.000Z   \n",
       "40721           22  2018-06-13T11:50:18.000Z   \n",
       "40722            1  2018-06-13T18:30:00.000Z   \n",
       "40723           24  2018-06-13T19:45:14.000Z   \n",
       "\n",
       "                                                    tags   views  likes  \\\n",
       "0      Raptor\"|\"Dissident\"|\"Expliquez\"|\"moi\"|\"cette\"|...  212702  29282   \n",
       "1                                                 [none]  432721  14053   \n",
       "2          cartoon\"|\"pokémon\"|\"école\"|\"ours\"|\"мультфильм  482153  76203   \n",
       "3      Papy grenier\"|\"Metal Gear Solid\"|\"PS1\"|\"Tirage...  925222  85016   \n",
       "4      vélo\"|\"vtt\"|\"bmx\"|\"freestyle\"|\"bike\"|\"mtb\"|\"di...  141695   8091   \n",
       "...                                                  ...     ...    ...   \n",
       "40719  تنظيم كأس العالم 2026|\"كأس العالم 2026\"|\"المغر...   58758    307   \n",
       "40720  الباكالوريا في المغرب|\"صحاب الباك\"|\"صحاب الباك...  264639   2011   \n",
       "40721  RushManga|\"rush manga\"|\"anime a voir\"|\"UN ANIM...   47510   4601   \n",
       "40722  Նռան հատիկ|\"Սերիա 192\"|\"Pomegranate seed\"|\"Nra...   78117    244   \n",
       "40723                  ramadan2018|\"koorgui\"|\"Mandoumbé\"   46604    947   \n",
       "\n",
       "       dislikes  ...                                  thumbnail_link  \\\n",
       "0          1108  ...  https://i.ytimg.com/vi/Ro6eob0LrCY/default.jpg   \n",
       "1           576  ...  https://i.ytimg.com/vi/Yo84eqYwP98/default.jpg   \n",
       "2           477  ...  https://i.ytimg.com/vi/ceqntSXE-10/default.jpg   \n",
       "3           550  ...  https://i.ytimg.com/vi/WuTFI5qftCE/default.jpg   \n",
       "4            72  ...  https://i.ytimg.com/vi/ee6OFs8TdEg/default.jpg   \n",
       "...         ...  ...                                             ...   \n",
       "40719        86  ...  https://i.ytimg.com/vi/coVXf3Q9xBk/default.jpg   \n",
       "40720       999  ...  https://i.ytimg.com/vi/_umkjOQJvtw/default.jpg   \n",
       "40721        61  ...  https://i.ytimg.com/vi/nt25ec7nzIM/default.jpg   \n",
       "40722        74  ...  https://i.ytimg.com/vi/NlxE_QQMRzg/default.jpg   \n",
       "40723        37  ...  https://i.ytimg.com/vi/_LgKglfnqlc/default.jpg   \n",
       "\n",
       "      comments_disabled  ratings_disabled  video_error_or_removed  \\\n",
       "0                 False             False                   False   \n",
       "1                 False             False                   False   \n",
       "2                 False             False                   False   \n",
       "3                 False             False                   False   \n",
       "4                 False             False                   False   \n",
       "...                 ...               ...                     ...   \n",
       "40719             False             False                   False   \n",
       "40720             False             False                   False   \n",
       "40721             False             False                   False   \n",
       "40722             False             False                   False   \n",
       "40723             False             False                   False   \n",
       "\n",
       "                                             description  likes_log  \\\n",
       "0      Dimanche.\\n18h30.\\nSoyez présents pour la vidé...  10.284762   \n",
       "1      Le jeu de société: https://goo.gl/hhG1Ta\\n\\nGa...   9.550662   \n",
       "2      Une nouvelle dose de dessins animés français e...  11.241169   \n",
       "3      Nouvel ,épisode de Papy Grenier ! Ce mois-ci o...  11.350607   \n",
       "4      Sauts à plus de 4 mètres de haut dans un tramp...   8.998631   \n",
       "...                                                  ...        ...   \n",
       "40719  المغرب تخسر تنظيم مونديال كاس العالم 2026 لصال...   5.730100   \n",
       "40720  ملخص ابرز ما حصل في جلسة البرلمان يوم 12/06/20...   7.606885   \n",
       "40721  •● Yozakura Quartet ~Hana no Uta~ ●•☆ S'abonne...   8.434246   \n",
       "40722  Follow Armenia TV on social platforms:Instagra...   5.501258   \n",
       "40723                                                NaN   6.854355   \n",
       "\n",
       "       views_log  dislikes_log  comment_log          category  \n",
       "0      12.267652      7.011214     8.247482           Foreign  \n",
       "1      12.977851      6.357842     7.057898           Foreign  \n",
       "2      13.086019      6.169611     9.167537            Family  \n",
       "3      13.737790      6.311735     8.367300            Comedy  \n",
       "4      11.861439      4.290459     6.177944   Anime/Animation  \n",
       "...          ...           ...          ...               ...  \n",
       "40719  10.981200      4.465908     6.186209  Autos & Vehicles  \n",
       "40720  12.486126      6.907755     7.242798            Horror  \n",
       "40721  10.768717      4.127134     6.423247             Drama  \n",
       "40722  11.265976      4.317488     3.850148  Autos & Vehicles  \n",
       "40723  10.749463      3.637586     4.852030           Foreign  \n",
       "\n",
       "[40724 rows x 21 columns]"
      ]
     },
     "execution_count": 42,
     "metadata": {},
     "output_type": "execute_result"
    }
   ],
   "source": [
    "fr_videos"
   ]
  },
  {
   "cell_type": "code",
   "execution_count": 46,
   "metadata": {},
   "outputs": [
    {
     "name": "stdout",
     "output_type": "stream",
     "text": [
      "Vidéos par catégorie (nb)\n",
      "Foreign            9819\n",
      "Drama              5719\n",
      "Comedy             5405\n",
      "Family             4343\n",
      "Anime/Animation    4342\n",
      "Name: category, dtype: int64\n"
     ]
    },
    {
     "data": {
      "image/png": "[encoded data removed]",
      "text/plain": [
       "<Figure size 1008x648 with 2 Axes>"
      ]
     },
     "metadata": {
      "needs_background": "light"
     },
     "output_type": "display_data"
    }
   ],
   "source": [
    "print(\"Vidéos par catégorie (nb)\")\n",
    "print(fr_videos.category.value_counts()[:5])\n",
    "\n",
    "plt.figure(figsize = (14,9))\n",
    "\n",
    "plt.subplot(211)\n",
    "g = sns.countplot('category', data=fr_videos, palette=\"Set1\")\n",
    "g.set_xticklabels(g.get_xticklabels(),rotation=45)\n",
    "g.set_title(\"Vidéos par catégorie (nb) \", fontsize=15)\n",
    "g.set_xlabel(\"\", fontsize=12)\n",
    "g.set_ylabel(\"Quantité(nb)\", fontsize=12)\n",
    "\n",
    "plt.subplot(212)\n",
    "g1 = sns.boxplot(x='category', y='views_log', data=fr_videos, palette=\"Set1\")\n",
    "g1.set_xticklabels(g.get_xticklabels(),rotation=45)\n",
    "g1.set_title(\"Vues par catégorie\", fontsize=20)\n",
    "g1.set_xlabel(\"\", fontsize=15)\n",
    "g1.set_ylabel(\"Vues (nb)\", fontsize=15)\n",
    "\n",
    "plt.subplots_adjust(hspace = 0.9, top = 0.9)\n",
    "\n",
    "plt.show()"
   ]
  },
  {
   "cell_type": "code",
   "execution_count": 14,
   "metadata": {},
   "outputs": [
    {
     "ename": "AttributeError",
     "evalue": "'DataFrame' object has no attribute 'category'",
     "output_type": "error",
     "traceback": [
      "\u001b[1;31m---------------------------------------------------------------------------\u001b[0m",
      "\u001b[1;31mAttributeError\u001b[0m                            Traceback (most recent call last)",
      "\u001b[1;32m<ipython-input-14-151a4e45e0e6>\u001b[0m in \u001b[0;36m<module>\u001b[1;34m\u001b[0m\n\u001b[1;32m----> 1\u001b[1;33m \u001b[0mprint\u001b[0m\u001b[1;33m(\u001b[0m\u001b[0mfr_videos\u001b[0m\u001b[1;33m.\u001b[0m\u001b[0mcategory\u001b[0m\u001b[1;33m.\u001b[0m\u001b[0mvalue_counts\u001b[0m\u001b[1;33m(\u001b[0m\u001b[1;33m)\u001b[0m\u001b[1;33m[\u001b[0m\u001b[1;33m:\u001b[0m\u001b[1;36m5\u001b[0m\u001b[1;33m]\u001b[0m\u001b[1;33m)\u001b[0m\u001b[1;33m\u001b[0m\u001b[1;33m\u001b[0m\u001b[0m\n\u001b[0m",
      "\u001b[1;32mC:\\ProgramData\\Anaconda3\\lib\\site-packages\\pandas\\core\\generic.py\u001b[0m in \u001b[0;36m__getattr__\u001b[1;34m(self, name)\u001b[0m\n\u001b[0;32m   5177\u001b[0m             \u001b[1;32mif\u001b[0m \u001b[0mself\u001b[0m\u001b[1;33m.\u001b[0m\u001b[0m_info_axis\u001b[0m\u001b[1;33m.\u001b[0m\u001b[0m_can_hold_identifiers_and_holds_name\u001b[0m\u001b[1;33m(\u001b[0m\u001b[0mname\u001b[0m\u001b[1;33m)\u001b[0m\u001b[1;33m:\u001b[0m\u001b[1;33m\u001b[0m\u001b[1;33m\u001b[0m\u001b[0m\n\u001b[0;32m   5178\u001b[0m                 \u001b[1;32mreturn\u001b[0m \u001b[0mself\u001b[0m\u001b[1;33m[\u001b[0m\u001b[0mname\u001b[0m\u001b[1;33m]\u001b[0m\u001b[1;33m\u001b[0m\u001b[1;33m\u001b[0m\u001b[0m\n\u001b[1;32m-> 5179\u001b[1;33m             \u001b[1;32mreturn\u001b[0m \u001b[0mobject\u001b[0m\u001b[1;33m.\u001b[0m\u001b[0m__getattribute__\u001b[0m\u001b[1;33m(\u001b[0m\u001b[0mself\u001b[0m\u001b[1;33m,\u001b[0m \u001b[0mname\u001b[0m\u001b[1;33m)\u001b[0m\u001b[1;33m\u001b[0m\u001b[1;33m\u001b[0m\u001b[0m\n\u001b[0m\u001b[0;32m   5180\u001b[0m \u001b[1;33m\u001b[0m\u001b[0m\n\u001b[0;32m   5181\u001b[0m     \u001b[1;32mdef\u001b[0m \u001b[0m__setattr__\u001b[0m\u001b[1;33m(\u001b[0m\u001b[0mself\u001b[0m\u001b[1;33m,\u001b[0m \u001b[0mname\u001b[0m\u001b[1;33m,\u001b[0m \u001b[0mvalue\u001b[0m\u001b[1;33m)\u001b[0m\u001b[1;33m:\u001b[0m\u001b[1;33m\u001b[0m\u001b[1;33m\u001b[0m\u001b[0m\n",
      "\u001b[1;31mAttributeError\u001b[0m: 'DataFrame' object has no attribute 'category'"
     ]
    }
   ],
   "source": [
    "print(fr_videos.category.value_counts()[:5])"
   ]
  },
  {
   "cell_type": "code",
   "execution_count": 49,
   "metadata": {
    "scrolled": true
   },
   "outputs": [
    {
     "data": {
      "image/png": "[encoded data removed]",
      "text/plain": [
       "<Figure size 1296x576 with 1 Axes>"
      ]
     },
     "metadata": {
      "needs_background": "light"
     },
     "output_type": "display_data"
    }
   ],
   "source": [
    "plt.figure(figsize=(18,8))\n",
    "\n",
    "plt.bar(fr_videos[\"category\"], fr_videos[\"views\"])\n",
    "plt.xticks(rotation=70, size=15)\n",
    "plt.yticks(size=15)\n",
    "\n",
    "plt.title(\"Nombre de vues / Catégories\", size=35)\n",
    "\n",
    "plt.show()"
   ]
  },
  {
   "cell_type": "code",
   "execution_count": 54,
   "metadata": {
    "scrolled": true
   },
   "outputs": [
    {
     "data": {
      "image/png": "[encoded data removed]",
      "text/plain": [
       "<Figure size 1440x432 with 1 Axes>"
      ]
     },
     "metadata": {
      "needs_background": "light"
     },
     "output_type": "display_data"
    }
   ],
   "source": [
    "plt.figure(figsize = (20,6))\n",
    "\n",
    "g = sns.boxplot(x='category', y='likes_log', data=fr_videos, palette=\"Set1\")\n",
    "g.set_xticklabels(g.get_xticklabels(),rotation=45)\n",
    "g.set_title(\"Likes par categorie\", fontsize=15)\n",
    "g.set_xlabel(\"\", fontsize=12)\n",
    "g.set_ylabel(\"Likes(nb)\", fontsize=12)\n",
    "plt.show()"
   ]
  },
  {
   "cell_type": "markdown",
   "metadata": {},
   "source": [
    "## Engagement"
   ]
  },
  {
   "cell_type": "markdown",
   "metadata": {},
   "source": [
    "quelle catégorie à le meilleur engagement :\n",
    "pourcentage des nombres de \n",
    "* J'aime, \n",
    "* Je n'aime pas, \n",
    "* Commentaire\n",
    "par rapport aux vues pour toutes les catégories\n",
    "\n",
    "Nous créons de nouvelles variables : "
   ]
  },
  {
   "cell_type": "code",
   "execution_count": 7,
   "metadata": {},
   "outputs": [],
   "source": [
    "fr_videos['like_rate'] =  fr_videos ['likes'] / fr_videos['views'] * 100\n",
    "fr_videos['dislike_rate'] =  fr_videos ['dislikes'] / fr_videos['views'] * 100\n",
    "fr_videos['comment_rate'] =  fr_videos ['comment_count'] / fr_videos['views'] * 100"
   ]
  },
  {
   "cell_type": "code",
   "execution_count": 8,
   "metadata": {},
   "outputs": [
    {
     "data": {
      "text/plain": [
       "<bound method NDFrame.head of 0        1.794529\n",
       "1        0.268302\n",
       "2        1.986921\n",
       "3        0.465078\n",
       "4        0.339462\n",
       "           ...   \n",
       "40719    0.825420\n",
       "40720    0.527889\n",
       "40721    1.294464\n",
       "40722    0.058886\n",
       "40723    0.272509\n",
       "Name: comment_rate, Length: 40724, dtype: float64>"
      ]
     },
     "execution_count": 8,
     "metadata": {},
     "output_type": "execute_result"
    }
   ],
   "source": [
    "fr_videos['comment_rate'].head"
   ]
  },
  {
   "cell_type": "code",
   "execution_count": 10,
   "metadata": {
    "scrolled": false
   },
   "outputs": [
    {
     "data": {
      "image/png": "[encoded data removed]",
      "text/plain": [
       "<Figure size 1440x432 with 1 Axes>"
      ]
     },
     "metadata": {
      "needs_background": "light"
     },
     "output_type": "display_data"
    }
   ],
   "source": [
    "plt.figure(figsize = (20,6))\n",
    "\n",
    "g1 = sns.distplot(fr_videos['dislike_rate'], color='red',hist=False, label=\"Je n'aime pas\")\n",
    "g1 = sns.distplot(fr_videos['like_rate'], color='green',hist=False, label=\"J'aime\")\n",
    "g1 = sns.distplot(fr_videos['comment_rate'],hist=False,label=\"Commentaires\")\n",
    "g1.set_title('Engagement', fontsize=16)\n",
    "#plt.legend()\n",
    "plt.show()\n",
    "\n"
   ]
  },
  {
   "cell_type": "code",
   "execution_count": null,
   "metadata": {},
   "outputs": [],
   "source": []
  },
  {
   "cell_type": "code",
   "execution_count": 12,
   "metadata": {},
   "outputs": [
    {
     "ename": "KeyError",
     "evalue": "'category'",
     "output_type": "error",
     "traceback": [
      "\u001b[1;31m---------------------------------------------------------------------------\u001b[0m",
      "\u001b[1;31mKeyError\u001b[0m                                  Traceback (most recent call last)",
      "\u001b[1;32mC:\\ProgramData\\Anaconda3\\lib\\site-packages\\pandas\\core\\indexes\\base.py\u001b[0m in \u001b[0;36mget_loc\u001b[1;34m(self, key, method, tolerance)\u001b[0m\n\u001b[0;32m   2896\u001b[0m             \u001b[1;32mtry\u001b[0m\u001b[1;33m:\u001b[0m\u001b[1;33m\u001b[0m\u001b[1;33m\u001b[0m\u001b[0m\n\u001b[1;32m-> 2897\u001b[1;33m                 \u001b[1;32mreturn\u001b[0m \u001b[0mself\u001b[0m\u001b[1;33m.\u001b[0m\u001b[0m_engine\u001b[0m\u001b[1;33m.\u001b[0m\u001b[0mget_loc\u001b[0m\u001b[1;33m(\u001b[0m\u001b[0mkey\u001b[0m\u001b[1;33m)\u001b[0m\u001b[1;33m\u001b[0m\u001b[1;33m\u001b[0m\u001b[0m\n\u001b[0m\u001b[0;32m   2898\u001b[0m             \u001b[1;32mexcept\u001b[0m \u001b[0mKeyError\u001b[0m\u001b[1;33m:\u001b[0m\u001b[1;33m\u001b[0m\u001b[1;33m\u001b[0m\u001b[0m\n",
      "\u001b[1;32mpandas/_libs/index.pyx\u001b[0m in \u001b[0;36mpandas._libs.index.IndexEngine.get_loc\u001b[1;34m()\u001b[0m\n",
      "\u001b[1;32mpandas/_libs/index.pyx\u001b[0m in \u001b[0;36mpandas._libs.index.IndexEngine.get_loc\u001b[1;34m()\u001b[0m\n",
      "\u001b[1;32mpandas/_libs/hashtable_class_helper.pxi\u001b[0m in \u001b[0;36mpandas._libs.hashtable.PyObjectHashTable.get_item\u001b[1;34m()\u001b[0m\n",
      "\u001b[1;32mpandas/_libs/hashtable_class_helper.pxi\u001b[0m in \u001b[0;36mpandas._libs.hashtable.PyObjectHashTable.get_item\u001b[1;34m()\u001b[0m\n",
      "\u001b[1;31mKeyError\u001b[0m: 'category'",
      "\nDuring handling of the above exception, another exception occurred:\n",
      "\u001b[1;31mKeyError\u001b[0m                                  Traceback (most recent call last)",
      "\u001b[1;32m<ipython-input-12-1f039cd9a044>\u001b[0m in \u001b[0;36m<module>\u001b[1;34m\u001b[0m\n\u001b[1;32m----> 1\u001b[1;33m \u001b[0mcat_df_fr\u001b[0m \u001b[1;33m=\u001b[0m \u001b[0mfr_videos\u001b[0m\u001b[1;33m[\u001b[0m\u001b[1;34m'category'\u001b[0m\u001b[1;33m]\u001b[0m\u001b[1;33m.\u001b[0m\u001b[0mvalue_counts\u001b[0m\u001b[1;33m(\u001b[0m\u001b[1;33m)\u001b[0m\u001b[1;33m.\u001b[0m\u001b[0mreset_index\u001b[0m\u001b[1;33m(\u001b[0m\u001b[1;33m)\u001b[0m\u001b[1;33m\u001b[0m\u001b[1;33m\u001b[0m\u001b[0m\n\u001b[0m\u001b[0;32m      2\u001b[0m \u001b[0mplt\u001b[0m\u001b[1;33m.\u001b[0m\u001b[0mfigure\u001b[0m\u001b[1;33m(\u001b[0m\u001b[0mfigsize\u001b[0m\u001b[1;33m=\u001b[0m\u001b[1;33m(\u001b[0m\u001b[1;36m20\u001b[0m\u001b[1;33m,\u001b[0m\u001b[1;36m10\u001b[0m\u001b[1;33m)\u001b[0m\u001b[1;33m)\u001b[0m\u001b[1;33m\u001b[0m\u001b[1;33m\u001b[0m\u001b[0m\n\u001b[0;32m      3\u001b[0m \u001b[0msns\u001b[0m\u001b[1;33m.\u001b[0m\u001b[0mset_style\u001b[0m\u001b[1;33m(\u001b[0m\u001b[1;34m\"whitegrid\"\u001b[0m\u001b[1;33m)\u001b[0m\u001b[1;33m\u001b[0m\u001b[1;33m\u001b[0m\u001b[0m\n\u001b[0;32m      4\u001b[0m \u001b[0max\u001b[0m \u001b[1;33m=\u001b[0m \u001b[0msns\u001b[0m\u001b[1;33m.\u001b[0m\u001b[0mbarplot\u001b[0m\u001b[1;33m(\u001b[0m\u001b[0my\u001b[0m\u001b[1;33m=\u001b[0m\u001b[0mcat_df_fr\u001b[0m\u001b[1;33m[\u001b[0m\u001b[1;34m'index'\u001b[0m\u001b[1;33m]\u001b[0m\u001b[1;33m,\u001b[0m\u001b[0mx\u001b[0m\u001b[1;33m=\u001b[0m\u001b[0mcat_df_fr\u001b[0m\u001b[1;33m[\u001b[0m\u001b[1;34m'category'\u001b[0m\u001b[1;33m]\u001b[0m\u001b[1;33m,\u001b[0m \u001b[0mdata\u001b[0m\u001b[1;33m=\u001b[0m\u001b[0mcat_df_fr\u001b[0m\u001b[1;33m,\u001b[0m\u001b[0morient\u001b[0m\u001b[1;33m=\u001b[0m\u001b[1;34m'h'\u001b[0m\u001b[1;33m)\u001b[0m\u001b[1;33m\u001b[0m\u001b[1;33m\u001b[0m\u001b[0m\n\u001b[0;32m      5\u001b[0m \u001b[0mplt\u001b[0m\u001b[1;33m.\u001b[0m\u001b[0mxlabel\u001b[0m\u001b[1;33m(\u001b[0m\u001b[1;34m\"Nombre de vidéos\"\u001b[0m\u001b[1;33m)\u001b[0m\u001b[1;33m\u001b[0m\u001b[1;33m\u001b[0m\u001b[0m\n",
      "\u001b[1;32mC:\\ProgramData\\Anaconda3\\lib\\site-packages\\pandas\\core\\frame.py\u001b[0m in \u001b[0;36m__getitem__\u001b[1;34m(self, key)\u001b[0m\n\u001b[0;32m   2993\u001b[0m             \u001b[1;32mif\u001b[0m \u001b[0mself\u001b[0m\u001b[1;33m.\u001b[0m\u001b[0mcolumns\u001b[0m\u001b[1;33m.\u001b[0m\u001b[0mnlevels\u001b[0m \u001b[1;33m>\u001b[0m \u001b[1;36m1\u001b[0m\u001b[1;33m:\u001b[0m\u001b[1;33m\u001b[0m\u001b[1;33m\u001b[0m\u001b[0m\n\u001b[0;32m   2994\u001b[0m                 \u001b[1;32mreturn\u001b[0m \u001b[0mself\u001b[0m\u001b[1;33m.\u001b[0m\u001b[0m_getitem_multilevel\u001b[0m\u001b[1;33m(\u001b[0m\u001b[0mkey\u001b[0m\u001b[1;33m)\u001b[0m\u001b[1;33m\u001b[0m\u001b[1;33m\u001b[0m\u001b[0m\n\u001b[1;32m-> 2995\u001b[1;33m             \u001b[0mindexer\u001b[0m \u001b[1;33m=\u001b[0m \u001b[0mself\u001b[0m\u001b[1;33m.\u001b[0m\u001b[0mcolumns\u001b[0m\u001b[1;33m.\u001b[0m\u001b[0mget_loc\u001b[0m\u001b[1;33m(\u001b[0m\u001b[0mkey\u001b[0m\u001b[1;33m)\u001b[0m\u001b[1;33m\u001b[0m\u001b[1;33m\u001b[0m\u001b[0m\n\u001b[0m\u001b[0;32m   2996\u001b[0m             \u001b[1;32mif\u001b[0m \u001b[0mis_integer\u001b[0m\u001b[1;33m(\u001b[0m\u001b[0mindexer\u001b[0m\u001b[1;33m)\u001b[0m\u001b[1;33m:\u001b[0m\u001b[1;33m\u001b[0m\u001b[1;33m\u001b[0m\u001b[0m\n\u001b[0;32m   2997\u001b[0m                 \u001b[0mindexer\u001b[0m \u001b[1;33m=\u001b[0m \u001b[1;33m[\u001b[0m\u001b[0mindexer\u001b[0m\u001b[1;33m]\u001b[0m\u001b[1;33m\u001b[0m\u001b[1;33m\u001b[0m\u001b[0m\n",
      "\u001b[1;32mC:\\ProgramData\\Anaconda3\\lib\\site-packages\\pandas\\core\\indexes\\base.py\u001b[0m in \u001b[0;36mget_loc\u001b[1;34m(self, key, method, tolerance)\u001b[0m\n\u001b[0;32m   2897\u001b[0m                 \u001b[1;32mreturn\u001b[0m \u001b[0mself\u001b[0m\u001b[1;33m.\u001b[0m\u001b[0m_engine\u001b[0m\u001b[1;33m.\u001b[0m\u001b[0mget_loc\u001b[0m\u001b[1;33m(\u001b[0m\u001b[0mkey\u001b[0m\u001b[1;33m)\u001b[0m\u001b[1;33m\u001b[0m\u001b[1;33m\u001b[0m\u001b[0m\n\u001b[0;32m   2898\u001b[0m             \u001b[1;32mexcept\u001b[0m \u001b[0mKeyError\u001b[0m\u001b[1;33m:\u001b[0m\u001b[1;33m\u001b[0m\u001b[1;33m\u001b[0m\u001b[0m\n\u001b[1;32m-> 2899\u001b[1;33m                 \u001b[1;32mreturn\u001b[0m \u001b[0mself\u001b[0m\u001b[1;33m.\u001b[0m\u001b[0m_engine\u001b[0m\u001b[1;33m.\u001b[0m\u001b[0mget_loc\u001b[0m\u001b[1;33m(\u001b[0m\u001b[0mself\u001b[0m\u001b[1;33m.\u001b[0m\u001b[0m_maybe_cast_indexer\u001b[0m\u001b[1;33m(\u001b[0m\u001b[0mkey\u001b[0m\u001b[1;33m)\u001b[0m\u001b[1;33m)\u001b[0m\u001b[1;33m\u001b[0m\u001b[1;33m\u001b[0m\u001b[0m\n\u001b[0m\u001b[0;32m   2900\u001b[0m         \u001b[0mindexer\u001b[0m \u001b[1;33m=\u001b[0m \u001b[0mself\u001b[0m\u001b[1;33m.\u001b[0m\u001b[0mget_indexer\u001b[0m\u001b[1;33m(\u001b[0m\u001b[1;33m[\u001b[0m\u001b[0mkey\u001b[0m\u001b[1;33m]\u001b[0m\u001b[1;33m,\u001b[0m \u001b[0mmethod\u001b[0m\u001b[1;33m=\u001b[0m\u001b[0mmethod\u001b[0m\u001b[1;33m,\u001b[0m \u001b[0mtolerance\u001b[0m\u001b[1;33m=\u001b[0m\u001b[0mtolerance\u001b[0m\u001b[1;33m)\u001b[0m\u001b[1;33m\u001b[0m\u001b[1;33m\u001b[0m\u001b[0m\n\u001b[0;32m   2901\u001b[0m         \u001b[1;32mif\u001b[0m \u001b[0mindexer\u001b[0m\u001b[1;33m.\u001b[0m\u001b[0mndim\u001b[0m \u001b[1;33m>\u001b[0m \u001b[1;36m1\u001b[0m \u001b[1;32mor\u001b[0m \u001b[0mindexer\u001b[0m\u001b[1;33m.\u001b[0m\u001b[0msize\u001b[0m \u001b[1;33m>\u001b[0m \u001b[1;36m1\u001b[0m\u001b[1;33m:\u001b[0m\u001b[1;33m\u001b[0m\u001b[1;33m\u001b[0m\u001b[0m\n",
      "\u001b[1;32mpandas/_libs/index.pyx\u001b[0m in \u001b[0;36mpandas._libs.index.IndexEngine.get_loc\u001b[1;34m()\u001b[0m\n",
      "\u001b[1;32mpandas/_libs/index.pyx\u001b[0m in \u001b[0;36mpandas._libs.index.IndexEngine.get_loc\u001b[1;34m()\u001b[0m\n",
      "\u001b[1;32mpandas/_libs/hashtable_class_helper.pxi\u001b[0m in \u001b[0;36mpandas._libs.hashtable.PyObjectHashTable.get_item\u001b[1;34m()\u001b[0m\n",
      "\u001b[1;32mpandas/_libs/hashtable_class_helper.pxi\u001b[0m in \u001b[0;36mpandas._libs.hashtable.PyObjectHashTable.get_item\u001b[1;34m()\u001b[0m\n",
      "\u001b[1;31mKeyError\u001b[0m: 'category'"
     ]
    }
   ],
   "source": [
    "cat_df_fr = fr_videos['category'].value_counts().reset_index()\n",
    "plt.figure(figsize=(20,10))\n",
    "sns.set_style(\"whitegrid\")\n",
    "ax = sns.barplot(y=cat_df_fr['index'],x=cat_df_fr['category'], data=cat_df_fr,orient='h')\n",
    "plt.xlabel(\"Nombre de vidéos\")\n",
    "plt.ylabel(\"Catégories\")\n",
    "plt.title(\"Nombres de vidéos par catégories\")"
   ]
  },
  {
   "cell_type": "code",
   "execution_count": 11,
   "metadata": {},
   "outputs": [
    {
     "ename": "NameError",
     "evalue": "name 'df_yout' is not defined",
     "output_type": "error",
     "traceback": [
      "\u001b[1;31m---------------------------------------------------------------------------\u001b[0m",
      "\u001b[1;31mNameError\u001b[0m                                 Traceback (most recent call last)",
      "\u001b[1;32m<ipython-input-11-2860142d2355>\u001b[0m in \u001b[0;36m<module>\u001b[1;34m\u001b[0m\n\u001b[0;32m      1\u001b[0m \u001b[0mplt\u001b[0m\u001b[1;33m.\u001b[0m\u001b[0mfigure\u001b[0m\u001b[1;33m(\u001b[0m\u001b[0mfigsize\u001b[0m \u001b[1;33m=\u001b[0m \u001b[1;33m(\u001b[0m\u001b[1;36m14\u001b[0m\u001b[1;33m,\u001b[0m\u001b[1;36m6\u001b[0m\u001b[1;33m)\u001b[0m\u001b[1;33m)\u001b[0m\u001b[1;33m\u001b[0m\u001b[1;33m\u001b[0m\u001b[0m\n\u001b[0;32m      2\u001b[0m \u001b[1;33m\u001b[0m\u001b[0m\n\u001b[1;32m----> 3\u001b[1;33m \u001b[0mg\u001b[0m \u001b[1;33m=\u001b[0m \u001b[0msns\u001b[0m\u001b[1;33m.\u001b[0m\u001b[0mboxplot\u001b[0m\u001b[1;33m(\u001b[0m\u001b[0mx\u001b[0m\u001b[1;33m=\u001b[0m\u001b[1;34m'category_name'\u001b[0m\u001b[1;33m,\u001b[0m \u001b[0my\u001b[0m\u001b[1;33m=\u001b[0m\u001b[1;34m'likes_log'\u001b[0m\u001b[1;33m,\u001b[0m \u001b[0mdata\u001b[0m\u001b[1;33m=\u001b[0m\u001b[0mdf_yout\u001b[0m\u001b[1;33m,\u001b[0m \u001b[0mpalette\u001b[0m\u001b[1;33m=\u001b[0m\u001b[1;34m\"Set1\"\u001b[0m\u001b[1;33m)\u001b[0m\u001b[1;33m\u001b[0m\u001b[1;33m\u001b[0m\u001b[0m\n\u001b[0m\u001b[0;32m      4\u001b[0m \u001b[0mg\u001b[0m\u001b[1;33m.\u001b[0m\u001b[0mset_xticklabels\u001b[0m\u001b[1;33m(\u001b[0m\u001b[0mg\u001b[0m\u001b[1;33m.\u001b[0m\u001b[0mget_xticklabels\u001b[0m\u001b[1;33m(\u001b[0m\u001b[1;33m)\u001b[0m\u001b[1;33m,\u001b[0m\u001b[0mrotation\u001b[0m\u001b[1;33m=\u001b[0m\u001b[1;36m45\u001b[0m\u001b[1;33m)\u001b[0m\u001b[1;33m\u001b[0m\u001b[1;33m\u001b[0m\u001b[0m\n\u001b[0;32m      5\u001b[0m \u001b[0mg\u001b[0m\u001b[1;33m.\u001b[0m\u001b[0mset_title\u001b[0m\u001b[1;33m(\u001b[0m\u001b[1;34m\"Likes Distribuition by Category Names \"\u001b[0m\u001b[1;33m,\u001b[0m \u001b[0mfontsize\u001b[0m\u001b[1;33m=\u001b[0m\u001b[1;36m15\u001b[0m\u001b[1;33m)\u001b[0m\u001b[1;33m\u001b[0m\u001b[1;33m\u001b[0m\u001b[0m\n",
      "\u001b[1;31mNameError\u001b[0m: name 'df_yout' is not defined"
     ]
    },
    {
     "data": {
      "text/plain": [
       "<Figure size 1008x432 with 0 Axes>"
      ]
     },
     "metadata": {},
     "output_type": "display_data"
    }
   ],
   "source": [
    "plt.figure(figsize = (14,6))\n",
    "\n",
    "g = sns.boxplot(x='category_name', y='likes_log', data=df_yout, palette=\"Set1\")\n",
    "g.set_xticklabels(g.get_xticklabels(),rotation=45)\n",
    "g.set_title(\"Likes Distribuition by Category Names \", fontsize=15)\n",
    "g.set_xlabel(\"\", fontsize=12)\n",
    "g.set_ylabel(\"Likes(log)\", fontsize=12)\n",
    "plt.show()"
   ]
  },
  {
   "cell_type": "markdown",
   "metadata": {},
   "source": [
    "trending date is in yy.dd.mm format"
   ]
  },
  {
   "cell_type": "code",
   "execution_count": 11,
   "metadata": {
    "collapsed": true
   },
   "outputs": [
    {
     "ename": "NameError",
     "evalue": "name 'comments' is not defined",
     "output_type": "error",
     "traceback": [
      "\u001b[0;31m---------------------------------------------------------------------------\u001b[0m",
      "\u001b[0;31mNameError\u001b[0m                                 Traceback (most recent call last)",
      "\u001b[0;32m<ipython-input-11-e1ccd2718257>\u001b[0m in \u001b[0;36m<module>\u001b[0;34m\u001b[0m\n\u001b[1;32m      1\u001b[0m \u001b[0mplt\u001b[0m\u001b[0;34m.\u001b[0m\u001b[0mticklabel_format\u001b[0m\u001b[0;34m(\u001b[0m\u001b[0mstyle\u001b[0m\u001b[0;34m=\u001b[0m\u001b[0;34m'plain'\u001b[0m\u001b[0;34m)\u001b[0m\u001b[0;34m\u001b[0m\u001b[0;34m\u001b[0m\u001b[0m\n\u001b[0;32m----> 2\u001b[0;31m \u001b[0msns\u001b[0m\u001b[0;34m.\u001b[0m\u001b[0mbarplot\u001b[0m\u001b[0;34m(\u001b[0m\u001b[0mx\u001b[0m\u001b[0;34m=\u001b[0m\u001b[0;34m'comment_count'\u001b[0m\u001b[0;34m,\u001b[0m\u001b[0my\u001b[0m\u001b[0;34m=\u001b[0m\u001b[0;34m'title'\u001b[0m\u001b[0;34m,\u001b[0m\u001b[0mdata\u001b[0m\u001b[0;34m=\u001b[0m\u001b[0mcomments\u001b[0m\u001b[0;34m.\u001b[0m\u001b[0mtail\u001b[0m\u001b[0;34m(\u001b[0m\u001b[0;36m10\u001b[0m\u001b[0;34m)\u001b[0m\u001b[0;34m)\u001b[0m\u001b[0;34m\u001b[0m\u001b[0;34m\u001b[0m\u001b[0m\n\u001b[0m",
      "\u001b[0;31mNameError\u001b[0m: name 'comments' is not defined"
     ]
    },
    {
     "data": {
      "image/png": "[encoded data removed]",
      "text/plain": [
       "<Figure size 432x288 with 1 Axes>"
      ]
     },
     "metadata": {
      "needs_background": "light"
     },
     "output_type": "display_data"
    }
   ],
   "source": [
    "plt.ticklabel_format(style='plain')\n",
    "sns.barplot(x='comment_count',y='title',data=comments.tail(10))"
   ]
  },
  {
   "cell_type": "markdown",
   "metadata": {},
   "source": [
    "## analyse des Tags"
   ]
  },
  {
   "cell_type": "markdown",
   "metadata": {},
   "source": [
    "Import des librairies nltk et wordcloud"
   ]
  },
  {
   "cell_type": "code",
   "execution_count": null,
   "metadata": {},
   "outputs": [],
   "source": []
  },
  {
   "cell_type": "code",
   "execution_count": 1,
   "metadata": {},
   "outputs": [
    {
     "ename": "ModuleNotFoundError",
     "evalue": "No module named 'wordcloud'",
     "output_type": "error",
     "traceback": [
      "\u001b[1;31m---------------------------------------------------------------------------\u001b[0m",
      "\u001b[1;31mModuleNotFoundError\u001b[0m                       Traceback (most recent call last)",
      "\u001b[1;32m<ipython-input-1-ea12b0483d55>\u001b[0m in \u001b[0;36m<module>\u001b[1;34m\u001b[0m\n\u001b[1;32m----> 1\u001b[1;33m \u001b[1;32mfrom\u001b[0m \u001b[0mwordcloud\u001b[0m \u001b[1;32mimport\u001b[0m \u001b[0mWordCloud\u001b[0m\u001b[1;33m\u001b[0m\u001b[1;33m\u001b[0m\u001b[0m\n\u001b[0m\u001b[0;32m      2\u001b[0m \u001b[1;32mimport\u001b[0m \u001b[0mnltk\u001b[0m\u001b[1;33m\u001b[0m\u001b[1;33m\u001b[0m\u001b[0m\n\u001b[0;32m      3\u001b[0m \u001b[1;31m#nltk.download()\u001b[0m\u001b[1;33m\u001b[0m\u001b[1;33m\u001b[0m\u001b[1;33m\u001b[0m\u001b[0m\n\u001b[0;32m      4\u001b[0m \u001b[1;32mfrom\u001b[0m \u001b[0mnltk\u001b[0m\u001b[1;33m.\u001b[0m\u001b[0msentiment\u001b[0m \u001b[1;32mimport\u001b[0m \u001b[0mSentimentIntensityAnalyzer\u001b[0m\u001b[1;33m\u001b[0m\u001b[1;33m\u001b[0m\u001b[0m\n\u001b[0;32m      5\u001b[0m \u001b[1;32mfrom\u001b[0m \u001b[0mnltk\u001b[0m\u001b[1;33m.\u001b[0m\u001b[0mcorpus\u001b[0m \u001b[1;32mimport\u001b[0m \u001b[0mstopwords\u001b[0m\u001b[1;33m\u001b[0m\u001b[1;33m\u001b[0m\u001b[0m\n",
      "\u001b[1;31mModuleNotFoundError\u001b[0m: No module named 'wordcloud'"
     ]
    }
   ],
   "source": [
    "from wordcloud import WordCloud\n",
    "import nltk\n",
    "#nltk.download()\n",
    "from nltk.sentiment import SentimentIntensityAnalyzer\n",
    "from nltk.corpus import stopwords\n",
    "from nltk import sent_tokenize, word_tokenize\n",
    "from wordcloud import WordCloud, STOPWORDS\n",
    "\n",
    "from collections import Counter\n",
    "from nltk.tokenize import RegexpTokenizer\n",
    "import re"
   ]
  },
  {
   "cell_type": "code",
   "execution_count": null,
   "metadata": {},
   "outputs": [],
   "source": []
  }
 ],
 "metadata": {
  "kernelspec": {
   "display_name": "Python 3",
   "language": "python",
   "name": "python3"
  },
  "language_info": {
   "codemirror_mode": {
    "name": "ipython",
    "version": 3
   },
   "file_extension": ".py",
   "mimetype": "text/x-python",
   "name": "python",
   "nbconvert_exporter": "python",
   "pygments_lexer": "ipython3",
   "version": "3.7.5"
  }
 },
 "nbformat": 4,
 "nbformat_minor": 2
}
