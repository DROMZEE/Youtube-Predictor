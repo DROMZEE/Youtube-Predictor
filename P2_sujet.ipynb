{
 "cells": [
  {
   "cell_type": "markdown",
   "metadata": {},
   "source": [
    "# Projet P2\n",
    "# Analyse de données et visualisation\n",
    "\n",
    "\n",
    "\n",
    "## Objectifs\n",
    "\n",
    "Analyser une base de données de votre choix avec Python (Numpy et Pandas) et utiliser des outils de visualisation (Matplotlib et Seaborn). Comme leur nom l’indique, ce sont des outils : aussi jolie soit une visualisation, elle doit répondre à une question/un besoin.\n",
    "Toujours savoir ce que vous manipulez et pourquoi vous le manipulez\n",
    "\n",
    "\n",
    "## Sources\n",
    "\n",
    "Exemples de sites sur lesquels il y a de nombreux jeux de données disponibles :\n",
    "•\thttps://github.com/fivethirtyeight/data\n",
    "•\thttps://www.kdnuggets.com/datasets/index.html\n",
    "•\thttps://www.kaggle.com/datasets\n",
    "•\thttps://data.le64.fr/pages/home2/\n",
    "•\tet il y en a environ 1 234 567 890 autres sur la toile... À vous de trouver un domaine qui vous intéresse !\n",
    "\n",
    "\n",
    "## Livrables \n",
    "\n",
    "1. Un rapport qui reprend vos analyses et résultats obtenus (5-6 visualisations maximum !) au format que vous voulez (notebook,  pdf, page html etc...)\n",
    "2.\tVotre code Python évidemment\n",
    "\n",
    "\n",
    "## Modalités \n",
    "\n",
    "8 groupes de 2 et 1 groupe de 3\n",
    "2 jours dédiés pendant la formation (peut-être un 3ème)\n",
    "Présentation le 17 ou 18 décembre\n",
    "\n",
    "\n",
    "## Évaluation\n",
    "\n",
    "Présentation orale d’un dashboard : pour intéresser vos auditeurs, il est primordial de « raconter une histoire » et pas simplement de commenter une collection de graphiques vaguement liés les uns aux autres.\n"
   ]
  },
  {
   "cell_type": "code",
   "execution_count": null,
   "metadata": {},
   "outputs": [],
   "source": []
  }
 ],
 "metadata": {
  "kernelspec": {
   "display_name": "Python 3",
   "language": "python",
   "name": "python3"
  },
  "language_info": {
   "codemirror_mode": {
    "name": "ipython",
    "version": 3
   },
   "file_extension": ".py",
   "mimetype": "text/x-python",
   "name": "python",
   "nbconvert_exporter": "python",
   "pygments_lexer": "ipython3",
   "version": "3.7.5"
  }
 },
 "nbformat": 4,
 "nbformat_minor": 2
}
