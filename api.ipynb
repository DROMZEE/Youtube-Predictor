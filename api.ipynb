{
 "cells": [
  {
   "cell_type": "markdown",
   "metadata": {},
   "source": [
    "# API"
   ]
  },
  {
   "cell_type": "markdown",
   "metadata": {},
   "source": [
    "## Installation des deux librairies nécessaires"
   ]
  },
  {
   "cell_type": "markdown",
   "metadata": {},
   "source": [
    "pip install --upgrade google-api-python-client\n",
    "pip install --upgrade google-auth-oauthlib google-auth-httplib2"
   ]
  },
  {
   "cell_type": "markdown",
   "metadata": {},
   "source": [
    "sudo si nécessaire"
   ]
  },
  {
   "cell_type": "markdown",
   "metadata": {},
   "source": [
    "https://anaconda.org/conda-forge/google-api-python-client"
   ]
  },
  {
   "cell_type": "markdown",
   "metadata": {},
   "source": [
    "https://www.presentslide.in/2019/09/extracting-youtube-data-api-python.html\n",
    "https://github.com/sainivarsha97/youTubeApi_Tutorial"
   ]
  },
  {
   "cell_type": "markdown",
   "metadata": {},
   "source": [
    "### test environnement"
   ]
  },
  {
   "cell_type": "code",
   "execution_count": 2,
   "metadata": {},
   "outputs": [
    {
     "name": "stdout",
     "output_type": "stream",
     "text": [
      "C:\\ProgramData\\Anaconda3\\python.exe\n",
      "3.7.5 (default, Oct 31 2019, 15:18:51) [MSC v.1916 64 bit (AMD64)]\n",
      "sys.version_info(major=3, minor=7, micro=5, releaselevel='final', serial=0)\n"
     ]
    }
   ],
   "source": [
    " import sys\n",
    " print(sys.executable)\n",
    " print(sys.version)\n",
    " print(sys.version_info)"
   ]
  },
  {
   "cell_type": "markdown",
   "metadata": {},
   "source": [
    "## Import library"
   ]
  },
  {
   "cell_type": "code",
   "execution_count": 27,
   "metadata": {},
   "outputs": [],
   "source": [
    "from apiclient.discovery import build"
   ]
  },
  {
   "cell_type": "markdown",
   "metadata": {},
   "source": [
    "## Paramètres confidentiel"
   ]
  },
  {
   "cell_type": "markdown",
   "metadata": {},
   "source": [
    "La clé pour l'API est a générer sur \n",
    "https://console.developers.google.com\n",
    "et a coller ci dessous (la même clé pour youTubeApiKey et developerKey"
   ]
  },
  {
   "cell_type": "code",
   "execution_count": 28,
   "metadata": {},
   "outputs": [],
   "source": [
    "youTubeApiKey=''\n",
    "youtube=build('youtube','v3',developerKey='')\n",
    "channelId='UCRWfQs1NzGqUOTF77MWHO_g'"
   ]
  },
  {
   "cell_type": "markdown",
   "metadata": {},
   "source": [
    "## Statistics"
   ]
  },
  {
   "cell_type": "code",
   "execution_count": 10,
   "metadata": {},
   "outputs": [
    {
     "data": {
      "text/plain": [
       "{'kind': 'youtube#channelListResponse',\n",
       " 'etag': '\"j6xRRd8dTPVVptg711_CSPADRfg/tX5DOW5mPVW2cijdBoamGg-bM-A\"',\n",
       " 'pageInfo': {'totalResults': 1, 'resultsPerPage': 1},\n",
       " 'items': [{'kind': 'youtube#channel',\n",
       "   'etag': '\"j6xRRd8dTPVVptg711_CSPADRfg/WXVNxIMNs3ZOZbf_tV1UZHFHrlM\"',\n",
       "   'id': 'UCRWfQs1NzGqUOTF77MWHO_g',\n",
       "   'statistics': {'viewCount': '0',\n",
       "    'commentCount': '0',\n",
       "    'subscriberCount': '0',\n",
       "    'hiddenSubscriberCount': False,\n",
       "    'videoCount': '0'}}]}"
      ]
     },
     "execution_count": 10,
     "metadata": {},
     "output_type": "execute_result"
    }
   ],
   "source": [
    "statdata=youtube.channels().list(part='statistics',id=channelId).execute()\n",
    "statdata"
   ]
  },
  {
   "cell_type": "code",
   "execution_count": 12,
   "metadata": {},
   "outputs": [
    {
     "data": {
      "text/plain": [
       "{'viewCount': '0',\n",
       " 'commentCount': '0',\n",
       " 'subscriberCount': '0',\n",
       " 'hiddenSubscriberCount': False,\n",
       " 'videoCount': '0'}"
      ]
     },
     "execution_count": 12,
     "metadata": {},
     "output_type": "execute_result"
    }
   ],
   "source": [
    "stats=statdata['items'][0]['statistics']\n",
    "stats"
   ]
  },
  {
   "cell_type": "markdown",
   "metadata": {},
   "source": [
    "### Total Number of Videos"
   ]
  },
  {
   "cell_type": "code",
   "execution_count": 13,
   "metadata": {},
   "outputs": [
    {
     "data": {
      "text/plain": [
       "'0'"
      ]
     },
     "execution_count": 13,
     "metadata": {},
     "output_type": "execute_result"
    }
   ],
   "source": [
    "videoCount=stats['videoCount']\n",
    "videoCount"
   ]
  },
  {
   "cell_type": "markdown",
   "metadata": {},
   "source": [
    "### Total Watch Time"
   ]
  },
  {
   "cell_type": "code",
   "execution_count": 14,
   "metadata": {},
   "outputs": [
    {
     "data": {
      "text/plain": [
       "'0'"
      ]
     },
     "execution_count": 14,
     "metadata": {},
     "output_type": "execute_result"
    }
   ],
   "source": [
    "viewCount=stats['viewCount']\n",
    "viewCount"
   ]
  },
  {
   "cell_type": "markdown",
   "metadata": {},
   "source": [
    "### Total Number of Subscribers"
   ]
  },
  {
   "cell_type": "code",
   "execution_count": 16,
   "metadata": {},
   "outputs": [
    {
     "data": {
      "text/plain": [
       "'0'"
      ]
     },
     "execution_count": 16,
     "metadata": {},
     "output_type": "execute_result"
    }
   ],
   "source": [
    "suscriberCount=stats['subscriberCount']\n",
    "suscriberCount"
   ]
  },
  {
   "cell_type": "markdown",
   "metadata": {},
   "source": [
    "## Snippet"
   ]
  },
  {
   "cell_type": "code",
   "execution_count": 17,
   "metadata": {},
   "outputs": [
    {
     "data": {
      "text/plain": [
       "{'kind': 'youtube#channelListResponse',\n",
       " 'etag': '\"j6xRRd8dTPVVptg711_CSPADRfg/2m0M24yjqznT8WOduqDb874vu8k\"',\n",
       " 'pageInfo': {'totalResults': 1, 'resultsPerPage': 1},\n",
       " 'items': [{'kind': 'youtube#channel',\n",
       "   'etag': '\"j6xRRd8dTPVVptg711_CSPADRfg/UbyIwFOziMYL-fzndTPq-sgBJQE\"',\n",
       "   'id': 'UCRWfQs1NzGqUOTF77MWHO_g',\n",
       "   'snippet': {'title': 'Cédric Dromzée',\n",
       "    'description': '',\n",
       "    'customUrl': 'cedricdromzee',\n",
       "    'publishedAt': '2009-11-12T21:37:47.000Z',\n",
       "    'thumbnails': {'default': {'url': 'https://yt3.ggpht.com/a/AGF-l7-jw03P677RRpURuZpIxfKVW25NYeVO7XP9Qw=s88-c-k-c0xffffffff-no-rj-mo',\n",
       "      'width': 88,\n",
       "      'height': 88},\n",
       "     'medium': {'url': 'https://yt3.ggpht.com/a/AGF-l7-jw03P677RRpURuZpIxfKVW25NYeVO7XP9Qw=s240-c-k-c0xffffffff-no-rj-mo',\n",
       "      'width': 240,\n",
       "      'height': 240},\n",
       "     'high': {'url': 'https://yt3.ggpht.com/a/AGF-l7-jw03P677RRpURuZpIxfKVW25NYeVO7XP9Qw=s800-c-k-c0xffffffff-no-rj-mo',\n",
       "      'width': 800,\n",
       "      'height': 800}},\n",
       "    'localized': {'title': 'Cédric Dromzée', 'description': ''},\n",
       "    'country': 'FR'}}]}"
      ]
     },
     "execution_count": 17,
     "metadata": {},
     "output_type": "execute_result"
    }
   ],
   "source": [
    "snippetdata=youtube.channels().list(part='snippet',id=channelId).execute()\n",
    "snippetdata"
   ]
  },
  {
   "cell_type": "code",
   "execution_count": 18,
   "metadata": {},
   "outputs": [
    {
     "data": {
      "text/plain": [
       "'Cédric Dromzée'"
      ]
     },
     "execution_count": 18,
     "metadata": {},
     "output_type": "execute_result"
    }
   ],
   "source": [
    "title=snippetdata['items'][0]['snippet']['title']\n",
    "title"
   ]
  },
  {
   "cell_type": "code",
   "execution_count": 19,
   "metadata": {},
   "outputs": [
    {
     "data": {
      "text/plain": [
       "''"
      ]
     },
     "execution_count": 19,
     "metadata": {},
     "output_type": "execute_result"
    }
   ],
   "source": [
    "description=snippetdata['items'][0]['snippet']['description']\n",
    "description"
   ]
  },
  {
   "cell_type": "code",
   "execution_count": 20,
   "metadata": {},
   "outputs": [
    {
     "data": {
      "text/plain": [
       "'https://yt3.ggpht.com/a/AGF-l7-jw03P677RRpURuZpIxfKVW25NYeVO7XP9Qw=s88-c-k-c0xffffffff-no-rj-mo'"
      ]
     },
     "execution_count": 20,
     "metadata": {},
     "output_type": "execute_result"
    }
   ],
   "source": [
    "logo=snippetdata['items'][0]['snippet']['thumbnails']['default']['url']\n",
    "logo"
   ]
  },
  {
   "cell_type": "markdown",
   "metadata": {},
   "source": [
    "## Getting All the Video Details "
   ]
  },
  {
   "cell_type": "markdown",
   "metadata": {},
   "source": [
    "ContentDetails"
   ]
  },
  {
   "cell_type": "code",
   "execution_count": 21,
   "metadata": {},
   "outputs": [
    {
     "name": "stdout",
     "output_type": "stream",
     "text": [
      "[]\n"
     ]
    }
   ],
   "source": [
    "contentdata=youtube.channels().list(id=channelId,part='contentDetails').execute()\n",
    "playlist_id = contentdata['items'][0]['contentDetails']['relatedPlaylists']['uploads']\n",
    "videos = []\n",
    "next_page_token = None\n",
    "\n",
    "while 1:\n",
    "    res = youtube.playlistItems().list(playlistId=playlist_id, \n",
    "                                    part='snippet', \n",
    "                                    maxResults=50,\n",
    "                                    pageToken=next_page_token).execute()\n",
    "    videos += res['items']\n",
    "    next_page_token = res.get('nextPageToken')\n",
    "\n",
    "    if next_page_token is None:\n",
    "        break\n",
    "\n",
    "print(videos)"
   ]
  },
  {
   "cell_type": "markdown",
   "metadata": {},
   "source": [
    "Getting Video ID for each Video"
   ]
  },
  {
   "cell_type": "code",
   "execution_count": 22,
   "metadata": {},
   "outputs": [
    {
     "data": {
      "text/plain": [
       "[]"
      ]
     },
     "execution_count": 22,
     "metadata": {},
     "output_type": "execute_result"
    }
   ],
   "source": [
    "video_ids = list(map(lambda x:x['snippet']['resourceId']['videoId'], videos))\n",
    "video_ids"
   ]
  },
  {
   "cell_type": "markdown",
   "metadata": {},
   "source": [
    "Getting Statistics for Each Video"
   ]
  },
  {
   "cell_type": "code",
   "execution_count": 23,
   "metadata": {},
   "outputs": [
    {
     "name": "stdout",
     "output_type": "stream",
     "text": [
      "[]\n"
     ]
    }
   ],
   "source": [
    "stats = []\n",
    "for i in range(0, len(video_ids), 40):\n",
    "    res = (youtube).videos().list(id=','.join(video_ids[i:i+40]),part='statistics').execute()\n",
    "    stats += res['items']\n",
    "\n",
    "print(stats)"
   ]
  },
  {
   "cell_type": "markdown",
   "metadata": {},
   "source": [
    "Collecting All the Information in a List"
   ]
  },
  {
   "cell_type": "code",
   "execution_count": 25,
   "metadata": {},
   "outputs": [],
   "source": [
    "title=[]\n",
    "liked=[]\n",
    "disliked=[]\n",
    "views=[]\n",
    "url=[]\n",
    "comment=[]\n",
    "for i in range(len(videos)):      \n",
    "        title.append((videos[i])['snippet']['title'])\n",
    "        url.append(\"https://www.youtube.com/watch?v=\"+(all_videos[i])['snippet']['resourceId']['videoId'])\n",
    "        liked.append(int((stats[i])['statistics']['likeCount']))\n",
    "        disliked.append(int((stats[i])['statistics']['dislikeCount']))\n",
    "        views.append(int((stats[i])['statistics']['viewCount']))\n",
    "        comment.append(int((stats[i])['statistics']['commentCount']))"
   ]
  },
  {
   "cell_type": "markdown",
   "metadata": {},
   "source": [
    "## Creating a Dataframe for the Collected Data"
   ]
  },
  {
   "cell_type": "code",
   "execution_count": 26,
   "metadata": {},
   "outputs": [
    {
     "data": {
      "text/html": [
       "<div>\n",
       "<style scoped>\n",
       "    .dataframe tbody tr th:only-of-type {\n",
       "        vertical-align: middle;\n",
       "    }\n",
       "\n",
       "    .dataframe tbody tr th {\n",
       "        vertical-align: top;\n",
       "    }\n",
       "\n",
       "    .dataframe thead th {\n",
       "        text-align: right;\n",
       "    }\n",
       "</style>\n",
       "<table border=\"1\" class=\"dataframe\">\n",
       "  <thead>\n",
       "    <tr style=\"text-align: right;\">\n",
       "      <th></th>\n",
       "      <th>title</th>\n",
       "      <th>url</th>\n",
       "      <th>liked</th>\n",
       "      <th>disliked</th>\n",
       "      <th>views</th>\n",
       "      <th>comment</th>\n",
       "    </tr>\n",
       "  </thead>\n",
       "  <tbody>\n",
       "  </tbody>\n",
       "</table>\n",
       "</div>"
      ],
      "text/plain": [
       "Empty DataFrame\n",
       "Columns: [title, url, liked, disliked, views, comment]\n",
       "Index: []"
      ]
     },
     "execution_count": 26,
     "metadata": {},
     "output_type": "execute_result"
    }
   ],
   "source": [
    "import pandas as pd\n",
    "data={'title':title,'url':url,'liked':liked,'disliked':disliked,'views':views,'comment':comment}\n",
    "df=pd.DataFrame(data)\n",
    "df"
   ]
  },
  {
   "cell_type": "markdown",
   "metadata": {},
   "source": [
    "### tri dictionnaire"
   ]
  },
  {
   "cell_type": "markdown",
   "metadata": {},
   "source": [
    "#### Solution 1 avec .get"
   ]
  },
  {
   "cell_type": "code",
   "execution_count": 6,
   "metadata": {},
   "outputs": [
    {
     "name": "stdout",
     "output_type": "stream",
     "text": [
      "aina 5\n",
      "tuli 4\n",
      "joka 3\n",
      "sana 2\n",
      "siis 1\n"
     ]
    }
   ],
   "source": [
    "\n",
    "dictionary = dict(siis = 1, sana = 2, joka = 3, tuli = 4, aina = 5)\n",
    "for word in sorted(dictionary, key=dictionary.get, reverse=True):\n",
    "  print(word, dictionary[word])"
   ]
  },
  {
   "cell_type": "markdown",
   "metadata": {},
   "source": [
    "#### Solution 2 avec lambda"
   ]
  },
  {
   "cell_type": "code",
   "execution_count": 10,
   "metadata": {},
   "outputs": [
    {
     "data": {
      "text/plain": [
       "[('aina', 5), ('tuli', 4), ('joka', 3), ('sana', 2), ('siis', 1)]"
      ]
     },
     "execution_count": 10,
     "metadata": {},
     "output_type": "execute_result"
    }
   ],
   "source": [
    "dictionary = dict(siis = 1, sana = 2, joka = 3, tuli = 4, aina = 5)\n",
    "sorted(dictionary.items(),key=lambda c:c[1], reverse=True)"
   ]
  },
  {
   "cell_type": "markdown",
   "metadata": {},
   "source": [
    "## Durées"
   ]
  },
  {
   "cell_type": "markdown",
   "metadata": {},
   "source": [
    "### tests"
   ]
  },
  {
   "cell_type": "markdown",
   "metadata": {},
   "source": [
    "* 50 video IDs in a search\n",
    "* https://developers.google.com/youtube/v3/docs/videos/list\n",
    "* set part=contentDetails\n",
    "* https://stackoverflow.com/questions/15596753/how-do-i-get-video-durations-with-youtube-api-version-3"
   ]
  },
  {
   "cell_type": "markdown",
   "metadata": {},
   "source": [
    "ee6OFs8TdEg"
   ]
  },
  {
   "cell_type": "code",
   "execution_count": 29,
   "metadata": {},
   "outputs": [],
   "source": [
    "#video_ids = ['ee6OFs8TdEg']"
   ]
  },
  {
   "cell_type": "code",
   "execution_count": 43,
   "metadata": {},
   "outputs": [],
   "source": [
    "fr_videos = pd.read_csv(\"Data/FRvideos.csv\")\n",
    "video_ids = fr_videos['video_id']"
   ]
  },
  {
   "cell_type": "code",
   "execution_count": 41,
   "metadata": {},
   "outputs": [],
   "source": [
    "#video_ids = ['ee6OFs8TdEg']"
   ]
  },
  {
   "cell_type": "code",
   "execution_count": 44,
   "metadata": {},
   "outputs": [
    {
     "name": "stderr",
     "output_type": "stream",
     "text": [
      "IOPub data rate exceeded.\n",
      "The notebook server will temporarily stop sending output\n",
      "to the client in order to avoid crashing it.\n",
      "To change this limit, set the config variable\n",
      "`--NotebookApp.iopub_data_rate_limit`.\n",
      "\n",
      "Current values:\n",
      "NotebookApp.iopub_data_rate_limit=1000000.0 (bytes/sec)\n",
      "NotebookApp.rate_limit_window=3.0 (secs)\n",
      "\n"
     ]
    }
   ],
   "source": [
    "import json\n",
    "stats = []\n",
    "file=open(\"contentDetails.txt\",\"a\")\n",
    "for i in range(0, len(video_ids), 40):\n",
    "    res = (youtube).videos().list(id=','.join(video_ids[i:i+40]),part='contentDetails').execute()\n",
    "    #my_file.write(res +'\\n')\n",
    "    file.write(json.dumps(res))\n",
    "    stats += res['items']\n",
    "my_file.close()\n",
    "print(stats)\n",
    "#type(res)"
   ]
  },
  {
   "cell_type": "code",
   "execution_count": null,
   "metadata": {},
   "outputs": [],
   "source": [
    "stats = []\n",
    "for i in range(0, len(video_ids), 40):\n",
    "    res = (youtube).videos().list(id=','.join(video_ids[i:i+40]),part='contentDetails').execute()\n",
    "    my_file.write(ips.get('res')+'\\n')\n",
    "    stats += res['items']\n",
    "print(stats)\n",
    "my_file.close()"
   ]
  },
  {
   "cell_type": "code",
   "execution_count": null,
   "metadata": {},
   "outputs": [],
   "source": [
    "def convert_YouTube_duration_to_seconds(duration):\n",
    "   day_time = duration.split('T')\n",
    "   day_duration = day_time[0].replace('P', '')\n",
    "   day_list = day_duration.split('D')\n",
    "   if len(day_list) == 2:\n",
    "      day = int(day_list[0]) * 60 * 60 * 24\n",
    "      day_list = day_list[1]\n",
    "   else:\n",
    "      day = 0\n",
    "      day_list = day_list[0]\n",
    "   hour_list = day_time[1].split('H')\n",
    "   if len(hour_list) == 2:\n",
    "      hour = int(hour_list[0]) * 60 * 60\n",
    "      hour_list = hour_list[1]\n",
    "   else:\n",
    "      hour = 0\n",
    "      hour_list = hour_list[0]\n",
    "   minute_list = hour_list.split('M')\n",
    "   if len(minute_list) == 2:\n",
    "      minute = int(minute_list[0]) * 60\n",
    "      minute_list = minute_list[1]\n",
    "   else:\n",
    "      minute = 0\n",
    "      minute_list = minute_list[0]\n",
    "   second_list = minute_list.split('S')\n",
    "   if len(second_list) == 2:\n",
    "      second = int(second_list[0])\n",
    "   else:\n",
    "      second = 0\n",
    "   return day + hour + minute + second"
   ]
  }
 ],
 "metadata": {
  "kernelspec": {
   "display_name": "Python 3",
   "language": "python",
   "name": "python3"
  },
  "language_info": {
   "codemirror_mode": {
    "name": "ipython",
    "version": 3
   },
   "file_extension": ".py",
   "mimetype": "text/x-python",
   "name": "python",
   "nbconvert_exporter": "python",
   "pygments_lexer": "ipython3",
   "version": "3.7.5"
  }
 },
 "nbformat": 4,
 "nbformat_minor": 2
}
