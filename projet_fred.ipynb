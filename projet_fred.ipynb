{
 "cells": [
  {
   "cell_type": "markdown",
   "metadata": {},
   "source": [
    "# Projet 2 - Youtube --Fred--"
   ]
  },
  {
   "cell_type": "markdown",
   "metadata": {},
   "source": [
    "### Import des modules"
   ]
  },
  {
   "cell_type": "code",
   "execution_count": 1,
   "metadata": {},
   "outputs": [],
   "source": [
    "import numpy as np\n",
    "import pandas as pd\n",
    "import matplotlib.pyplot as plt"
   ]
  },
  {
   "cell_type": "markdown",
   "metadata": {},
   "source": [
    "### Import des données"
   ]
  },
  {
   "cell_type": "markdown",
   "metadata": {},
   "source": [
    "##### Data"
   ]
  },
  {
   "cell_type": "code",
   "execution_count": 2,
   "metadata": {},
   "outputs": [],
   "source": [
    "data_fr = pd.read_csv(\"data/FRvideos.csv\")\n",
    "data_us = pd.read_csv(\"data/USvideos.csv\")"
   ]
  },
  {
   "cell_type": "code",
   "execution_count": 3,
   "metadata": {},
   "outputs": [
    {
     "name": "stdout",
     "output_type": "stream",
     "text": [
      "(40949, 16)\n"
     ]
    },
    {
     "data": {
      "text/html": [
       "<div>\n",
       "<style scoped>\n",
       "    .dataframe tbody tr th:only-of-type {\n",
       "        vertical-align: middle;\n",
       "    }\n",
       "\n",
       "    .dataframe tbody tr th {\n",
       "        vertical-align: top;\n",
       "    }\n",
       "\n",
       "    .dataframe thead th {\n",
       "        text-align: right;\n",
       "    }\n",
       "</style>\n",
       "<table border=\"1\" class=\"dataframe\">\n",
       "  <thead>\n",
       "    <tr style=\"text-align: right;\">\n",
       "      <th></th>\n",
       "      <th>video_id</th>\n",
       "      <th>trending_date</th>\n",
       "      <th>title</th>\n",
       "      <th>channel_title</th>\n",
       "      <th>category_id</th>\n",
       "      <th>publish_time</th>\n",
       "      <th>tags</th>\n",
       "      <th>views</th>\n",
       "      <th>likes</th>\n",
       "      <th>dislikes</th>\n",
       "      <th>comment_count</th>\n",
       "      <th>thumbnail_link</th>\n",
       "      <th>comments_disabled</th>\n",
       "      <th>ratings_disabled</th>\n",
       "      <th>video_error_or_removed</th>\n",
       "      <th>description</th>\n",
       "    </tr>\n",
       "  </thead>\n",
       "  <tbody>\n",
       "    <tr>\n",
       "      <td>0</td>\n",
       "      <td>2kyS6SvSYSE</td>\n",
       "      <td>17.14.11</td>\n",
       "      <td>WE WANT TO TALK ABOUT OUR MARRIAGE</td>\n",
       "      <td>CaseyNeistat</td>\n",
       "      <td>22</td>\n",
       "      <td>2017-11-13T17:13:01.000Z</td>\n",
       "      <td>SHANtell martin</td>\n",
       "      <td>748374</td>\n",
       "      <td>57527</td>\n",
       "      <td>2966</td>\n",
       "      <td>15954</td>\n",
       "      <td>https://i.ytimg.com/vi/2kyS6SvSYSE/default.jpg</td>\n",
       "      <td>False</td>\n",
       "      <td>False</td>\n",
       "      <td>False</td>\n",
       "      <td>SHANTELL'S CHANNEL - https://www.youtube.com/s...</td>\n",
       "    </tr>\n",
       "    <tr>\n",
       "      <td>1</td>\n",
       "      <td>1ZAPwfrtAFY</td>\n",
       "      <td>17.14.11</td>\n",
       "      <td>The Trump Presidency: Last Week Tonight with J...</td>\n",
       "      <td>LastWeekTonight</td>\n",
       "      <td>24</td>\n",
       "      <td>2017-11-13T07:30:00.000Z</td>\n",
       "      <td>last week tonight trump presidency|\"last week ...</td>\n",
       "      <td>2418783</td>\n",
       "      <td>97185</td>\n",
       "      <td>6146</td>\n",
       "      <td>12703</td>\n",
       "      <td>https://i.ytimg.com/vi/1ZAPwfrtAFY/default.jpg</td>\n",
       "      <td>False</td>\n",
       "      <td>False</td>\n",
       "      <td>False</td>\n",
       "      <td>One year after the presidential election, John...</td>\n",
       "    </tr>\n",
       "  </tbody>\n",
       "</table>\n",
       "</div>"
      ],
      "text/plain": [
       "      video_id trending_date  \\\n",
       "0  2kyS6SvSYSE      17.14.11   \n",
       "1  1ZAPwfrtAFY      17.14.11   \n",
       "\n",
       "                                               title    channel_title  \\\n",
       "0                 WE WANT TO TALK ABOUT OUR MARRIAGE     CaseyNeistat   \n",
       "1  The Trump Presidency: Last Week Tonight with J...  LastWeekTonight   \n",
       "\n",
       "   category_id              publish_time  \\\n",
       "0           22  2017-11-13T17:13:01.000Z   \n",
       "1           24  2017-11-13T07:30:00.000Z   \n",
       "\n",
       "                                                tags    views  likes  \\\n",
       "0                                    SHANtell martin   748374  57527   \n",
       "1  last week tonight trump presidency|\"last week ...  2418783  97185   \n",
       "\n",
       "   dislikes  comment_count                                  thumbnail_link  \\\n",
       "0      2966          15954  https://i.ytimg.com/vi/2kyS6SvSYSE/default.jpg   \n",
       "1      6146          12703  https://i.ytimg.com/vi/1ZAPwfrtAFY/default.jpg   \n",
       "\n",
       "   comments_disabled  ratings_disabled  video_error_or_removed  \\\n",
       "0              False             False                   False   \n",
       "1              False             False                   False   \n",
       "\n",
       "                                         description  \n",
       "0  SHANTELL'S CHANNEL - https://www.youtube.com/s...  \n",
       "1  One year after the presidential election, John...  "
      ]
     },
     "execution_count": 3,
     "metadata": {},
     "output_type": "execute_result"
    }
   ],
   "source": [
    "print(data_us.shape)\n",
    "data_us.head(2)"
   ]
  },
  {
   "cell_type": "code",
   "execution_count": 4,
   "metadata": {},
   "outputs": [
    {
     "name": "stdout",
     "output_type": "stream",
     "text": [
      "(40724, 16)\n"
     ]
    },
    {
     "data": {
      "text/html": [
       "<div>\n",
       "<style scoped>\n",
       "    .dataframe tbody tr th:only-of-type {\n",
       "        vertical-align: middle;\n",
       "    }\n",
       "\n",
       "    .dataframe tbody tr th {\n",
       "        vertical-align: top;\n",
       "    }\n",
       "\n",
       "    .dataframe thead th {\n",
       "        text-align: right;\n",
       "    }\n",
       "</style>\n",
       "<table border=\"1\" class=\"dataframe\">\n",
       "  <thead>\n",
       "    <tr style=\"text-align: right;\">\n",
       "      <th></th>\n",
       "      <th>video_id</th>\n",
       "      <th>trending_date</th>\n",
       "      <th>title</th>\n",
       "      <th>channel_title</th>\n",
       "      <th>category_id</th>\n",
       "      <th>publish_time</th>\n",
       "      <th>tags</th>\n",
       "      <th>views</th>\n",
       "      <th>likes</th>\n",
       "      <th>dislikes</th>\n",
       "      <th>comment_count</th>\n",
       "      <th>thumbnail_link</th>\n",
       "      <th>comments_disabled</th>\n",
       "      <th>ratings_disabled</th>\n",
       "      <th>video_error_or_removed</th>\n",
       "      <th>description</th>\n",
       "    </tr>\n",
       "  </thead>\n",
       "  <tbody>\n",
       "    <tr>\n",
       "      <td>0</td>\n",
       "      <td>Ro6eob0LrCY</td>\n",
       "      <td>17.14.11</td>\n",
       "      <td>Malika LePen : Femme de Gauche - Trailer</td>\n",
       "      <td>Le Raptor Dissident</td>\n",
       "      <td>24</td>\n",
       "      <td>2017-11-13T17:32:55.000Z</td>\n",
       "      <td>Raptor\"|\"Dissident\"|\"Expliquez\"|\"moi\"|\"cette\"|...</td>\n",
       "      <td>212702</td>\n",
       "      <td>29282</td>\n",
       "      <td>1108</td>\n",
       "      <td>3817</td>\n",
       "      <td>https://i.ytimg.com/vi/Ro6eob0LrCY/default.jpg</td>\n",
       "      <td>False</td>\n",
       "      <td>False</td>\n",
       "      <td>False</td>\n",
       "      <td>Dimanche.\\n18h30.\\nSoyez présents pour la vidé...</td>\n",
       "    </tr>\n",
       "    <tr>\n",
       "      <td>1</td>\n",
       "      <td>Yo84eqYwP98</td>\n",
       "      <td>17.14.11</td>\n",
       "      <td>LA PIRE PARTIE ft Le Rire Jaune, Pierre Croce,...</td>\n",
       "      <td>Le Labo</td>\n",
       "      <td>24</td>\n",
       "      <td>2017-11-12T15:00:02.000Z</td>\n",
       "      <td>[none]</td>\n",
       "      <td>432721</td>\n",
       "      <td>14053</td>\n",
       "      <td>576</td>\n",
       "      <td>1161</td>\n",
       "      <td>https://i.ytimg.com/vi/Yo84eqYwP98/default.jpg</td>\n",
       "      <td>False</td>\n",
       "      <td>False</td>\n",
       "      <td>False</td>\n",
       "      <td>Le jeu de société: https://goo.gl/hhG1Ta\\n\\nGa...</td>\n",
       "    </tr>\n",
       "  </tbody>\n",
       "</table>\n",
       "</div>"
      ],
      "text/plain": [
       "      video_id trending_date  \\\n",
       "0  Ro6eob0LrCY      17.14.11   \n",
       "1  Yo84eqYwP98      17.14.11   \n",
       "\n",
       "                                               title        channel_title  \\\n",
       "0           Malika LePen : Femme de Gauche - Trailer  Le Raptor Dissident   \n",
       "1  LA PIRE PARTIE ft Le Rire Jaune, Pierre Croce,...              Le Labo   \n",
       "\n",
       "   category_id              publish_time  \\\n",
       "0           24  2017-11-13T17:32:55.000Z   \n",
       "1           24  2017-11-12T15:00:02.000Z   \n",
       "\n",
       "                                                tags   views  likes  dislikes  \\\n",
       "0  Raptor\"|\"Dissident\"|\"Expliquez\"|\"moi\"|\"cette\"|...  212702  29282      1108   \n",
       "1                                             [none]  432721  14053       576   \n",
       "\n",
       "   comment_count                                  thumbnail_link  \\\n",
       "0           3817  https://i.ytimg.com/vi/Ro6eob0LrCY/default.jpg   \n",
       "1           1161  https://i.ytimg.com/vi/Yo84eqYwP98/default.jpg   \n",
       "\n",
       "   comments_disabled  ratings_disabled  video_error_or_removed  \\\n",
       "0              False             False                   False   \n",
       "1              False             False                   False   \n",
       "\n",
       "                                         description  \n",
       "0  Dimanche.\\n18h30.\\nSoyez présents pour la vidé...  \n",
       "1  Le jeu de société: https://goo.gl/hhG1Ta\\n\\nGa...  "
      ]
     },
     "execution_count": 4,
     "metadata": {},
     "output_type": "execute_result"
    }
   ],
   "source": [
    "print(data_fr.shape)\n",
    "data_fr.head(2)"
   ]
  },
  {
   "cell_type": "markdown",
   "metadata": {},
   "source": [
    "##### Catégories"
   ]
  },
  {
   "cell_type": "code",
   "execution_count": 5,
   "metadata": {
    "scrolled": true
   },
   "outputs": [],
   "source": [
    "cat_fr = pd.read_json(\"data/FR_category_id.json\")\n",
    "cat_us = pd.read_json(\"data/US_category_id.json\")"
   ]
  },
  {
   "cell_type": "markdown",
   "metadata": {},
   "source": [
    "##### Mise en listes"
   ]
  },
  {
   "cell_type": "code",
   "execution_count": 6,
   "metadata": {},
   "outputs": [
    {
     "name": "stdout",
     "output_type": "stream",
     "text": [
      "['Film & Animation', 'Autos & Vehicles', 'Music', 'Pets & Animals', 'Sports', 'Short Movies', 'Travel & Events', 'Gaming', 'Videoblogging', 'People & Blogs', 'Comedy', 'Entertainment', 'News & Politics', 'Howto & Style', 'Education', 'Science & Technology', 'Movies', 'Anime/Animation', 'Action/Adventure', 'Classics', 'Comedy', 'Documentary', 'Drama', 'Family', 'Foreign', 'Horror', 'Sci-Fi/Fantasy', 'Thriller', 'Shorts', 'Shows', 'Trailers']\n"
     ]
    }
   ],
   "source": [
    "list_cat_fr = []\n",
    "for x in range(cat_fr.shape[0]):\n",
    "    d = cat_fr.iloc[x,2][\"snippet\"][\"title\"]\n",
    "    list_cat_fr.append(d)\n",
    "print(list_cat_fr)"
   ]
  },
  {
   "cell_type": "code",
   "execution_count": 7,
   "metadata": {
    "scrolled": false
   },
   "outputs": [
    {
     "name": "stdout",
     "output_type": "stream",
     "text": [
      "['Film & Animation', 'Autos & Vehicles', 'Music', 'Pets & Animals', 'Sports', 'Short Movies', 'Travel & Events', 'Gaming', 'Videoblogging', 'People & Blogs', 'Comedy', 'Entertainment', 'News & Politics', 'Howto & Style', 'Education', 'Science & Technology', 'Nonprofits & Activism', 'Movies', 'Anime/Animation', 'Action/Adventure', 'Classics', 'Comedy', 'Documentary', 'Drama', 'Family', 'Foreign', 'Horror', 'Sci-Fi/Fantasy', 'Thriller', 'Shorts', 'Shows', 'Trailers']\n"
     ]
    }
   ],
   "source": [
    "list_cat_us = []\n",
    "for x in range(cat_us.shape[0]):\n",
    "    d = cat_us.iloc[x,2][\"snippet\"][\"title\"]\n",
    "    list_cat_us.append(d)\n",
    "print(list_cat_us)"
   ]
  },
  {
   "cell_type": "markdown",
   "metadata": {},
   "source": [
    "### Modifications des data sets"
   ]
  },
  {
   "cell_type": "markdown",
   "metadata": {},
   "source": [
    "##### Modification d'index"
   ]
  },
  {
   "cell_type": "code",
   "execution_count": 8,
   "metadata": {},
   "outputs": [],
   "source": [
    "data_fr = data_fr.set_index(\"video_id\")\n",
    "data_us = data_us.set_index(\"video_id\")"
   ]
  },
  {
   "cell_type": "markdown",
   "metadata": {},
   "source": [
    "##### Ajout d'une colonne \"category\""
   ]
  },
  {
   "cell_type": "code",
   "execution_count": 9,
   "metadata": {},
   "outputs": [
    {
     "name": "stderr",
     "output_type": "stream",
     "text": [
      "/home/fred/anaconda3/lib/python3.7/site-packages/ipykernel_launcher.py:4: SettingWithCopyWarning: \n",
      "A value is trying to be set on a copy of a slice from a DataFrame\n",
      "\n",
      "See the caveats in the documentation: http://pandas.pydata.org/pandas-docs/stable/user_guide/indexing.html#returning-a-view-versus-a-copy\n",
      "  after removing the cwd from sys.path.\n"
     ]
    }
   ],
   "source": [
    "data_fr[\"category\"] = \"\"\n",
    "for x in range(len(list_cat_fr)):\n",
    "    filtre = data_fr[\"category_id\"] == x\n",
    "    data_fr[\"category\"][filtre] = list_cat_fr[x]"
   ]
  },
  {
   "cell_type": "code",
   "execution_count": 10,
   "metadata": {},
   "outputs": [
    {
     "name": "stderr",
     "output_type": "stream",
     "text": [
      "/home/fred/anaconda3/lib/python3.7/site-packages/ipykernel_launcher.py:4: SettingWithCopyWarning: \n",
      "A value is trying to be set on a copy of a slice from a DataFrame\n",
      "\n",
      "See the caveats in the documentation: http://pandas.pydata.org/pandas-docs/stable/user_guide/indexing.html#returning-a-view-versus-a-copy\n",
      "  after removing the cwd from sys.path.\n"
     ]
    }
   ],
   "source": [
    "data_us[\"category\"] = \"\"\n",
    "for x in range(len(list_cat_us)):\n",
    "    filtre = data_us[\"category_id\"] == x\n",
    "    data_us[\"category\"][filtre] = list_cat_us[x]"
   ]
  },
  {
   "cell_type": "code",
   "execution_count": 11,
   "metadata": {},
   "outputs": [
    {
     "data": {
      "text/html": [
       "<div>\n",
       "<style scoped>\n",
       "    .dataframe tbody tr th:only-of-type {\n",
       "        vertical-align: middle;\n",
       "    }\n",
       "\n",
       "    .dataframe tbody tr th {\n",
       "        vertical-align: top;\n",
       "    }\n",
       "\n",
       "    .dataframe thead th {\n",
       "        text-align: right;\n",
       "    }\n",
       "</style>\n",
       "<table border=\"1\" class=\"dataframe\">\n",
       "  <thead>\n",
       "    <tr style=\"text-align: right;\">\n",
       "      <th></th>\n",
       "      <th>trending_date</th>\n",
       "      <th>title</th>\n",
       "      <th>channel_title</th>\n",
       "      <th>category_id</th>\n",
       "      <th>publish_time</th>\n",
       "      <th>tags</th>\n",
       "      <th>views</th>\n",
       "      <th>likes</th>\n",
       "      <th>dislikes</th>\n",
       "      <th>comment_count</th>\n",
       "      <th>thumbnail_link</th>\n",
       "      <th>comments_disabled</th>\n",
       "      <th>ratings_disabled</th>\n",
       "      <th>video_error_or_removed</th>\n",
       "      <th>description</th>\n",
       "      <th>category</th>\n",
       "    </tr>\n",
       "    <tr>\n",
       "      <th>video_id</th>\n",
       "      <th></th>\n",
       "      <th></th>\n",
       "      <th></th>\n",
       "      <th></th>\n",
       "      <th></th>\n",
       "      <th></th>\n",
       "      <th></th>\n",
       "      <th></th>\n",
       "      <th></th>\n",
       "      <th></th>\n",
       "      <th></th>\n",
       "      <th></th>\n",
       "      <th></th>\n",
       "      <th></th>\n",
       "      <th></th>\n",
       "      <th></th>\n",
       "    </tr>\n",
       "  </thead>\n",
       "  <tbody>\n",
       "    <tr>\n",
       "      <td>2kyS6SvSYSE</td>\n",
       "      <td>17.14.11</td>\n",
       "      <td>WE WANT TO TALK ABOUT OUR MARRIAGE</td>\n",
       "      <td>CaseyNeistat</td>\n",
       "      <td>22</td>\n",
       "      <td>2017-11-13T17:13:01.000Z</td>\n",
       "      <td>SHANtell martin</td>\n",
       "      <td>748374</td>\n",
       "      <td>57527</td>\n",
       "      <td>2966</td>\n",
       "      <td>15954</td>\n",
       "      <td>https://i.ytimg.com/vi/2kyS6SvSYSE/default.jpg</td>\n",
       "      <td>False</td>\n",
       "      <td>False</td>\n",
       "      <td>False</td>\n",
       "      <td>SHANTELL'S CHANNEL - https://www.youtube.com/s...</td>\n",
       "      <td>Documentary</td>\n",
       "    </tr>\n",
       "  </tbody>\n",
       "</table>\n",
       "</div>"
      ],
      "text/plain": [
       "            trending_date                               title channel_title  \\\n",
       "video_id                                                                      \n",
       "2kyS6SvSYSE      17.14.11  WE WANT TO TALK ABOUT OUR MARRIAGE  CaseyNeistat   \n",
       "\n",
       "             category_id              publish_time             tags   views  \\\n",
       "video_id                                                                      \n",
       "2kyS6SvSYSE           22  2017-11-13T17:13:01.000Z  SHANtell martin  748374   \n",
       "\n",
       "             likes  dislikes  comment_count  \\\n",
       "video_id                                      \n",
       "2kyS6SvSYSE  57527      2966          15954   \n",
       "\n",
       "                                             thumbnail_link  \\\n",
       "video_id                                                      \n",
       "2kyS6SvSYSE  https://i.ytimg.com/vi/2kyS6SvSYSE/default.jpg   \n",
       "\n",
       "             comments_disabled  ratings_disabled  video_error_or_removed  \\\n",
       "video_id                                                                   \n",
       "2kyS6SvSYSE              False             False                   False   \n",
       "\n",
       "                                                   description     category  \n",
       "video_id                                                                     \n",
       "2kyS6SvSYSE  SHANTELL'S CHANNEL - https://www.youtube.com/s...  Documentary  "
      ]
     },
     "execution_count": 11,
     "metadata": {},
     "output_type": "execute_result"
    }
   ],
   "source": [
    "data_us.head(1)"
   ]
  },
  {
   "cell_type": "code",
   "execution_count": null,
   "metadata": {},
   "outputs": [],
   "source": []
  },
  {
   "cell_type": "code",
   "execution_count": null,
   "metadata": {},
   "outputs": [],
   "source": []
  },
  {
   "cell_type": "markdown",
   "metadata": {},
   "source": [
    "## Graphs par catégories"
   ]
  },
  {
   "cell_type": "markdown",
   "metadata": {},
   "source": [
    "#### Nouveau DataFrame allégé"
   ]
  },
  {
   "cell_type": "code",
   "execution_count": 12,
   "metadata": {},
   "outputs": [],
   "source": [
    "df = data_fr[[\"title\", \"category\", \"views\", \"likes\", \"dislikes\", \"comment_count\"]]"
   ]
  },
  {
   "cell_type": "code",
   "execution_count": 13,
   "metadata": {},
   "outputs": [
    {
     "data": {
      "text/html": [
       "<div>\n",
       "<style scoped>\n",
       "    .dataframe tbody tr th:only-of-type {\n",
       "        vertical-align: middle;\n",
       "    }\n",
       "\n",
       "    .dataframe tbody tr th {\n",
       "        vertical-align: top;\n",
       "    }\n",
       "\n",
       "    .dataframe thead th {\n",
       "        text-align: right;\n",
       "    }\n",
       "</style>\n",
       "<table border=\"1\" class=\"dataframe\">\n",
       "  <thead>\n",
       "    <tr style=\"text-align: right;\">\n",
       "      <th></th>\n",
       "      <th>title</th>\n",
       "      <th>category</th>\n",
       "      <th>views</th>\n",
       "      <th>likes</th>\n",
       "      <th>dislikes</th>\n",
       "      <th>comment_count</th>\n",
       "    </tr>\n",
       "    <tr>\n",
       "      <th>video_id</th>\n",
       "      <th></th>\n",
       "      <th></th>\n",
       "      <th></th>\n",
       "      <th></th>\n",
       "      <th></th>\n",
       "      <th></th>\n",
       "    </tr>\n",
       "  </thead>\n",
       "  <tbody>\n",
       "    <tr>\n",
       "      <td>Ro6eob0LrCY</td>\n",
       "      <td>Malika LePen : Femme de Gauche - Trailer</td>\n",
       "      <td>Foreign</td>\n",
       "      <td>212702</td>\n",
       "      <td>29282</td>\n",
       "      <td>1108</td>\n",
       "      <td>3817</td>\n",
       "    </tr>\n",
       "    <tr>\n",
       "      <td>Yo84eqYwP98</td>\n",
       "      <td>LA PIRE PARTIE ft Le Rire Jaune, Pierre Croce,...</td>\n",
       "      <td>Foreign</td>\n",
       "      <td>432721</td>\n",
       "      <td>14053</td>\n",
       "      <td>576</td>\n",
       "      <td>1161</td>\n",
       "    </tr>\n",
       "    <tr>\n",
       "      <td>ceqntSXE-10</td>\n",
       "      <td>DESSINS ANIMÉS FRANÇAIS VS RUSSES 2 - Daniil...</td>\n",
       "      <td>Family</td>\n",
       "      <td>482153</td>\n",
       "      <td>76203</td>\n",
       "      <td>477</td>\n",
       "      <td>9580</td>\n",
       "    </tr>\n",
       "    <tr>\n",
       "      <td>WuTFI5qftCE</td>\n",
       "      <td>PAPY GRENIER - METAL GEAR SOLID</td>\n",
       "      <td>Comedy</td>\n",
       "      <td>925222</td>\n",
       "      <td>85016</td>\n",
       "      <td>550</td>\n",
       "      <td>4303</td>\n",
       "    </tr>\n",
       "    <tr>\n",
       "      <td>ee6OFs8TdEg</td>\n",
       "      <td>QUI SAUTERA LE PLUS HAUT ? (VÉLO SKATE ROLLER ...</td>\n",
       "      <td>Anime/Animation</td>\n",
       "      <td>141695</td>\n",
       "      <td>8091</td>\n",
       "      <td>72</td>\n",
       "      <td>481</td>\n",
       "    </tr>\n",
       "  </tbody>\n",
       "</table>\n",
       "</div>"
      ],
      "text/plain": [
       "                                                         title  \\\n",
       "video_id                                                         \n",
       "Ro6eob0LrCY           Malika LePen : Femme de Gauche - Trailer   \n",
       "Yo84eqYwP98  LA PIRE PARTIE ft Le Rire Jaune, Pierre Croce,...   \n",
       "ceqntSXE-10  DESSINS ANIMÉS FRANÇAIS VS RUSSES 2 - Daniil...   \n",
       "WuTFI5qftCE                    PAPY GRENIER - METAL GEAR SOLID   \n",
       "ee6OFs8TdEg  QUI SAUTERA LE PLUS HAUT ? (VÉLO SKATE ROLLER ...   \n",
       "\n",
       "                    category   views  likes  dislikes  comment_count  \n",
       "video_id                                                              \n",
       "Ro6eob0LrCY          Foreign  212702  29282      1108           3817  \n",
       "Yo84eqYwP98          Foreign  432721  14053       576           1161  \n",
       "ceqntSXE-10           Family  482153  76203       477           9580  \n",
       "WuTFI5qftCE           Comedy  925222  85016       550           4303  \n",
       "ee6OFs8TdEg  Anime/Animation  141695   8091        72            481  "
      ]
     },
     "execution_count": 13,
     "metadata": {},
     "output_type": "execute_result"
    }
   ],
   "source": [
    "df.head()"
   ]
  },
  {
   "cell_type": "code",
   "execution_count": 14,
   "metadata": {
    "collapsed": true
   },
   "outputs": [
    {
     "data": {
      "text/html": [
       "<div>\n",
       "<style scoped>\n",
       "    .dataframe tbody tr th:only-of-type {\n",
       "        vertical-align: middle;\n",
       "    }\n",
       "\n",
       "    .dataframe tbody tr th {\n",
       "        vertical-align: top;\n",
       "    }\n",
       "\n",
       "    .dataframe thead tr th {\n",
       "        text-align: left;\n",
       "    }\n",
       "\n",
       "    .dataframe thead tr:last-of-type th {\n",
       "        text-align: right;\n",
       "    }\n",
       "</style>\n",
       "<table border=\"1\" class=\"dataframe\">\n",
       "  <thead>\n",
       "    <tr>\n",
       "      <th></th>\n",
       "      <th colspan=\"8\" halign=\"left\">views</th>\n",
       "      <th colspan=\"2\" halign=\"left\">likes</th>\n",
       "      <th>...</th>\n",
       "      <th colspan=\"2\" halign=\"left\">dislikes</th>\n",
       "      <th colspan=\"8\" halign=\"left\">comment_count</th>\n",
       "    </tr>\n",
       "    <tr>\n",
       "      <th></th>\n",
       "      <th>count</th>\n",
       "      <th>mean</th>\n",
       "      <th>std</th>\n",
       "      <th>min</th>\n",
       "      <th>25%</th>\n",
       "      <th>50%</th>\n",
       "      <th>75%</th>\n",
       "      <th>max</th>\n",
       "      <th>count</th>\n",
       "      <th>mean</th>\n",
       "      <th>...</th>\n",
       "      <th>75%</th>\n",
       "      <th>max</th>\n",
       "      <th>count</th>\n",
       "      <th>mean</th>\n",
       "      <th>std</th>\n",
       "      <th>min</th>\n",
       "      <th>25%</th>\n",
       "      <th>50%</th>\n",
       "      <th>75%</th>\n",
       "      <th>max</th>\n",
       "    </tr>\n",
       "    <tr>\n",
       "      <th>category</th>\n",
       "      <th></th>\n",
       "      <th></th>\n",
       "      <th></th>\n",
       "      <th></th>\n",
       "      <th></th>\n",
       "      <th></th>\n",
       "      <th></th>\n",
       "      <th></th>\n",
       "      <th></th>\n",
       "      <th></th>\n",
       "      <th></th>\n",
       "      <th></th>\n",
       "      <th></th>\n",
       "      <th></th>\n",
       "      <th></th>\n",
       "      <th></th>\n",
       "      <th></th>\n",
       "      <th></th>\n",
       "      <th></th>\n",
       "      <th></th>\n",
       "      <th></th>\n",
       "    </tr>\n",
       "  </thead>\n",
       "  <tbody>\n",
       "    <tr>\n",
       "      <td></td>\n",
       "      <td>101.0</td>\n",
       "      <td>5.132360e+05</td>\n",
       "      <td>1.839693e+05</td>\n",
       "      <td>3136.0</td>\n",
       "      <td>431551.00</td>\n",
       "      <td>510532.0</td>\n",
       "      <td>604388.00</td>\n",
       "      <td>1268075.0</td>\n",
       "      <td>101.0</td>\n",
       "      <td>2885.188119</td>\n",
       "      <td>...</td>\n",
       "      <td>1091.0</td>\n",
       "      <td>4294.0</td>\n",
       "      <td>101.0</td>\n",
       "      <td>444.376238</td>\n",
       "      <td>311.226729</td>\n",
       "      <td>0.0</td>\n",
       "      <td>279.00</td>\n",
       "      <td>342.0</td>\n",
       "      <td>563.00</td>\n",
       "      <td>2566.0</td>\n",
       "    </tr>\n",
       "    <tr>\n",
       "      <td>Anime/Animation</td>\n",
       "      <td>4342.0</td>\n",
       "      <td>4.598828e+05</td>\n",
       "      <td>1.250986e+06</td>\n",
       "      <td>374.0</td>\n",
       "      <td>21246.75</td>\n",
       "      <td>88995.0</td>\n",
       "      <td>372579.50</td>\n",
       "      <td>20761480.0</td>\n",
       "      <td>4342.0</td>\n",
       "      <td>10125.416859</td>\n",
       "      <td>...</td>\n",
       "      <td>296.0</td>\n",
       "      <td>117128.0</td>\n",
       "      <td>4342.0</td>\n",
       "      <td>1053.758176</td>\n",
       "      <td>3431.727847</td>\n",
       "      <td>0.0</td>\n",
       "      <td>46.00</td>\n",
       "      <td>241.0</td>\n",
       "      <td>692.50</td>\n",
       "      <td>51412.0</td>\n",
       "    </tr>\n",
       "    <tr>\n",
       "      <td>Autos &amp; Vehicles</td>\n",
       "      <td>2157.0</td>\n",
       "      <td>4.258308e+05</td>\n",
       "      <td>1.478270e+06</td>\n",
       "      <td>887.0</td>\n",
       "      <td>18044.00</td>\n",
       "      <td>77826.0</td>\n",
       "      <td>199353.00</td>\n",
       "      <td>22762717.0</td>\n",
       "      <td>2157.0</td>\n",
       "      <td>11419.296245</td>\n",
       "      <td>...</td>\n",
       "      <td>238.0</td>\n",
       "      <td>52292.0</td>\n",
       "      <td>2157.0</td>\n",
       "      <td>1317.410756</td>\n",
       "      <td>3864.993448</td>\n",
       "      <td>0.0</td>\n",
       "      <td>57.00</td>\n",
       "      <td>201.0</td>\n",
       "      <td>845.00</td>\n",
       "      <td>44215.0</td>\n",
       "    </tr>\n",
       "    <tr>\n",
       "      <td>Classics</td>\n",
       "      <td>119.0</td>\n",
       "      <td>8.192504e+04</td>\n",
       "      <td>1.943802e+05</td>\n",
       "      <td>944.0</td>\n",
       "      <td>5656.00</td>\n",
       "      <td>10782.0</td>\n",
       "      <td>46754.00</td>\n",
       "      <td>1150661.0</td>\n",
       "      <td>119.0</td>\n",
       "      <td>7325.831933</td>\n",
       "      <td>...</td>\n",
       "      <td>71.0</td>\n",
       "      <td>1068.0</td>\n",
       "      <td>119.0</td>\n",
       "      <td>856.235294</td>\n",
       "      <td>2541.878315</td>\n",
       "      <td>0.0</td>\n",
       "      <td>27.50</td>\n",
       "      <td>110.0</td>\n",
       "      <td>310.50</td>\n",
       "      <td>15008.0</td>\n",
       "    </tr>\n",
       "    <tr>\n",
       "      <td>Comedy</td>\n",
       "      <td>5405.0</td>\n",
       "      <td>1.012693e+06</td>\n",
       "      <td>3.437370e+06</td>\n",
       "      <td>528.0</td>\n",
       "      <td>36692.00</td>\n",
       "      <td>140885.0</td>\n",
       "      <td>582529.00</td>\n",
       "      <td>65396157.0</td>\n",
       "      <td>5405.0</td>\n",
       "      <td>55470.293802</td>\n",
       "      <td>...</td>\n",
       "      <td>779.0</td>\n",
       "      <td>164004.0</td>\n",
       "      <td>5405.0</td>\n",
       "      <td>5271.763552</td>\n",
       "      <td>28430.718071</td>\n",
       "      <td>0.0</td>\n",
       "      <td>120.00</td>\n",
       "      <td>505.0</td>\n",
       "      <td>2141.00</td>\n",
       "      <td>1040912.0</td>\n",
       "    </tr>\n",
       "    <tr>\n",
       "      <td>Drama</td>\n",
       "      <td>5719.0</td>\n",
       "      <td>2.239628e+05</td>\n",
       "      <td>1.142457e+06</td>\n",
       "      <td>543.0</td>\n",
       "      <td>10730.50</td>\n",
       "      <td>37828.0</td>\n",
       "      <td>151965.50</td>\n",
       "      <td>44818108.0</td>\n",
       "      <td>5719.0</td>\n",
       "      <td>5058.175380</td>\n",
       "      <td>...</td>\n",
       "      <td>200.0</td>\n",
       "      <td>71750.0</td>\n",
       "      <td>5719.0</td>\n",
       "      <td>717.751005</td>\n",
       "      <td>5269.481411</td>\n",
       "      <td>0.0</td>\n",
       "      <td>31.00</td>\n",
       "      <td>119.0</td>\n",
       "      <td>431.00</td>\n",
       "      <td>264405.0</td>\n",
       "    </tr>\n",
       "    <tr>\n",
       "      <td>Family</td>\n",
       "      <td>4343.0</td>\n",
       "      <td>4.366301e+05</td>\n",
       "      <td>7.616110e+05</td>\n",
       "      <td>385.0</td>\n",
       "      <td>46863.50</td>\n",
       "      <td>154879.0</td>\n",
       "      <td>499785.00</td>\n",
       "      <td>9407979.0</td>\n",
       "      <td>4343.0</td>\n",
       "      <td>30118.683859</td>\n",
       "      <td>...</td>\n",
       "      <td>647.0</td>\n",
       "      <td>33678.0</td>\n",
       "      <td>4343.0</td>\n",
       "      <td>2103.802441</td>\n",
       "      <td>7445.619356</td>\n",
       "      <td>0.0</td>\n",
       "      <td>146.00</td>\n",
       "      <td>482.0</td>\n",
       "      <td>1520.00</td>\n",
       "      <td>315801.0</td>\n",
       "    </tr>\n",
       "    <tr>\n",
       "      <td>Foreign</td>\n",
       "      <td>9819.0</td>\n",
       "      <td>3.849170e+05</td>\n",
       "      <td>1.860882e+06</td>\n",
       "      <td>223.0</td>\n",
       "      <td>27157.50</td>\n",
       "      <td>96072.0</td>\n",
       "      <td>289114.00</td>\n",
       "      <td>100911567.0</td>\n",
       "      <td>9819.0</td>\n",
       "      <td>12042.322029</td>\n",
       "      <td>...</td>\n",
       "      <td>355.0</td>\n",
       "      <td>1353661.0</td>\n",
       "      <td>9819.0</td>\n",
       "      <td>1601.988390</td>\n",
       "      <td>14793.618033</td>\n",
       "      <td>0.0</td>\n",
       "      <td>63.00</td>\n",
       "      <td>261.0</td>\n",
       "      <td>804.00</td>\n",
       "      <td>827755.0</td>\n",
       "    </tr>\n",
       "    <tr>\n",
       "      <td>Horror</td>\n",
       "      <td>3752.0</td>\n",
       "      <td>1.319418e+05</td>\n",
       "      <td>3.994979e+05</td>\n",
       "      <td>274.0</td>\n",
       "      <td>9235.50</td>\n",
       "      <td>26115.5</td>\n",
       "      <td>93103.50</td>\n",
       "      <td>7906164.0</td>\n",
       "      <td>3752.0</td>\n",
       "      <td>2479.074094</td>\n",
       "      <td>...</td>\n",
       "      <td>126.0</td>\n",
       "      <td>37610.0</td>\n",
       "      <td>3752.0</td>\n",
       "      <td>505.357409</td>\n",
       "      <td>2133.049302</td>\n",
       "      <td>0.0</td>\n",
       "      <td>29.00</td>\n",
       "      <td>103.0</td>\n",
       "      <td>339.00</td>\n",
       "      <td>64291.0</td>\n",
       "    </tr>\n",
       "    <tr>\n",
       "      <td>Music</td>\n",
       "      <td>673.0</td>\n",
       "      <td>6.502963e+04</td>\n",
       "      <td>2.808704e+05</td>\n",
       "      <td>1078.0</td>\n",
       "      <td>4644.00</td>\n",
       "      <td>19055.0</td>\n",
       "      <td>70463.00</td>\n",
       "      <td>6793122.0</td>\n",
       "      <td>673.0</td>\n",
       "      <td>2387.469539</td>\n",
       "      <td>...</td>\n",
       "      <td>80.0</td>\n",
       "      <td>5893.0</td>\n",
       "      <td>673.0</td>\n",
       "      <td>309.023774</td>\n",
       "      <td>517.150842</td>\n",
       "      <td>0.0</td>\n",
       "      <td>17.00</td>\n",
       "      <td>84.0</td>\n",
       "      <td>397.00</td>\n",
       "      <td>4462.0</td>\n",
       "    </tr>\n",
       "    <tr>\n",
       "      <td>Sci-Fi/Fantasy</td>\n",
       "      <td>2361.0</td>\n",
       "      <td>1.983670e+05</td>\n",
       "      <td>6.639337e+05</td>\n",
       "      <td>404.0</td>\n",
       "      <td>7742.00</td>\n",
       "      <td>25936.0</td>\n",
       "      <td>153121.00</td>\n",
       "      <td>10883016.0</td>\n",
       "      <td>2361.0</td>\n",
       "      <td>6573.330368</td>\n",
       "      <td>...</td>\n",
       "      <td>211.0</td>\n",
       "      <td>21627.0</td>\n",
       "      <td>2361.0</td>\n",
       "      <td>745.174926</td>\n",
       "      <td>2177.981648</td>\n",
       "      <td>0.0</td>\n",
       "      <td>62.00</td>\n",
       "      <td>195.0</td>\n",
       "      <td>770.00</td>\n",
       "      <td>54811.0</td>\n",
       "    </tr>\n",
       "    <tr>\n",
       "      <td>Science &amp; Technology</td>\n",
       "      <td>237.0</td>\n",
       "      <td>1.828660e+05</td>\n",
       "      <td>7.520963e+05</td>\n",
       "      <td>743.0</td>\n",
       "      <td>4381.00</td>\n",
       "      <td>13730.0</td>\n",
       "      <td>47832.00</td>\n",
       "      <td>7220717.0</td>\n",
       "      <td>237.0</td>\n",
       "      <td>5634.805907</td>\n",
       "      <td>...</td>\n",
       "      <td>49.0</td>\n",
       "      <td>9334.0</td>\n",
       "      <td>237.0</td>\n",
       "      <td>791.518987</td>\n",
       "      <td>3619.682621</td>\n",
       "      <td>0.0</td>\n",
       "      <td>33.00</td>\n",
       "      <td>108.0</td>\n",
       "      <td>381.00</td>\n",
       "      <td>34224.0</td>\n",
       "    </tr>\n",
       "    <tr>\n",
       "      <td>Shorts</td>\n",
       "      <td>802.0</td>\n",
       "      <td>5.760502e+05</td>\n",
       "      <td>2.007040e+06</td>\n",
       "      <td>630.0</td>\n",
       "      <td>17802.75</td>\n",
       "      <td>88244.5</td>\n",
       "      <td>389479.25</td>\n",
       "      <td>29403688.0</td>\n",
       "      <td>802.0</td>\n",
       "      <td>23084.320449</td>\n",
       "      <td>...</td>\n",
       "      <td>631.5</td>\n",
       "      <td>24543.0</td>\n",
       "      <td>802.0</td>\n",
       "      <td>3648.831671</td>\n",
       "      <td>9887.703917</td>\n",
       "      <td>0.0</td>\n",
       "      <td>144.00</td>\n",
       "      <td>570.0</td>\n",
       "      <td>2112.75</td>\n",
       "      <td>141646.0</td>\n",
       "    </tr>\n",
       "    <tr>\n",
       "      <td>Shows</td>\n",
       "      <td>114.0</td>\n",
       "      <td>5.218433e+05</td>\n",
       "      <td>2.430685e+06</td>\n",
       "      <td>1420.0</td>\n",
       "      <td>4420.25</td>\n",
       "      <td>10393.0</td>\n",
       "      <td>51094.50</td>\n",
       "      <td>19092511.0</td>\n",
       "      <td>114.0</td>\n",
       "      <td>52520.912281</td>\n",
       "      <td>...</td>\n",
       "      <td>55.0</td>\n",
       "      <td>398361.0</td>\n",
       "      <td>114.0</td>\n",
       "      <td>16215.728070</td>\n",
       "      <td>84340.250469</td>\n",
       "      <td>0.0</td>\n",
       "      <td>0.25</td>\n",
       "      <td>10.0</td>\n",
       "      <td>118.50</td>\n",
       "      <td>611327.0</td>\n",
       "    </tr>\n",
       "    <tr>\n",
       "      <td>Thriller</td>\n",
       "      <td>769.0</td>\n",
       "      <td>1.570124e+05</td>\n",
       "      <td>3.021652e+05</td>\n",
       "      <td>640.0</td>\n",
       "      <td>6806.00</td>\n",
       "      <td>28888.0</td>\n",
       "      <td>200012.00</td>\n",
       "      <td>2689851.0</td>\n",
       "      <td>769.0</td>\n",
       "      <td>10796.676203</td>\n",
       "      <td>...</td>\n",
       "      <td>289.0</td>\n",
       "      <td>9515.0</td>\n",
       "      <td>769.0</td>\n",
       "      <td>998.795839</td>\n",
       "      <td>2180.862263</td>\n",
       "      <td>0.0</td>\n",
       "      <td>41.00</td>\n",
       "      <td>201.0</td>\n",
       "      <td>1115.00</td>\n",
       "      <td>25513.0</td>\n",
       "    </tr>\n",
       "    <tr>\n",
       "      <td>Trailers</td>\n",
       "      <td>11.0</td>\n",
       "      <td>9.347400e+04</td>\n",
       "      <td>2.290961e+05</td>\n",
       "      <td>9822.0</td>\n",
       "      <td>12061.00</td>\n",
       "      <td>16801.0</td>\n",
       "      <td>33676.00</td>\n",
       "      <td>781977.0</td>\n",
       "      <td>11.0</td>\n",
       "      <td>2208.636364</td>\n",
       "      <td>...</td>\n",
       "      <td>36.0</td>\n",
       "      <td>783.0</td>\n",
       "      <td>11.0</td>\n",
       "      <td>133.363636</td>\n",
       "      <td>319.399835</td>\n",
       "      <td>17.0</td>\n",
       "      <td>33.00</td>\n",
       "      <td>42.0</td>\n",
       "      <td>44.50</td>\n",
       "      <td>1096.0</td>\n",
       "    </tr>\n",
       "  </tbody>\n",
       "</table>\n",
       "<p>16 rows × 32 columns</p>\n",
       "</div>"
      ],
      "text/plain": [
       "                       views                                                 \\\n",
       "                       count          mean           std     min        25%   \n",
       "category                                                                      \n",
       "                       101.0  5.132360e+05  1.839693e+05  3136.0  431551.00   \n",
       "Anime/Animation       4342.0  4.598828e+05  1.250986e+06   374.0   21246.75   \n",
       "Autos & Vehicles      2157.0  4.258308e+05  1.478270e+06   887.0   18044.00   \n",
       "Classics               119.0  8.192504e+04  1.943802e+05   944.0    5656.00   \n",
       "Comedy                5405.0  1.012693e+06  3.437370e+06   528.0   36692.00   \n",
       "Drama                 5719.0  2.239628e+05  1.142457e+06   543.0   10730.50   \n",
       "Family                4343.0  4.366301e+05  7.616110e+05   385.0   46863.50   \n",
       "Foreign               9819.0  3.849170e+05  1.860882e+06   223.0   27157.50   \n",
       "Horror                3752.0  1.319418e+05  3.994979e+05   274.0    9235.50   \n",
       "Music                  673.0  6.502963e+04  2.808704e+05  1078.0    4644.00   \n",
       "Sci-Fi/Fantasy        2361.0  1.983670e+05  6.639337e+05   404.0    7742.00   \n",
       "Science & Technology   237.0  1.828660e+05  7.520963e+05   743.0    4381.00   \n",
       "Shorts                 802.0  5.760502e+05  2.007040e+06   630.0   17802.75   \n",
       "Shows                  114.0  5.218433e+05  2.430685e+06  1420.0    4420.25   \n",
       "Thriller               769.0  1.570124e+05  3.021652e+05   640.0    6806.00   \n",
       "Trailers                11.0  9.347400e+04  2.290961e+05  9822.0   12061.00   \n",
       "\n",
       "                                                         likes                \\\n",
       "                           50%        75%          max   count          mean   \n",
       "category                                                                       \n",
       "                      510532.0  604388.00    1268075.0   101.0   2885.188119   \n",
       "Anime/Animation        88995.0  372579.50   20761480.0  4342.0  10125.416859   \n",
       "Autos & Vehicles       77826.0  199353.00   22762717.0  2157.0  11419.296245   \n",
       "Classics               10782.0   46754.00    1150661.0   119.0   7325.831933   \n",
       "Comedy                140885.0  582529.00   65396157.0  5405.0  55470.293802   \n",
       "Drama                  37828.0  151965.50   44818108.0  5719.0   5058.175380   \n",
       "Family                154879.0  499785.00    9407979.0  4343.0  30118.683859   \n",
       "Foreign                96072.0  289114.00  100911567.0  9819.0  12042.322029   \n",
       "Horror                 26115.5   93103.50    7906164.0  3752.0   2479.074094   \n",
       "Music                  19055.0   70463.00    6793122.0   673.0   2387.469539   \n",
       "Sci-Fi/Fantasy         25936.0  153121.00   10883016.0  2361.0   6573.330368   \n",
       "Science & Technology   13730.0   47832.00    7220717.0   237.0   5634.805907   \n",
       "Shorts                 88244.5  389479.25   29403688.0   802.0  23084.320449   \n",
       "Shows                  10393.0   51094.50   19092511.0   114.0  52520.912281   \n",
       "Thriller               28888.0  200012.00    2689851.0   769.0  10796.676203   \n",
       "Trailers               16801.0   33676.00     781977.0    11.0   2208.636364   \n",
       "\n",
       "                      ... dislikes            comment_count                \\\n",
       "                      ...      75%        max         count          mean   \n",
       "category              ...                                                   \n",
       "                      ...   1091.0     4294.0         101.0    444.376238   \n",
       "Anime/Animation       ...    296.0   117128.0        4342.0   1053.758176   \n",
       "Autos & Vehicles      ...    238.0    52292.0        2157.0   1317.410756   \n",
       "Classics              ...     71.0     1068.0         119.0    856.235294   \n",
       "Comedy                ...    779.0   164004.0        5405.0   5271.763552   \n",
       "Drama                 ...    200.0    71750.0        5719.0    717.751005   \n",
       "Family                ...    647.0    33678.0        4343.0   2103.802441   \n",
       "Foreign               ...    355.0  1353661.0        9819.0   1601.988390   \n",
       "Horror                ...    126.0    37610.0        3752.0    505.357409   \n",
       "Music                 ...     80.0     5893.0         673.0    309.023774   \n",
       "Sci-Fi/Fantasy        ...    211.0    21627.0        2361.0    745.174926   \n",
       "Science & Technology  ...     49.0     9334.0         237.0    791.518987   \n",
       "Shorts                ...    631.5    24543.0         802.0   3648.831671   \n",
       "Shows                 ...     55.0   398361.0         114.0  16215.728070   \n",
       "Thriller              ...    289.0     9515.0         769.0    998.795839   \n",
       "Trailers              ...     36.0      783.0          11.0    133.363636   \n",
       "\n",
       "                                                                             \n",
       "                               std   min     25%    50%      75%        max  \n",
       "category                                                                     \n",
       "                        311.226729   0.0  279.00  342.0   563.00     2566.0  \n",
       "Anime/Animation        3431.727847   0.0   46.00  241.0   692.50    51412.0  \n",
       "Autos & Vehicles       3864.993448   0.0   57.00  201.0   845.00    44215.0  \n",
       "Classics               2541.878315   0.0   27.50  110.0   310.50    15008.0  \n",
       "Comedy                28430.718071   0.0  120.00  505.0  2141.00  1040912.0  \n",
       "Drama                  5269.481411   0.0   31.00  119.0   431.00   264405.0  \n",
       "Family                 7445.619356   0.0  146.00  482.0  1520.00   315801.0  \n",
       "Foreign               14793.618033   0.0   63.00  261.0   804.00   827755.0  \n",
       "Horror                 2133.049302   0.0   29.00  103.0   339.00    64291.0  \n",
       "Music                   517.150842   0.0   17.00   84.0   397.00     4462.0  \n",
       "Sci-Fi/Fantasy         2177.981648   0.0   62.00  195.0   770.00    54811.0  \n",
       "Science & Technology   3619.682621   0.0   33.00  108.0   381.00    34224.0  \n",
       "Shorts                 9887.703917   0.0  144.00  570.0  2112.75   141646.0  \n",
       "Shows                 84340.250469   0.0    0.25   10.0   118.50   611327.0  \n",
       "Thriller               2180.862263   0.0   41.00  201.0  1115.00    25513.0  \n",
       "Trailers                319.399835  17.0   33.00   42.0    44.50     1096.0  \n",
       "\n",
       "[16 rows x 32 columns]"
      ]
     },
     "execution_count": 14,
     "metadata": {},
     "output_type": "execute_result"
    }
   ],
   "source": [
    "df.groupby(by=\"category\").describe()"
   ]
  },
  {
   "cell_type": "markdown",
   "metadata": {},
   "source": [
    "### Reduction du jeu de donnéés"
   ]
  },
  {
   "cell_type": "markdown",
   "metadata": {},
   "source": [
    "##### 200 entrées"
   ]
  },
  {
   "cell_type": "code",
   "execution_count": 15,
   "metadata": {},
   "outputs": [],
   "source": [
    "df = df.iloc[0:200, :]"
   ]
  },
  {
   "cell_type": "code",
   "execution_count": 16,
   "metadata": {},
   "outputs": [
    {
     "data": {
      "text/plain": [
       "(200, 6)"
      ]
     },
     "execution_count": 16,
     "metadata": {},
     "output_type": "execute_result"
    }
   ],
   "source": [
    "df.shape"
   ]
  },
  {
   "cell_type": "markdown",
   "metadata": {},
   "source": [
    "### Views / Catégories"
   ]
  },
  {
   "cell_type": "code",
   "execution_count": 17,
   "metadata": {
    "scrolled": false
   },
   "outputs": [
    {
     "data": {
      "image/png": "[encoded data removed]",
      "text/plain": [
       "<Figure size 1296x576 with 1 Axes>"
      ]
     },
     "metadata": {
      "needs_background": "light"
     },
     "output_type": "display_data"
    }
   ],
   "source": [
    "plt.figure(figsize=(18,8))\n",
    "\n",
    "plt.bar(df[\"category\"], df[\"views\"])\n",
    "plt.xticks(rotation=70, size=15)\n",
    "plt.yticks(size=15)\n",
    "\n",
    "plt.title(\"Nombre de vues / Catégories\", size=35)\n",
    "\n",
    "plt.show()"
   ]
  },
  {
   "cell_type": "markdown",
   "metadata": {},
   "source": [
    "### Likes / Catégories"
   ]
  },
  {
   "cell_type": "code",
   "execution_count": 18,
   "metadata": {},
   "outputs": [
    {
     "data": {
      "image/png": "[encoded data removed]",
      "text/plain": [
       "<Figure size 1296x576 with 1 Axes>"
      ]
     },
     "metadata": {
      "needs_background": "light"
     },
     "output_type": "display_data"
    }
   ],
   "source": [
    "plt.figure(figsize=(18,8))\n",
    "\n",
    "plt.bar(df[\"category\"], df[\"likes\"], color=\"g\")\n",
    "plt.xticks(rotation=70, size=15)\n",
    "plt.yticks(size=15)\n",
    "\n",
    "plt.title(\"Nombre de likes / Catégories\", size=35)\n",
    "\n",
    "plt.show()"
   ]
  },
  {
   "cell_type": "markdown",
   "metadata": {},
   "source": [
    "### Dislikes / Catégories"
   ]
  },
  {
   "cell_type": "code",
   "execution_count": 19,
   "metadata": {},
   "outputs": [
    {
     "data": {
      "image/png": "[encoded data removed]",
      "text/plain": [
       "<Figure size 1296x576 with 1 Axes>"
      ]
     },
     "metadata": {
      "needs_background": "light"
     },
     "output_type": "display_data"
    }
   ],
   "source": [
    "plt.figure(figsize=(18,8))\n",
    "\n",
    "plt.bar(df[\"category\"], df[\"dislikes\"], color=\"r\")\n",
    "plt.xticks(rotation=70, size=15)\n",
    "plt.yticks(size=15)\n",
    "\n",
    "plt.title(\"Nombre de dislikes / Catégories\", size=35)\n",
    "\n",
    "plt.show()"
   ]
  },
  {
   "cell_type": "markdown",
   "metadata": {},
   "source": [
    "### Comments / Catégories"
   ]
  },
  {
   "cell_type": "code",
   "execution_count": 20,
   "metadata": {},
   "outputs": [
    {
     "data": {
      "image/png": "[encoded data removed]",
      "text/plain": [
       "<Figure size 1296x576 with 1 Axes>"
      ]
     },
     "metadata": {
      "needs_background": "light"
     },
     "output_type": "display_data"
    }
   ],
   "source": [
    "plt.figure(figsize=(18,8))\n",
    "\n",
    "plt.bar(df[\"category\"], df[\"comment_count\"], color=\"y\")\n",
    "plt.xticks(rotation=70, size=15)\n",
    "plt.yticks(size=15)\n",
    "\n",
    "plt.title(\"Nombre de commentaires / Catégories\", size=35)\n",
    "\n",
    "plt.show()"
   ]
  },
  {
   "cell_type": "code",
   "execution_count": null,
   "metadata": {},
   "outputs": [],
   "source": []
  },
  {
   "cell_type": "code",
   "execution_count": 21,
   "metadata": {},
   "outputs": [],
   "source": [
    "df = df.iloc[0:200, :]"
   ]
  },
  {
   "cell_type": "code",
   "execution_count": 22,
   "metadata": {
    "scrolled": false
   },
   "outputs": [
    {
     "data": {
      "image/png": "[encoded data removed]",
      "text/plain": [
       "<Figure size 1296x576 with 1 Axes>"
      ]
     },
     "metadata": {
      "needs_background": "light"
     },
     "output_type": "display_data"
    }
   ],
   "source": [
    "plt.figure(figsize=(18,8))\n",
    "\n",
    "#plt.bar(df[\"category\"], df[\"views\"])\n",
    "plt.bar(df[\"category\"], df[\"likes\"], width=0.3, align=\"edge\", color=\"g\")\n",
    "plt.bar(df[\"category\"], df[\"dislikes\"], width=-0.3, align=\"edge\", color=\"r\")\n",
    "plt.bar(df[\"category\"], df[\"comment_count\"], width=0.3, align=\"center\", color=\"y\")\n",
    "\n",
    "\n",
    "plt.xticks(rotation=70, size=15)\n",
    "plt.yticks(size=15)\n",
    "\n",
    "plt.ylim(0,300000)\n",
    "\n",
    "plt.title(\"Nombre de likes, dislikes, comment / Catégories\", size=35)\n",
    "\n",
    "plt.show()"
   ]
  },
  {
   "cell_type": "code",
   "execution_count": null,
   "metadata": {},
   "outputs": [],
   "source": []
  },
  {
   "cell_type": "markdown",
   "metadata": {},
   "source": [
    "## Travail sur les mots-clés"
   ]
  },
  {
   "cell_type": "code",
   "execution_count": 23,
   "metadata": {
    "scrolled": true
   },
   "outputs": [
    {
     "data": {
      "text/plain": [
       "video_id\n",
       "Ro6eob0LrCY    Raptor\"|\"Dissident\"|\"Expliquez\"|\"moi\"|\"cette\"|...\n",
       "Yo84eqYwP98                                               [none]\n",
       "ceqntSXE-10        cartoon\"|\"pokémon\"|\"école\"|\"ours\"|\"мультфильм\n",
       "WuTFI5qftCE    Papy grenier\"|\"Metal Gear Solid\"|\"PS1\"|\"Tirage...\n",
       "ee6OFs8TdEg    vélo\"|\"vtt\"|\"bmx\"|\"freestyle\"|\"bike\"|\"mtb\"|\"di...\n",
       "                                     ...                        \n",
       "coVXf3Q9xBk    تنظيم كأس العالم 2026|\"كأس العالم 2026\"|\"المغر...\n",
       "_umkjOQJvtw    الباكالوريا في المغرب|\"صحاب الباك\"|\"صحاب الباك...\n",
       "nt25ec7nzIM    RushManga|\"rush manga\"|\"anime a voir\"|\"UN ANIM...\n",
       "NlxE_QQMRzg    Նռան հատիկ|\"Սերիա 192\"|\"Pomegranate seed\"|\"Nra...\n",
       "_LgKglfnqlc                    ramadan2018|\"koorgui\"|\"Mandoumbé\"\n",
       "Name: tags, Length: 40724, dtype: object"
      ]
     },
     "execution_count": 23,
     "metadata": {},
     "output_type": "execute_result"
    }
   ],
   "source": [
    "tags = data_fr[\"tags\"]\n",
    "#tags = tags[0:200]\n",
    "tags"
   ]
  },
  {
   "cell_type": "code",
   "execution_count": 24,
   "metadata": {},
   "outputs": [],
   "source": [
    "def supprime_accent(ligne):\n",
    "        \"\"\" supprime les accents du texte source \"\"\"\n",
    "        accent = ['é', 'è', 'ê', 'à', 'ù', 'û', 'ç', 'ô', 'î', 'ï', 'â']\n",
    "        sans_accent = ['e', 'e', 'e', 'a', 'u', 'u', 'c', 'o', 'i', 'i', 'a']\n",
    "        i = 0\n",
    "        while i < len(accent):\n",
    "            ligne = ligne.replace(accent[i], sans_accent[i])\n",
    "            i += 1\n",
    "        return ligne"
   ]
  },
  {
   "cell_type": "code",
   "execution_count": 25,
   "metadata": {},
   "outputs": [],
   "source": [
    "#data_fr = data_fr.iloc[0:200,:]\n",
    "#data_fr.head()"
   ]
  },
  {
   "cell_type": "code",
   "execution_count": null,
   "metadata": {},
   "outputs": [],
   "source": []
  },
  {
   "cell_type": "code",
   "execution_count": 26,
   "metadata": {},
   "outputs": [
    {
     "data": {
      "text/plain": [
       "(43, 16)"
      ]
     },
     "execution_count": 26,
     "metadata": {},
     "output_type": "execute_result"
    }
   ],
   "source": [
    "mot = \"ecole\"\n",
    "filtre = data_fr[\"tags\"].str.contains(mot)\n",
    "data_fr[filtre].shape"
   ]
  },
  {
   "cell_type": "code",
   "execution_count": 27,
   "metadata": {},
   "outputs": [
    {
     "name": "stdout",
     "output_type": "stream",
     "text": [
      "['pierre\"|\"croce\"|\"pierrecroce\"|\"power\"|\"point\"|\"powerpoint\"|\"slides\"|\"slide\"|\"humour\"|\"graphiques\"|\"graphique\"|\"schéma\"|\"schémas\"|\"diapos\"|\"diapositives\"|\"diapo\"|\"diapositive\"|\"funny\"|\"marrante\"|\"drole\"|\"vidéo\"|\"vidéos\"|\"youtubeur\"|\"lol\"|\"fun\"|\"comedie\"|\"comedy\"|\"comedien\"|\"spectacle\"|\"participation\"|\"votre\"|\"vous\"|\"abonnés']\n"
     ]
    }
   ],
   "source": [
    "a = data_fr[\"tags\"][data_fr.index == \"kn-pu9awJaY\"].values\n",
    "print(a)"
   ]
  },
  {
   "cell_type": "code",
   "execution_count": null,
   "metadata": {},
   "outputs": [],
   "source": []
  },
  {
   "cell_type": "code",
   "execution_count": null,
   "metadata": {},
   "outputs": [],
   "source": []
  },
  {
   "cell_type": "code",
   "execution_count": null,
   "metadata": {},
   "outputs": [],
   "source": []
  },
  {
   "cell_type": "code",
   "execution_count": null,
   "metadata": {},
   "outputs": [],
   "source": []
  },
  {
   "cell_type": "code",
   "execution_count": null,
   "metadata": {},
   "outputs": [],
   "source": []
  },
  {
   "cell_type": "code",
   "execution_count": null,
   "metadata": {},
   "outputs": [],
   "source": []
  },
  {
   "cell_type": "code",
   "execution_count": null,
   "metadata": {},
   "outputs": [],
   "source": []
  },
  {
   "cell_type": "code",
   "execution_count": null,
   "metadata": {
    "scrolled": true
   },
   "outputs": [],
   "source": [
    "for x, y in data_fr[\"tags\"].items():\n",
    "    y = y.lower()\n",
    "    result = supprime_accent(y)\n",
    "#    result = result.split('\"|\"')\n",
    "#    print(result)\n",
    "    data_fr[data_fr[\"tags\"] == x] = result\n",
    "data_fr"
   ]
  },
  {
   "cell_type": "code",
   "execution_count": null,
   "metadata": {},
   "outputs": [],
   "source": [
    "dico_tags = {}\n",
    "for x in tags:\n",
    "    \n",
    "    x = x.split('\"|\"')\n",
    "    for x in x:\n",
    "        if x in dico_tags.keys():\n",
    "            dico_tags[x] += 1\n",
    "        else:\n",
    "            dico_tags[x] = 1"
   ]
  },
  {
   "cell_type": "code",
   "execution_count": null,
   "metadata": {},
   "outputs": [],
   "source": [
    "len(dico_tags.keys())"
   ]
  },
  {
   "cell_type": "code",
   "execution_count": null,
   "metadata": {
    "scrolled": false
   },
   "outputs": [],
   "source": [
    "dico_tags_sorted = sorted(dico_tags.items(),key=lambda c:c[1], reverse=True)\n",
    "dico_tags_sorted"
   ]
  },
  {
   "cell_type": "code",
   "execution_count": null,
   "metadata": {},
   "outputs": [],
   "source": []
  },
  {
   "cell_type": "code",
   "execution_count": null,
   "metadata": {},
   "outputs": [],
   "source": []
  },
  {
   "cell_type": "code",
   "execution_count": null,
   "metadata": {},
   "outputs": [],
   "source": []
  },
  {
   "cell_type": "code",
   "execution_count": null,
   "metadata": {},
   "outputs": [],
   "source": []
  },
  {
   "cell_type": "code",
   "execution_count": null,
   "metadata": {},
   "outputs": [],
   "source": []
  },
  {
   "cell_type": "code",
   "execution_count": null,
   "metadata": {},
   "outputs": [],
   "source": []
  },
  {
   "cell_type": "code",
   "execution_count": null,
   "metadata": {},
   "outputs": [],
   "source": []
  },
  {
   "cell_type": "code",
   "execution_count": null,
   "metadata": {},
   "outputs": [],
   "source": []
  },
  {
   "cell_type": "code",
   "execution_count": null,
   "metadata": {},
   "outputs": [],
   "source": [
    "dico_tags.sort()"
   ]
  },
  {
   "cell_type": "code",
   "execution_count": null,
   "metadata": {},
   "outputs": [],
   "source": [
    "for key, val in sorted(dico_tags, key=dico_tags.values()):\n",
    "    print(key, val)\n",
    "\n",
    "\n",
    "#sorted(dico_tags.values(), reverse=True)"
   ]
  },
  {
   "cell_type": "code",
   "execution_count": null,
   "metadata": {},
   "outputs": [],
   "source": []
  },
  {
   "cell_type": "code",
   "execution_count": null,
   "metadata": {},
   "outputs": [],
   "source": []
  },
  {
   "cell_type": "code",
   "execution_count": null,
   "metadata": {},
   "outputs": [],
   "source": []
  }
 ],
 "metadata": {
  "kernelspec": {
   "display_name": "Python 3",
   "language": "python",
   "name": "python3"
  },
  "language_info": {
   "codemirror_mode": {
    "name": "ipython",
    "version": 3
   },
   "file_extension": ".py",
   "mimetype": "text/x-python",
   "name": "python",
   "nbconvert_exporter": "python",
   "pygments_lexer": "ipython3",
   "version": "3.7.4"
  }
 },
 "nbformat": 4,
 "nbformat_minor": 2
}
